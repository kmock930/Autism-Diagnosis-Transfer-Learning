{
 "cells": [
  {
   "cell_type": "code",
   "id": "initial_id",
   "metadata": {
    "collapsed": true,
    "ExecuteTime": {
     "end_time": "2024-11-08T20:57:56.309544Z",
     "start_time": "2024-11-08T20:57:52.568813Z"
    }
   },
   "source": [
    "import os\n",
    "import random\n",
    "import numpy as np\n",
    "import tensorflow as tf\n",
    "\n",
    "from tensorflow.keras import layers, models, losses, optimizers, metrics\n",
    "\n",
    "from model_train import load_i3d_model, supervised_contrastive_loss\n",
    "from data_uniform_sup import VideoDataGenerator\n",
    "from paired_generator import PairedDataGenerator"
   ],
   "outputs": [],
   "execution_count": 1
  },
  {
   "metadata": {
    "ExecuteTime": {
     "end_time": "2024-11-08T20:57:56.325544Z",
     "start_time": "2024-11-08T20:57:56.313544Z"
    }
   },
   "cell_type": "code",
   "source": [
    "seed = 2042\n",
    "np.random.seed(seed)\n",
    "random.seed(seed)\n",
    "tf.random.set_seed(seed)"
   ],
   "id": "dd29972a569d4e84",
   "outputs": [],
   "execution_count": 2
  },
  {
   "metadata": {
    "ExecuteTime": {
     "end_time": "2024-11-08T20:57:56.404839Z",
     "start_time": "2024-11-08T20:57:56.391152Z"
    }
   },
   "cell_type": "code",
   "source": [
    "# Define dataset paths\n",
    "violence_negative_dir = './data/violence_dataset/NonViolence'\n",
    "violence_positive_dir = './data/violence_dataset/Violence'\n",
    "tiktok_negative_dir = './data/tiktok/train/Safe'\n",
    "tiktok_positive_dir = './data/tiktok/train/Harmful Content'\n"
   ],
   "id": "38b4e7f27f35b855",
   "outputs": [],
   "execution_count": 3
  },
  {
   "metadata": {
    "ExecuteTime": {
     "end_time": "2024-11-08T20:57:56.434783Z",
     "start_time": "2024-11-08T20:57:56.420444Z"
    }
   },
   "cell_type": "code",
   "source": [
    "def sample_videos(directory, num_samples=100):\n",
    "    all_videos = [os.path.join(directory, f) for f in os.listdir(directory) if f.endswith('.mp4')]\n",
    "    sampled_videos = random.sample(all_videos, min(num_samples, len(all_videos)))\n",
    "    return sampled_videos\n"
   ],
   "id": "69be9a7b8c19f6d5",
   "outputs": [],
   "execution_count": 4
  },
  {
   "metadata": {
    "ExecuteTime": {
     "end_time": "2024-11-08T20:57:56.466847Z",
     "start_time": "2024-11-08T20:57:56.452518Z"
    }
   },
   "cell_type": "code",
   "source": [
    "# Violence dataset\n",
    "violence_negative_videos = sample_videos(violence_negative_dir, 100)\n",
    "violence_positive_videos = sample_videos(violence_positive_dir, 100)\n",
    "\n",
    "# TikTok dataset\n",
    "tiktok_negative_videos = sample_videos(tiktok_negative_dir, 100)\n",
    "tiktok_positive_videos = sample_videos(tiktok_positive_dir, 100)\n"
   ],
   "id": "43cccf67e2dcc321",
   "outputs": [],
   "execution_count": 5
  },
  {
   "metadata": {
    "ExecuteTime": {
     "end_time": "2024-11-08T20:57:56.498859Z",
     "start_time": "2024-11-08T20:57:56.482850Z"
    }
   },
   "cell_type": "code",
   "source": [
    "def split_data(negative_videos, positive_videos, train_ratio=0.55, val_ratio=0.15):\n",
    "    # Combine and shuffle\n",
    "    videos = negative_videos + positive_videos\n",
    "    labels = [0]*len(negative_videos) + [1]*len(positive_videos)\n",
    "    combined = list(zip(videos, labels))\n",
    "    random.shuffle(combined)\n",
    "    videos[:], labels[:] = zip(*combined)\n",
    "    \n",
    "    # Calculate split indices\n",
    "    total = len(videos)\n",
    "    train_end = int(total * train_ratio)\n",
    "    val_end = train_end + int(total * val_ratio)\n",
    "    \n",
    "    # Split data\n",
    "    train_videos = videos[:train_end]\n",
    "    train_labels = labels[:train_end]\n",
    "    val_videos = videos[train_end:val_end]\n",
    "    val_labels = labels[train_end:val_end]\n",
    "    test_videos = videos[val_end:]\n",
    "    test_labels = labels[val_end:]\n",
    "    \n",
    "    return (train_videos, train_labels), (val_videos, val_labels), (test_videos, test_labels)\n"
   ],
   "id": "f8fa8efe1d13ebf5",
   "outputs": [],
   "execution_count": 6
  },
  {
   "metadata": {
    "ExecuteTime": {
     "end_time": "2024-11-08T20:57:56.526859Z",
     "start_time": "2024-11-08T20:57:56.514859Z"
    }
   },
   "cell_type": "code",
   "source": [
    "# Violence dataset\n",
    "(violence_train_videos, violence_train_labels), \\\n",
    "(violence_val_videos, violence_val_labels), \\\n",
    "(violence_test_videos, violence_test_labels) = split_data(violence_negative_videos, violence_positive_videos)\n",
    "\n",
    "# TikTok dataset\n",
    "(tiktok_train_videos, tiktok_train_labels), \\\n",
    "(tiktok_val_videos, tiktok_val_labels), \\\n",
    "(tiktok_test_videos, tiktok_test_labels) = split_data(tiktok_negative_videos, tiktok_positive_videos)\n"
   ],
   "id": "17bc85a97ca94a61",
   "outputs": [],
   "execution_count": 7
  },
  {
   "metadata": {
    "ExecuteTime": {
     "end_time": "2024-11-08T20:57:56.556585Z",
     "start_time": "2024-11-08T20:57:56.544199Z"
    }
   },
   "cell_type": "code",
   "source": [
    "from tensorflow.keras.utils import to_categorical\n",
    "\n",
    "# Convert labels to numpy arrays and one-hot encode them if necessary\n",
    "def prepare_labels(labels):\n",
    "    return np.array(labels)\n",
    "\n",
    "# Violence dataset generators\n",
    "violence_train_labels_np = prepare_labels(violence_train_labels)\n",
    "violence_val_labels_np = prepare_labels(violence_val_labels)\n",
    "violence_test_labels_np = prepare_labels(violence_test_labels)\n",
    "\n",
    "violence_train_generator = VideoDataGenerator(violence_train_videos, violence_train_labels_np, batch_size=4, shuffle=True, augment=True)\n",
    "violence_val_generator = VideoDataGenerator(violence_val_videos, violence_val_labels_np, batch_size=4, shuffle=False)\n",
    "violence_test_generator = VideoDataGenerator(violence_test_videos, violence_test_labels_np, batch_size=4, shuffle=False)"
   ],
   "id": "f150cbe36dce5ba1",
   "outputs": [],
   "execution_count": 8
  },
  {
   "metadata": {
    "ExecuteTime": {
     "end_time": "2024-11-08T20:57:56.586870Z",
     "start_time": "2024-11-08T20:57:56.570862Z"
    }
   },
   "cell_type": "code",
   "source": [
    "\n",
    "# TikTok dataset generators\n",
    "tiktok_train_labels_np = prepare_labels(tiktok_train_labels)\n",
    "tiktok_val_labels_np = prepare_labels(tiktok_val_labels)\n",
    "tiktok_test_labels_np = prepare_labels(tiktok_test_labels)\n",
    "\n",
    "tiktok_train_generator = VideoDataGenerator(tiktok_train_videos, tiktok_train_labels_np, batch_size=4, shuffle=True, augment=True)\n",
    "tiktok_val_generator = VideoDataGenerator(tiktok_val_videos, tiktok_val_labels_np, batch_size=4, shuffle=False)\n",
    "tiktok_test_generator = VideoDataGenerator(tiktok_test_videos, tiktok_test_labels_np, batch_size=4, shuffle=False)\n"
   ],
   "id": "b129d04af287a968",
   "outputs": [],
   "execution_count": 9
  },
  {
   "metadata": {
    "ExecuteTime": {
     "end_time": "2024-11-08T20:57:59.782523Z",
     "start_time": "2024-11-08T20:57:56.604569Z"
    }
   },
   "cell_type": "code",
   "source": [
    "\n",
    "input_shape = (64, 224, 224, 3)  # As defined in your data generator\n",
    "num_classes = 2  # Harmful or Safe\n",
    "\n",
    "# Load the model\n",
    "model = load_i3d_model(input_shape=input_shape)\n"
   ],
   "id": "b4c77a016021fe8f",
   "outputs": [],
   "execution_count": 10
  },
  {
   "metadata": {
    "ExecuteTime": {
     "end_time": "2024-11-08T20:57:59.829628Z",
     "start_time": "2024-11-08T20:57:59.798533Z"
    }
   },
   "cell_type": "code",
   "source": [
    "# Modify the model to output class probabilities\n",
    "\n",
    "\n",
    "# Freeze the base model if desired\n",
    "for layer in model.layers:\n",
    "    layer.trainable = False\n",
    "\n",
    "# Add classification layer\n",
    "features = model.output\n",
    "outputs = layers.Dense(num_classes, activation='softmax')(features)\n",
    "classification_model = models.Model(inputs=model.input, outputs=outputs)\n",
    "\n",
    "# Compile the model\n",
    "classification_model.compile(\n",
    "    loss=losses.SparseCategoricalCrossentropy(),\n",
    "    optimizer=optimizers.Adam(learning_rate=1e-4),\n",
    "    metrics=[metrics.SparseCategoricalAccuracy()]\n",
    ")\n"
   ],
   "id": "600a86c162f46bac",
   "outputs": [],
   "execution_count": 11
  },
  {
   "metadata": {
    "ExecuteTime": {
     "end_time": "2024-11-08T20:54:42.092319Z",
     "start_time": "2024-11-08T20:50:45.033711Z"
    }
   },
   "cell_type": "code",
   "source": [
    "# Train on Violence dataset\n",
    "history_violence = classification_model.fit(\n",
    "    violence_train_generator,\n",
    "    validation_data=violence_val_generator,\n",
    "    epochs=10\n",
    ")\n"
   ],
   "id": "80ad2bb7d4358a76",
   "outputs": [
    {
     "name": "stdout",
     "output_type": "stream",
     "text": [
      "Epoch 1/10\n",
      "27/27 [==============================] - 36s 898ms/step - loss: 1.4910 - sparse_categorical_accuracy: 0.3981 - val_loss: 1.1193 - val_sparse_categorical_accuracy: 0.5000\n",
      "Epoch 2/10\n",
      "27/27 [==============================] - 22s 824ms/step - loss: 1.3366 - sparse_categorical_accuracy: 0.4259 - val_loss: 0.9518 - val_sparse_categorical_accuracy: 0.5357\n",
      "Epoch 3/10\n",
      "27/27 [==============================] - 22s 824ms/step - loss: 1.3417 - sparse_categorical_accuracy: 0.4444 - val_loss: 0.8691 - val_sparse_categorical_accuracy: 0.5714\n",
      "Epoch 4/10\n",
      "27/27 [==============================] - 22s 830ms/step - loss: 1.3384 - sparse_categorical_accuracy: 0.4167 - val_loss: 0.7444 - val_sparse_categorical_accuracy: 0.5714\n",
      "Epoch 5/10\n",
      "27/27 [==============================] - 22s 816ms/step - loss: 1.1201 - sparse_categorical_accuracy: 0.4352 - val_loss: 0.6480 - val_sparse_categorical_accuracy: 0.7500\n",
      "Epoch 6/10\n",
      "27/27 [==============================] - 22s 812ms/step - loss: 1.0285 - sparse_categorical_accuracy: 0.4861 - val_loss: 0.8944 - val_sparse_categorical_accuracy: 0.5357\n",
      "Epoch 7/10\n",
      "27/27 [==============================] - 22s 828ms/step - loss: 1.0712 - sparse_categorical_accuracy: 0.4861 - val_loss: 0.8228 - val_sparse_categorical_accuracy: 0.5357\n",
      "Epoch 8/10\n",
      "27/27 [==============================] - 22s 820ms/step - loss: 0.9842 - sparse_categorical_accuracy: 0.5417 - val_loss: 0.5782 - val_sparse_categorical_accuracy: 0.7500\n",
      "Epoch 9/10\n",
      "27/27 [==============================] - 22s 826ms/step - loss: 0.9898 - sparse_categorical_accuracy: 0.5185 - val_loss: 0.6675 - val_sparse_categorical_accuracy: 0.6429\n",
      "Epoch 10/10\n",
      "27/27 [==============================] - 22s 814ms/step - loss: 0.8438 - sparse_categorical_accuracy: 0.5509 - val_loss: 0.6758 - val_sparse_categorical_accuracy: 0.6429\n"
     ]
    }
   ],
   "execution_count": 12
  },
  {
   "metadata": {
    "ExecuteTime": {
     "end_time": "2024-11-08T20:54:53.183836Z",
     "start_time": "2024-11-08T20:54:45.044990Z"
    }
   },
   "cell_type": "code",
   "source": [
    "# Evaluate on Violence test set\n",
    "results_violence = classification_model.evaluate(violence_test_generator)\n",
    "print(f\"Violence Dataset - Test Loss: {results_violence[0]}, Test Accuracy: {results_violence[1]}\")\n"
   ],
   "id": "63b234494c99c2b5",
   "outputs": [
    {
     "name": "stdout",
     "output_type": "stream",
     "text": [
      "15/15 [==============================] - 8s 484ms/step - loss: 0.8110 - sparse_categorical_accuracy: 0.5000\n",
      "Violence Dataset - Test Loss: 0.8109877705574036, Test Accuracy: 0.5\n"
     ]
    }
   ],
   "execution_count": 13
  },
  {
   "metadata": {
    "ExecuteTime": {
     "end_time": "2024-11-08T21:03:41.249990Z",
     "start_time": "2024-11-08T20:58:02.115824Z"
    }
   },
   "cell_type": "code",
   "source": [
    "history_tiktok = classification_model.fit(\n",
    "    tiktok_train_generator,\n",
    "    validation_data=tiktok_val_generator,\n",
    "    epochs=10\n",
    ")\n",
    "\n",
    "# Evaluate on TikTok test set\n",
    "results_tiktok = classification_model.evaluate(tiktok_test_generator)\n",
    "print(f\"TikTok Dataset - Test Loss: {results_tiktok[0]}, Test Accuracy: {results_tiktok[1]}\")"
   ],
   "id": "7b2014bcbf1669c9",
   "outputs": [
    {
     "name": "stdout",
     "output_type": "stream",
     "text": [
      "Epoch 1/10\n",
      "27/27 [==============================] - 259s 9s/step - loss: 0.9250 - sparse_categorical_accuracy: 0.5324 - val_loss: 0.9092 - val_sparse_categorical_accuracy: 0.5357\n",
      "Epoch 2/10\n",
      " 8/27 [=======>......................] - ETA: 2:31 - loss: 0.8371 - sparse_categorical_accuracy: 0.5000"
     ]
    },
    {
     "name": "stderr",
     "output_type": "stream",
     "text": [
      "\n",
      "KeyboardInterrupt\n",
      "\n"
     ]
    }
   ],
   "execution_count": 12
  },
  {
   "metadata": {},
   "cell_type": "markdown",
   "source": "## MSupCL implementation",
   "id": "dcd22c96fe0ecab0"
  },
  {
   "metadata": {},
   "cell_type": "code",
   "outputs": [],
   "execution_count": null,
   "source": [
    "# Combine training data from both datasets\n",
    "combined_train_videos = violence_train_videos + tiktok_train_videos\n",
    "combined_train_labels = violence_train_labels_np.tolist() + tiktok_train_labels_np.tolist()\n",
    "\n",
    "# Create a combined data generator\n",
    "combined_train_generator = VideoDataGenerator(combined_train_videos, combined_train_labels, batch_size=4, shuffle=True, augment=True)\n"
   ],
   "id": "bddde4c8d28478eb"
  },
  {
   "metadata": {},
   "cell_type": "code",
   "outputs": [],
   "execution_count": null,
   "source": [
    "\n",
    "\n",
    "# Create separate generators for violence and tiktok datasets\n",
    "violence_train_generator_no_aug = VideoDataGenerator(violence_train_videos, violence_train_labels_np, batch_size=4, shuffle=True, augment=False)\n",
    "tiktok_train_generator_no_aug = VideoDataGenerator(tiktok_train_videos, tiktok_train_labels_np, batch_size=4, shuffle=True, augment=False)\n",
    "\n",
    "# Create paired data generator\n",
    "paired_train_generator = PairedDataGenerator(violence_train_generator_no_aug, tiktok_train_generator_no_aug)\n",
    "\n",
    "\n"
   ],
   "id": "42ada6d418c9fe4e"
  },
  {
   "metadata": {},
   "cell_type": "code",
   "outputs": [],
   "execution_count": null,
   "source": [
    "def train_msupcl_model(model, paired_train_generator, epochs=10, temperature=0.07):\n",
    "    optimizer = optimizers.Adam(learning_rate=1e-4)\n",
    "    for epoch in range(epochs):\n",
    "        print(f\"Epoch {epoch + 1}/{epochs}\")\n",
    "        epoch_loss_avg = tf.keras.metrics.Mean()\n",
    "        for step in range(len(paired_train_generator)):\n",
    "            (X1_batch, X2_batch), y_batch = paired_train_generator[step]\n",
    "            with tf.GradientTape() as tape:\n",
    "                features1 = model(X1_batch, training=True)\n",
    "                features2 = model(X2_batch, training=True)\n",
    "                # Concatenate features and labels\n",
    "                features = tf.concat([features1, features2], axis=0)\n",
    "                labels = tf.concat([y_batch, y_batch], axis=0)\n",
    "                loss = supervised_contrastive_loss(labels, features, temperature)\n",
    "            gradients = tape.gradient(loss, model.trainable_variables)\n",
    "            optimizer.apply_gradients(zip(gradients, model.trainable_variables))\n",
    "            epoch_loss_avg.update_state(loss)\n",
    "        print(f\"Training Loss: {epoch_loss_avg.result():.4f}\")\n"
   ],
   "id": "899d5d28e53bef61"
  },
  {
   "metadata": {},
   "cell_type": "code",
   "outputs": [],
   "execution_count": null,
   "source": [
    "# Load the model\n",
    "msupcl_model = load_i3d_model(input_shape=input_shape)\n",
    "\n",
    "# Train the model\n",
    "train_msupcl_model(msupcl_model, paired_train_generator, epochs=10)\n"
   ],
   "id": "73efa82bee2c74bd"
  },
  {
   "metadata": {},
   "cell_type": "code",
   "outputs": [],
   "execution_count": null,
   "source": [
    "def linear_evaluation(model, train_generator, val_generator, num_classes=2):\n",
    "    # Freeze the base model\n",
    "    for layer in model.layers:\n",
    "        layer.trainable = False\n",
    "    \n",
    "    # Add a classification head\n",
    "    features = model.output\n",
    "    outputs = layers.Dense(num_classes, activation='softmax')(features)\n",
    "    classifier_model = models.Model(inputs=model.input, outputs=outputs)\n",
    "    \n",
    "    # Compile the classifier\n",
    "    classifier_model.compile(\n",
    "        loss=losses.SparseCategoricalCrossentropy(),\n",
    "        optimizer=optimizers.Adam(learning_rate=1e-4),\n",
    "        metrics=[metrics.SparseCategoricalAccuracy()]\n",
    "    )\n",
    "    \n",
    "    # Train the classifier on the combined dataset\n",
    "    classifier_model.fit(\n",
    "        train_generator,\n",
    "        validation_data=val_generator,  # or any validation generator\n",
    "        epochs=5\n",
    "    )\n",
    "    \n",
    "    # Evaluate on test sets\n",
    "    print(\"Evaluating on Violence Test Set:\")\n",
    "    results_violence = classifier_model.evaluate(violence_test_generator)\n",
    "    print(f\"Violence Test Loss: {results_violence[0]}, Test Accuracy: {results_violence[1]}\")\n",
    "    \n",
    "    print(\"Evaluating on TikTok Test Set:\")\n",
    "    results_tiktok = classifier_model.evaluate(tiktok_test_generator)\n",
    "    print(f\"TikTok Test Loss: {results_tiktok[0]}, Test Accuracy: {results_tiktok[1]}\")\n"
   ],
   "id": "3920c98d7abf587b"
  },
  {
   "metadata": {},
   "cell_type": "code",
   "outputs": [],
   "execution_count": null,
   "source": "linear_evaluation(msupcl_model, combined_train_generator, violence_val_generator)\n",
   "id": "e437717914dc10fc"
  }
 ],
 "metadata": {
  "kernelspec": {
   "display_name": "Python 3",
   "language": "python",
   "name": "python3"
  },
  "language_info": {
   "codemirror_mode": {
    "name": "ipython",
    "version": 2
   },
   "file_extension": ".py",
   "mimetype": "text/x-python",
   "name": "python",
   "nbconvert_exporter": "python",
   "pygments_lexer": "ipython2",
   "version": "2.7.6"
  }
 },
 "nbformat": 4,
 "nbformat_minor": 5
}
