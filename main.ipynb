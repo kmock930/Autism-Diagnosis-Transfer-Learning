{
 "cells": [
  {
   "cell_type": "code",
   "id": "initial_id",
   "metadata": {
    "collapsed": true,
    "ExecuteTime": {
     "end_time": "2024-11-14T19:58:44.575229Z",
     "start_time": "2024-11-14T19:58:44.569224Z"
    }
   },
   "source": [
    "import os\n",
    "import random\n",
    "import numpy as np\n",
    "import tensorflow as tf\n",
    "\n",
    "from tensorflow.keras import layers, models, losses, optimizers, metrics\n",
    "\n",
    "from model_train import (\n",
    "    load_c3d_model,\n",
    "    train_msupcl_model,\n",
    "    linear_evaluation,\n",
    "    load_c3d_sscl_model,\n",
    "    train_simclr_model,\n",
    "    linear_evaluation_sscl,\n",
    "    supervised_contrastive_loss,\n",
    "    nt_xent_loss,\n",
    ")\n",
    "from data_uniform_sup import VideoDataGenerator, MultiDatasetDataGenerator\n",
    "from data_uniform_sscl import SSCLVideoDataGenerator\n",
    "\n",
    "from model_train_r2plus1d_18 import (\n",
    "    load_r2plus1d_model,\n",
    "    load_sscl_r2plus1d_model,\n",
    ")\n"
   ],
   "outputs": [],
   "execution_count": 2
  },
  {
   "metadata": {
    "ExecuteTime": {
     "end_time": "2024-11-14T19:58:46.588105Z",
     "start_time": "2024-11-14T19:58:46.578096Z"
    }
   },
   "cell_type": "code",
   "source": [
    "seed = 2042\n",
    "np.random.seed(seed)\n",
    "random.seed(seed)\n",
    "tf.random.set_seed(seed)\n",
    "\n",
    "input_shape = (12, 64, 64, 3)  # 数据生成器中定义的输入形状\n",
    "num_classes = 2  # 有害内容或安全内容\n",
    "feature_dim = 512\n",
    "num_epochs = 3\n",
    "batch_size = 4\n",
    "temperature = 0.8\n",
    "learning_rate = 0.001\n"
   ],
   "id": "dd29972a569d4e84",
   "outputs": [],
   "execution_count": 3
  },
  {
   "metadata": {
    "ExecuteTime": {
     "end_time": "2024-11-14T19:58:47.714237Z",
     "start_time": "2024-11-14T19:58:47.704227Z"
    }
   },
   "cell_type": "code",
   "source": [
    "# Define dataset paths\n",
    "violence_negative_dir = './data/violence_dataset/NonViolence'\n",
    "violence_positive_dir = './data/violence_dataset/Violence'\n",
    "tiktok_negative_dir = './data/tiktok/train/Safe'\n",
    "tiktok_positive_dir = './data/tiktok/train/Harmful Content'\n"
   ],
   "id": "38b4e7f27f35b855",
   "outputs": [],
   "execution_count": 4
  },
  {
   "metadata": {
    "ExecuteTime": {
     "end_time": "2024-11-14T19:58:48.824483Z",
     "start_time": "2024-11-14T19:58:48.820479Z"
    }
   },
   "cell_type": "code",
   "source": [
    "# 定义函数用于采样视频\n",
    "def sample_videos(directory, num_samples=100):\n",
    "    all_videos = [\n",
    "        os.path.join(directory, f)\n",
    "        for f in os.listdir(directory)\n",
    "        if f.endswith('.mp4')\n",
    "    ]\n",
    "    sampled_videos = random.sample(all_videos, min(num_samples, len(all_videos)))\n",
    "    return sampled_videos\n"
   ],
   "id": "69be9a7b8c19f6d5",
   "outputs": [],
   "execution_count": 5
  },
  {
   "metadata": {
    "ExecuteTime": {
     "end_time": "2024-11-14T19:58:49.884447Z",
     "start_time": "2024-11-14T19:58:49.865430Z"
    }
   },
   "cell_type": "code",
   "source": [
    "# Violence dataset\n",
    "violence_negative_videos = sample_videos(violence_negative_dir, 50)\n",
    "violence_positive_videos = sample_videos(violence_positive_dir, 50)\n",
    "\n",
    "# TikTok dataset\n",
    "tiktok_negative_videos = sample_videos(tiktok_negative_dir, 50)\n",
    "tiktok_positive_videos = sample_videos(tiktok_positive_dir, 50)\n"
   ],
   "id": "43cccf67e2dcc321",
   "outputs": [],
   "execution_count": 6
  },
  {
   "metadata": {
    "ExecuteTime": {
     "end_time": "2024-11-14T19:58:51.042304Z",
     "start_time": "2024-11-14T19:58:51.035298Z"
    }
   },
   "cell_type": "code",
   "source": [
    "def split_data(negative_videos, positive_videos, train_ratio=0.55, val_ratio=0.15):\n",
    "    # 合并并打乱数据\n",
    "    videos = negative_videos + positive_videos\n",
    "    labels = [0] * len(negative_videos) + [1] * len(positive_videos)\n",
    "    combined = list(zip(videos, labels))\n",
    "    random.shuffle(combined)\n",
    "    videos[:], labels[:] = zip(*combined)\n",
    "\n",
    "    # 计算划分索引\n",
    "    total = len(videos)\n",
    "    train_end = int(total * train_ratio)\n",
    "    val_end = train_end + int(total * val_ratio)\n",
    "\n",
    "    # 划分数据集\n",
    "    train_videos = videos[:train_end]\n",
    "    train_labels = labels[:train_end]\n",
    "    val_videos = videos[train_end:val_end]\n",
    "    val_labels = labels[train_end:val_end]\n",
    "    test_videos = videos[val_end:]\n",
    "    test_labels = labels[val_end:]\n",
    "\n",
    "    return (train_videos, train_labels), (val_videos, val_labels), (test_videos, test_labels)\n",
    "\n"
   ],
   "id": "f8fa8efe1d13ebf5",
   "outputs": [],
   "execution_count": 7
  },
  {
   "metadata": {
    "ExecuteTime": {
     "end_time": "2024-11-14T19:58:52.772003Z",
     "start_time": "2024-11-14T19:58:52.757991Z"
    }
   },
   "cell_type": "code",
   "source": [
    "# Violence dataset\n",
    "(\n",
    "    (violence_train_videos, violence_train_labels),\n",
    "    (violence_val_videos, violence_val_labels),\n",
    "    (violence_test_videos, violence_test_labels),\n",
    ") = split_data(violence_negative_videos, violence_positive_videos)\n",
    "\n",
    "\n",
    "# TikTok dataset\n",
    "(\n",
    "    (tiktok_train_videos, tiktok_train_labels),\n",
    "    (tiktok_val_videos, tiktok_val_labels),\n",
    "    (tiktok_test_videos, tiktok_test_labels),\n",
    ") = split_data(tiktok_negative_videos, tiktok_positive_videos)\n"
   ],
   "id": "17bc85a97ca94a61",
   "outputs": [],
   "execution_count": 8
  },
  {
   "metadata": {
    "ExecuteTime": {
     "end_time": "2024-11-14T19:58:54.070695Z",
     "start_time": "2024-11-14T19:58:54.065691Z"
    }
   },
   "cell_type": "code",
   "source": [
    "\n",
    "# Convert labels to numpy arrays and one-hot encode them if necessary\n",
    "def prepare_labels(labels):\n",
    "    return np.array(labels)\n",
    "\n",
    "\n",
    "violence_train_labels_np = prepare_labels(violence_train_labels)\n",
    "violence_val_labels_np = prepare_labels(violence_val_labels)\n",
    "violence_test_labels_np = prepare_labels(violence_test_labels)\n",
    "\n",
    "\n",
    "tiktok_train_labels_np = prepare_labels(tiktok_train_labels)\n",
    "tiktok_val_labels_np = prepare_labels(tiktok_val_labels)\n",
    "tiktok_test_labels_np = prepare_labels(tiktok_test_labels)"
   ],
   "id": "d7db8f86a7e4e430",
   "outputs": [],
   "execution_count": 9
  },
  {
   "metadata": {
    "ExecuteTime": {
     "end_time": "2024-11-14T19:58:55.212858Z",
     "start_time": "2024-11-14T19:58:55.198845Z"
    }
   },
   "cell_type": "code",
   "source": [
    "# Violence dataset generators\n",
    "violence_train_generator = VideoDataGenerator(\n",
    "    violence_train_videos,\n",
    "    violence_train_labels_np,\n",
    "    batch_size=batch_size,\n",
    "    shuffle=True,\n",
    "    augment=True,\n",
    ")\n",
    "violence_val_generator = VideoDataGenerator(\n",
    "    violence_val_videos,\n",
    "    violence_val_labels_np,\n",
    "    batch_size=batch_size,\n",
    "    shuffle=False,\n",
    ")\n",
    "violence_test_generator = VideoDataGenerator(\n",
    "    violence_test_videos,\n",
    "    violence_test_labels_np,\n",
    "    batch_size=batch_size,\n",
    "    shuffle=False,\n",
    ")"
   ],
   "id": "f150cbe36dce5ba1",
   "outputs": [],
   "execution_count": 10
  },
  {
   "metadata": {
    "ExecuteTime": {
     "end_time": "2024-11-14T19:58:56.353284Z",
     "start_time": "2024-11-14T19:58:56.346775Z"
    }
   },
   "cell_type": "code",
   "source": [
    "# TikTok dataset generators\n",
    "tiktok_train_generator = VideoDataGenerator(\n",
    "    tiktok_train_videos,\n",
    "    tiktok_train_labels_np,\n",
    "    batch_size=batch_size,\n",
    "    shuffle=True,\n",
    "    augment=True,\n",
    ")\n",
    "tiktok_val_generator = VideoDataGenerator(\n",
    "    tiktok_val_videos,\n",
    "    tiktok_val_labels_np,\n",
    "    batch_size=batch_size,\n",
    "    shuffle=False,\n",
    ")\n",
    "tiktok_test_generator = VideoDataGenerator(\n",
    "    tiktok_test_videos,\n",
    "    tiktok_test_labels_np,\n",
    "    batch_size=batch_size,\n",
    "    shuffle=False,\n",
    ")\n"
   ],
   "id": "b129d04af287a968",
   "outputs": [],
   "execution_count": 11
  },
  {
   "metadata": {
    "ExecuteTime": {
     "end_time": "2024-11-14T19:15:29.318909Z",
     "start_time": "2024-11-14T19:15:28.420548Z"
    }
   },
   "cell_type": "code",
   "source": [
    "# Load the model\n",
    "base_model = load_c3d_model(input_shape=input_shape, feature_dim=feature_dim)\n",
    "print(\"Base Model Summary:\")\n",
    "base_model.summary()"
   ],
   "id": "b4c77a016021fe8f",
   "outputs": [
    {
     "name": "stdout",
     "output_type": "stream",
     "text": [
      "Base Model Summary:\n",
      "Model: \"model\"\n",
      "_________________________________________________________________\n",
      " Layer (type)                Output Shape              Param #   \n",
      "=================================================================\n",
      " input_1 (InputLayer)        [(None, 12, 64, 64, 3)]   0         \n",
      "                                                                 \n",
      " conv3d (Conv3D)             (None, 12, 64, 64, 64)    5248      \n",
      "                                                                 \n",
      " max_pooling3d (MaxPooling3D  (None, 12, 32, 32, 64)   0         \n",
      " )                                                               \n",
      "                                                                 \n",
      " conv3d_1 (Conv3D)           (None, 12, 32, 32, 128)   221312    \n",
      "                                                                 \n",
      " max_pooling3d_1 (MaxPooling  (None, 6, 16, 16, 128)   0         \n",
      " 3D)                                                             \n",
      "                                                                 \n",
      " conv3d_2 (Conv3D)           (None, 6, 16, 16, 256)    884992    \n",
      "                                                                 \n",
      " conv3d_3 (Conv3D)           (None, 6, 16, 16, 256)    1769728   \n",
      "                                                                 \n",
      " max_pooling3d_2 (MaxPooling  (None, 6, 8, 8, 256)     0         \n",
      " 3D)                                                             \n",
      "                                                                 \n",
      " conv3d_4 (Conv3D)           (None, 6, 8, 8, 512)      3539456   \n",
      "                                                                 \n",
      " conv3d_5 (Conv3D)           (None, 6, 8, 8, 512)      7078400   \n",
      "                                                                 \n",
      " max_pooling3d_3 (MaxPooling  (None, 3, 4, 4, 512)     0         \n",
      " 3D)                                                             \n",
      "                                                                 \n",
      " conv3d_6 (Conv3D)           (None, 3, 4, 4, 512)      7078400   \n",
      "                                                                 \n",
      " conv3d_7 (Conv3D)           (None, 3, 4, 4, 512)      7078400   \n",
      "                                                                 \n",
      " max_pooling3d_4 (MaxPooling  (None, 3, 2, 2, 512)     0         \n",
      " 3D)                                                             \n",
      "                                                                 \n",
      " flatten (Flatten)           (None, 6144)              0         \n",
      "                                                                 \n",
      " dense (Dense)               (None, 4096)              25169920  \n",
      "                                                                 \n",
      " dropout (Dropout)           (None, 4096)              0         \n",
      "                                                                 \n",
      " dense_1 (Dense)             (None, 4096)              16781312  \n",
      "                                                                 \n",
      " dropout_1 (Dropout)         (None, 4096)              0         \n",
      "                                                                 \n",
      " dense_2 (Dense)             (None, 512)               2097664   \n",
      "                                                                 \n",
      "=================================================================\n",
      "Total params: 71,704,832\n",
      "Trainable params: 71,704,832\n",
      "Non-trainable params: 0\n",
      "_________________________________________________________________\n"
     ]
    }
   ],
   "execution_count": 11
  },
  {
   "metadata": {
    "ExecuteTime": {
     "end_time": "2024-11-14T19:15:29.350766Z",
     "start_time": "2024-11-14T19:15:29.341930Z"
    }
   },
   "cell_type": "code",
   "source": [
    "def create_classification_model(base_model, num_classes):\n",
    "    features = base_model.output\n",
    "    outputs = layers.Dense(num_classes, activation='softmax')(features)\n",
    "    model = models.Model(inputs=base_model.input, outputs=outputs)\n",
    "    return model"
   ],
   "id": "f3d652978d3df6f9",
   "outputs": [],
   "execution_count": 12
  },
  {
   "metadata": {
    "ExecuteTime": {
     "end_time": "2024-11-14T19:15:29.397810Z",
     "start_time": "2024-11-14T19:15:29.370784Z"
    }
   },
   "cell_type": "code",
   "source": [
    "classification_model_violence = create_classification_model(base_model, num_classes)\n",
    "# 冻结基础模型的参数\n",
    "for layer in classification_model_violence.layers[:-1]:\n",
    "    layer.trainable = False\n",
    "\n",
    "classification_model_violence.compile(\n",
    "    loss=losses.SparseCategoricalCrossentropy(),\n",
    "    optimizer=optimizers.Adam(learning_rate=learning_rate),\n",
    "    metrics=[metrics.SparseCategoricalAccuracy()],\n",
    ")\n"
   ],
   "id": "600a86c162f46bac",
   "outputs": [],
   "execution_count": 13
  },
  {
   "metadata": {
    "ExecuteTime": {
     "end_time": "2024-11-14T19:15:29.444356Z",
     "start_time": "2024-11-14T19:15:29.414329Z"
    }
   },
   "cell_type": "code",
   "source": [
    "print(\"Classification Model for Violence Dataset Summary:\")\n",
    "classification_model_violence.summary()"
   ],
   "id": "bdd247846a39c1f7",
   "outputs": [
    {
     "name": "stdout",
     "output_type": "stream",
     "text": [
      "Classification Model for Violence Dataset Summary:\n",
      "Model: \"model_1\"\n",
      "_________________________________________________________________\n",
      " Layer (type)                Output Shape              Param #   \n",
      "=================================================================\n",
      " input_1 (InputLayer)        [(None, 12, 64, 64, 3)]   0         \n",
      "                                                                 \n",
      " conv3d (Conv3D)             (None, 12, 64, 64, 64)    5248      \n",
      "                                                                 \n",
      " max_pooling3d (MaxPooling3D  (None, 12, 32, 32, 64)   0         \n",
      " )                                                               \n",
      "                                                                 \n",
      " conv3d_1 (Conv3D)           (None, 12, 32, 32, 128)   221312    \n",
      "                                                                 \n",
      " max_pooling3d_1 (MaxPooling  (None, 6, 16, 16, 128)   0         \n",
      " 3D)                                                             \n",
      "                                                                 \n",
      " conv3d_2 (Conv3D)           (None, 6, 16, 16, 256)    884992    \n",
      "                                                                 \n",
      " conv3d_3 (Conv3D)           (None, 6, 16, 16, 256)    1769728   \n",
      "                                                                 \n",
      " max_pooling3d_2 (MaxPooling  (None, 6, 8, 8, 256)     0         \n",
      " 3D)                                                             \n",
      "                                                                 \n",
      " conv3d_4 (Conv3D)           (None, 6, 8, 8, 512)      3539456   \n",
      "                                                                 \n",
      " conv3d_5 (Conv3D)           (None, 6, 8, 8, 512)      7078400   \n",
      "                                                                 \n",
      " max_pooling3d_3 (MaxPooling  (None, 3, 4, 4, 512)     0         \n",
      " 3D)                                                             \n",
      "                                                                 \n",
      " conv3d_6 (Conv3D)           (None, 3, 4, 4, 512)      7078400   \n",
      "                                                                 \n",
      " conv3d_7 (Conv3D)           (None, 3, 4, 4, 512)      7078400   \n",
      "                                                                 \n",
      " max_pooling3d_4 (MaxPooling  (None, 3, 2, 2, 512)     0         \n",
      " 3D)                                                             \n",
      "                                                                 \n",
      " flatten (Flatten)           (None, 6144)              0         \n",
      "                                                                 \n",
      " dense (Dense)               (None, 4096)              25169920  \n",
      "                                                                 \n",
      " dropout (Dropout)           (None, 4096)              0         \n",
      "                                                                 \n",
      " dense_1 (Dense)             (None, 4096)              16781312  \n",
      "                                                                 \n",
      " dropout_1 (Dropout)         (None, 4096)              0         \n",
      "                                                                 \n",
      " dense_2 (Dense)             (None, 512)               2097664   \n",
      "                                                                 \n",
      " dense_3 (Dense)             (None, 2)                 1026      \n",
      "                                                                 \n",
      "=================================================================\n",
      "Total params: 71,705,858\n",
      "Trainable params: 1,026\n",
      "Non-trainable params: 71,704,832\n",
      "_________________________________________________________________\n"
     ]
    }
   ],
   "execution_count": 14
  },
  {
   "metadata": {
    "ExecuteTime": {
     "end_time": "2024-11-14T19:15:57.262526Z",
     "start_time": "2024-11-14T19:15:29.545952Z"
    }
   },
   "cell_type": "code",
   "source": [
    "history_violence = classification_model_violence.fit(\n",
    "    violence_train_generator,\n",
    "    validation_data=violence_val_generator,\n",
    "    epochs=num_epochs,\n",
    "    \n",
    ")"
   ],
   "id": "80ad2bb7d4358a76",
   "outputs": [
    {
     "name": "stdout",
     "output_type": "stream",
     "text": [
      "Epoch 1/3\n",
      "13/13 [==============================] - 12s 640ms/step - loss: 0.6935 - sparse_categorical_accuracy: 0.4712 - val_loss: 0.6935 - val_sparse_categorical_accuracy: 0.4167\n",
      "Epoch 2/3\n",
      "13/13 [==============================] - 8s 619ms/step - loss: 0.6928 - sparse_categorical_accuracy: 0.5577 - val_loss: 0.6935 - val_sparse_categorical_accuracy: 0.4167\n",
      "Epoch 3/3\n",
      "13/13 [==============================] - 8s 576ms/step - loss: 0.6927 - sparse_categorical_accuracy: 0.5192 - val_loss: 0.6937 - val_sparse_categorical_accuracy: 0.4167\n"
     ]
    }
   ],
   "execution_count": 15
  },
  {
   "metadata": {
    "ExecuteTime": {
     "end_time": "2024-11-14T19:16:01.686118Z",
     "start_time": "2024-11-14T19:15:57.279542Z"
    }
   },
   "cell_type": "code",
   "source": [
    "# Evaluate on Violence test set\n",
    "base_c3d_results_violence = classification_model_violence.evaluate(violence_test_generator)\n",
    "print(\n",
    "    f\"Violence Dataset - Test Loss: {base_c3d_results_violence[0]}, Test Accuracy: {base_c3d_results_violence[1]}\"\n",
    ")"
   ],
   "id": "63b234494c99c2b5",
   "outputs": [
    {
     "name": "stdout",
     "output_type": "stream",
     "text": [
      "7/7 [==============================] - 4s 492ms/step - loss: 0.6929 - sparse_categorical_accuracy: 0.5357\n",
      "Violence Dataset - Test Loss: 0.6929368376731873, Test Accuracy: 0.5357142686843872\n"
     ]
    }
   ],
   "execution_count": 16
  },
  {
   "metadata": {
    "ExecuteTime": {
     "end_time": "2024-11-14T19:02:42.770155Z",
     "start_time": "2024-11-14T19:02:42.723112Z"
    }
   },
   "cell_type": "code",
   "source": [
    "classification_model_tiktok = create_classification_model(base_model, num_classes)\n",
    "\n",
    "for layer in classification_model_tiktok.layers[:-1]:\n",
    "    layer.trainable = False\n",
    "    \n",
    "classification_model_tiktok.compile(\n",
    "    loss=losses.SparseCategoricalCrossentropy(),\n",
    "    optimizer=optimizers.Adam(learning_rate=learning_rate),\n",
    "    metrics=[metrics.SparseCategoricalAccuracy()],\n",
    ")\n",
    "print(\"Classification Model for TikTok Dataset Summary:\")\n",
    "classification_model_tiktok.summary()"
   ],
   "id": "df01412c8d97718e",
   "outputs": [
    {
     "name": "stdout",
     "output_type": "stream",
     "text": [
      "Classification Model for TikTok Dataset Summary:\n",
      "Model: \"model_2\"\n",
      "_________________________________________________________________\n",
      " Layer (type)                Output Shape              Param #   \n",
      "=================================================================\n",
      " input_1 (InputLayer)        [(None, 12, 64, 64, 3)]   0         \n",
      "                                                                 \n",
      " conv3d (Conv3D)             (None, 12, 64, 64, 64)    5248      \n",
      "                                                                 \n",
      " max_pooling3d (MaxPooling3D  (None, 12, 32, 32, 64)   0         \n",
      " )                                                               \n",
      "                                                                 \n",
      " conv3d_1 (Conv3D)           (None, 12, 32, 32, 128)   221312    \n",
      "                                                                 \n",
      " max_pooling3d_1 (MaxPooling  (None, 6, 16, 16, 128)   0         \n",
      " 3D)                                                             \n",
      "                                                                 \n",
      " conv3d_2 (Conv3D)           (None, 6, 16, 16, 256)    884992    \n",
      "                                                                 \n",
      " conv3d_3 (Conv3D)           (None, 6, 16, 16, 256)    1769728   \n",
      "                                                                 \n",
      " max_pooling3d_2 (MaxPooling  (None, 6, 8, 8, 256)     0         \n",
      " 3D)                                                             \n",
      "                                                                 \n",
      " conv3d_4 (Conv3D)           (None, 6, 8, 8, 512)      3539456   \n",
      "                                                                 \n",
      " conv3d_5 (Conv3D)           (None, 6, 8, 8, 512)      7078400   \n",
      "                                                                 \n",
      " max_pooling3d_3 (MaxPooling  (None, 3, 4, 4, 512)     0         \n",
      " 3D)                                                             \n",
      "                                                                 \n",
      " conv3d_6 (Conv3D)           (None, 3, 4, 4, 512)      7078400   \n",
      "                                                                 \n",
      " conv3d_7 (Conv3D)           (None, 3, 4, 4, 512)      7078400   \n",
      "                                                                 \n",
      " max_pooling3d_4 (MaxPooling  (None, 3, 2, 2, 512)     0         \n",
      " 3D)                                                             \n",
      "                                                                 \n",
      " flatten (Flatten)           (None, 6144)              0         \n",
      "                                                                 \n",
      " dense (Dense)               (None, 4096)              25169920  \n",
      "                                                                 \n",
      " dropout (Dropout)           (None, 4096)              0         \n",
      "                                                                 \n",
      " dense_1 (Dense)             (None, 4096)              16781312  \n",
      "                                                                 \n",
      " dropout_1 (Dropout)         (None, 4096)              0         \n",
      "                                                                 \n",
      " dense_2 (Dense)             (None, 512)               2097664   \n",
      "                                                                 \n",
      " dense_4 (Dense)             (None, 2)                 1026      \n",
      "                                                                 \n",
      "=================================================================\n",
      "Total params: 71,705,858\n",
      "Trainable params: 1,026\n",
      "Non-trainable params: 71,704,832\n",
      "_________________________________________________________________\n"
     ]
    }
   ],
   "execution_count": 17
  },
  {
   "metadata": {
    "ExecuteTime": {
     "end_time": "2024-11-14T19:03:54.665620Z",
     "start_time": "2024-11-14T19:02:42.850734Z"
    }
   },
   "cell_type": "code",
   "source": [
    "history_tiktok = classification_model_tiktok.fit(\n",
    "    tiktok_train_generator,\n",
    "    validation_data=tiktok_val_generator,\n",
    "    epochs=num_epochs,\n",
    ")"
   ],
   "id": "a61ead3100b5d05e",
   "outputs": [
    {
     "name": "stdout",
     "output_type": "stream",
     "text": [
      "Epoch 1/3\n",
      "13/13 [==============================] - 24s 2s/step - loss: 0.6941 - sparse_categorical_accuracy: 0.3846 - val_loss: 0.6926 - val_sparse_categorical_accuracy: 0.5833\n",
      "Epoch 2/3\n",
      "13/13 [==============================] - 23s 2s/step - loss: 0.6935 - sparse_categorical_accuracy: 0.4519 - val_loss: 0.6933 - val_sparse_categorical_accuracy: 0.4167\n",
      "Epoch 3/3\n",
      "13/13 [==============================] - 23s 2s/step - loss: 0.6927 - sparse_categorical_accuracy: 0.5769 - val_loss: 0.6933 - val_sparse_categorical_accuracy: 0.4167\n"
     ]
    }
   ],
   "execution_count": 18
  },
  {
   "metadata": {
    "ExecuteTime": {
     "end_time": "2024-11-14T19:04:04.865669Z",
     "start_time": "2024-11-14T19:03:54.671626Z"
    }
   },
   "cell_type": "code",
   "source": [
    "\n",
    "# Evaluate on TikTok test set\n",
    "base_c3d_results_tiktok = classification_model_tiktok.evaluate(tiktok_test_generator)\n",
    "print(\n",
    "    f\"TikTok Dataset - Test Loss: {base_c3d_results_tiktok[0]}, Test Accuracy: {base_c3d_results_tiktok[1]}\"\n",
    ")\n"
   ],
   "id": "7b2014bcbf1669c9",
   "outputs": [
    {
     "name": "stdout",
     "output_type": "stream",
     "text": [
      "7/7 [==============================] - 9s 1s/step - loss: 0.6931 - sparse_categorical_accuracy: 0.4643\n",
      "TikTok Dataset - Test Loss: 0.693145751953125, Test Accuracy: 0.4642857015132904\n"
     ]
    }
   ],
   "execution_count": 19
  },
  {
   "metadata": {},
   "cell_type": "markdown",
   "source": "## MSupCL implementation",
   "id": "dcd22c96fe0ecab0"
  },
  {
   "metadata": {
    "ExecuteTime": {
     "end_time": "2024-11-14T19:59:02.132910Z",
     "start_time": "2024-11-14T19:59:02.128906Z"
    }
   },
   "cell_type": "code",
   "source": [
    "# Combine training data from both datasets\n",
    "combined_train_videos = violence_train_videos + tiktok_train_videos\n",
    "combined_train_labels = violence_train_labels_np.tolist() + tiktok_train_labels_np.tolist()\n",
    "\n",
    "\n",
    "# Create a combined data generator\n",
    "combined_train_generator = VideoDataGenerator(\n",
    "    combined_train_videos,\n",
    "    combined_train_labels,\n",
    "    batch_size=batch_size,\n",
    "    shuffle=True,\n",
    "    augment=True,\n",
    ")\n",
    "\n",
    "violence_train_generator_no_aug = VideoDataGenerator(\n",
    "    violence_train_videos,\n",
    "    violence_train_labels_np,\n",
    "    batch_size=batch_size,\n",
    "    shuffle=True,\n",
    "    augment=False,\n",
    ")\n",
    "\n",
    "tiktok_train_generator_no_aug = VideoDataGenerator(\n",
    "    tiktok_train_videos,\n",
    "    tiktok_train_labels_np,\n",
    "    batch_size=batch_size,\n",
    "    shuffle=True,\n",
    "    augment=False,\n",
    ")\n",
    "\n",
    "msupcl_train_generator = MultiDatasetDataGenerator(\n",
    "    violence_train_videos, violence_train_labels_np,\n",
    "    tiktok_train_videos, tiktok_train_labels_np,\n",
    "    batch_size=batch_size,\n",
    "    shuffle=True\n",
    ")"
   ],
   "id": "bddde4c8d28478eb",
   "outputs": [],
   "execution_count": 12
  },
  {
   "metadata": {
    "ExecuteTime": {
     "end_time": "2024-11-14T19:04:05.039836Z",
     "start_time": "2024-11-14T19:04:04.914219Z"
    }
   },
   "cell_type": "code",
   "source": [
    "msupcl_model = load_c3d_model(input_shape=input_shape, feature_dim=feature_dim)\n",
    "print(\"MSupCL Model Summary:\")\n",
    "msupcl_model.summary()"
   ],
   "id": "819725c0d757e7b7",
   "outputs": [
    {
     "name": "stdout",
     "output_type": "stream",
     "text": [
      "MSupCL Model Summary:\n",
      "Model: \"model_3\"\n",
      "_________________________________________________________________\n",
      " Layer (type)                Output Shape              Param #   \n",
      "=================================================================\n",
      " input_2 (InputLayer)        [(None, 12, 64, 64, 3)]   0         \n",
      "                                                                 \n",
      " conv3d_8 (Conv3D)           (None, 12, 64, 64, 64)    5248      \n",
      "                                                                 \n",
      " max_pooling3d_5 (MaxPooling  (None, 12, 32, 32, 64)   0         \n",
      " 3D)                                                             \n",
      "                                                                 \n",
      " conv3d_9 (Conv3D)           (None, 12, 32, 32, 128)   221312    \n",
      "                                                                 \n",
      " max_pooling3d_6 (MaxPooling  (None, 6, 16, 16, 128)   0         \n",
      " 3D)                                                             \n",
      "                                                                 \n",
      " conv3d_10 (Conv3D)          (None, 6, 16, 16, 256)    884992    \n",
      "                                                                 \n",
      " conv3d_11 (Conv3D)          (None, 6, 16, 16, 256)    1769728   \n",
      "                                                                 \n",
      " max_pooling3d_7 (MaxPooling  (None, 6, 8, 8, 256)     0         \n",
      " 3D)                                                             \n",
      "                                                                 \n",
      " conv3d_12 (Conv3D)          (None, 6, 8, 8, 512)      3539456   \n",
      "                                                                 \n",
      " conv3d_13 (Conv3D)          (None, 6, 8, 8, 512)      7078400   \n",
      "                                                                 \n",
      " max_pooling3d_8 (MaxPooling  (None, 3, 4, 4, 512)     0         \n",
      " 3D)                                                             \n",
      "                                                                 \n",
      " conv3d_14 (Conv3D)          (None, 3, 4, 4, 512)      7078400   \n",
      "                                                                 \n",
      " conv3d_15 (Conv3D)          (None, 3, 4, 4, 512)      7078400   \n",
      "                                                                 \n",
      " max_pooling3d_9 (MaxPooling  (None, 3, 2, 2, 512)     0         \n",
      " 3D)                                                             \n",
      "                                                                 \n",
      " flatten_1 (Flatten)         (None, 6144)              0         \n",
      "                                                                 \n",
      " dense_5 (Dense)             (None, 4096)              25169920  \n",
      "                                                                 \n",
      " dropout_2 (Dropout)         (None, 4096)              0         \n",
      "                                                                 \n",
      " dense_6 (Dense)             (None, 4096)              16781312  \n",
      "                                                                 \n",
      " dropout_3 (Dropout)         (None, 4096)              0         \n",
      "                                                                 \n",
      " dense_7 (Dense)             (None, 512)               2097664   \n",
      "                                                                 \n",
      "=================================================================\n",
      "Total params: 71,704,832\n",
      "Trainable params: 71,704,832\n",
      "Non-trainable params: 0\n",
      "_________________________________________________________________\n"
     ]
    }
   ],
   "execution_count": 21
  },
  {
   "metadata": {
    "ExecuteTime": {
     "end_time": "2024-11-14T19:05:33.301018Z",
     "start_time": "2024-11-14T19:04:05.085878Z"
    }
   },
   "cell_type": "code",
   "source": [
    "\n",
    "# Train the model\n",
    "train_msupcl_model(msupcl_model, msupcl_train_generator, epochs=num_epochs, temperature=temperature)\n",
    "\n",
    "\n"
   ],
   "id": "73efa82bee2c74bd",
   "outputs": [
    {
     "name": "stdout",
     "output_type": "stream",
     "text": [
      "Epoch 1/3\n",
      "Training Loss: 7.3384\n",
      "Epoch 2/3\n",
      "Training Loss: 7.3081\n",
      "Epoch 3/3\n",
      "Training Loss: 7.2995\n"
     ]
    }
   ],
   "execution_count": 22
  },
  {
   "metadata": {
    "ExecuteTime": {
     "end_time": "2024-11-14T19:07:58.489799Z",
     "start_time": "2024-11-14T19:05:33.318033Z"
    }
   },
   "cell_type": "code",
   "source": [
    "msupcl_c3d_result_violence, msupcl_c3d_result_tiktok = linear_evaluation(\n",
    "    msupcl_model,\n",
    "    combined_train_generator,\n",
    "    violence_test_generator,\n",
    "    tiktok_test_generator,\n",
    "    num_classes=num_classes,\n",
    "    num_epochs=num_epochs,\n",
    ")\n"
   ],
   "id": "e437717914dc10fc",
   "outputs": [
    {
     "name": "stdout",
     "output_type": "stream",
     "text": [
      "Epoch 1/5\n",
      "27/27 [==============================] - 26s 958ms/step - loss: 2.8261 - accuracy: 0.4954\n",
      "Epoch 2/5\n",
      "27/27 [==============================] - 26s 953ms/step - loss: 2.3180 - accuracy: 0.5370\n",
      "Epoch 3/5\n",
      "27/27 [==============================] - 26s 969ms/step - loss: 2.4782 - accuracy: 0.5093\n",
      "Epoch 4/5\n",
      "27/27 [==============================] - 26s 951ms/step - loss: 2.6445 - accuracy: 0.4769\n",
      "Epoch 5/5\n",
      "27/27 [==============================] - 26s 941ms/step - loss: 2.5181 - accuracy: 0.4815\n",
      "Evaluating on Violence Test Set:\n",
      "7/7 [==============================] - 4s 498ms/step - loss: 1.5457 - accuracy: 0.4643\n",
      "Violence Test Loss: 1.5457332134246826, Test Accuracy: 0.4642857015132904\n",
      "Evaluating on TikTok Test Set:\n",
      "7/7 [==============================] - 9s 1s/step - loss: 1.2072 - accuracy: 0.5357\n",
      "TikTok Test Loss: 1.2072352170944214, Test Accuracy: 0.5357142686843872\n"
     ]
    }
   ],
   "execution_count": 23
  },
  {
   "metadata": {},
   "cell_type": "markdown",
   "source": "## SSCL\n",
   "id": "d3c9e63ab1d19804"
  },
  {
   "metadata": {
    "ExecuteTime": {
     "end_time": "2024-11-14T19:59:05.968508Z",
     "start_time": "2024-11-14T19:59:05.959996Z"
    }
   },
   "cell_type": "code",
   "source": [
    "violence_train_sscl_generator = SSCLVideoDataGenerator(\n",
    "    violence_train_videos,\n",
    "    violence_train_labels_np,\n",
    "    batch_size=batch_size,\n",
    "    shuffle=True,\n",
    "    augment=True,          \n",
    ")\n",
    "\n",
    "violence_train_single_sscl_generator = SSCLVideoDataGenerator(\n",
    "    violence_train_videos,\n",
    "    violence_train_labels_np,\n",
    "    batch_size=batch_size,\n",
    "    shuffle=True,\n",
    "    split='train',\n",
    "    augment=True,       \n",
    "    double_view=False    \n",
    ")\n",
    "\n",
    "violence_val_sscl_generator = SSCLVideoDataGenerator(\n",
    "    violence_val_videos,\n",
    "    violence_val_labels_np,\n",
    "    batch_size=batch_size,\n",
    "    shuffle=False,\n",
    "    split='val',\n",
    "    augment=False,\n",
    "    double_view=False\n",
    ")\n",
    "\n",
    "violence_test_sscl_generator = SSCLVideoDataGenerator(\n",
    "    violence_test_videos,\n",
    "    violence_test_labels_np,\n",
    "    batch_size=batch_size,\n",
    "    shuffle=False,\n",
    "    split='test',\n",
    "    augment=False,\n",
    "    double_view=False\n",
    ")\n",
    "\n",
    "tiktok_train_sscl_generator = SSCLVideoDataGenerator(\n",
    "    tiktok_train_videos,\n",
    "    tiktok_train_labels_np,\n",
    "    batch_size=batch_size,\n",
    "    shuffle=True,\n",
    "    augment=True,\n",
    ")\n",
    "\n",
    "tiktok_train_single_sscl_generator = SSCLVideoDataGenerator(\n",
    "    tiktok_train_videos,\n",
    "    tiktok_train_labels_np,\n",
    "    batch_size=batch_size,\n",
    "    shuffle=True,\n",
    "    split='train',\n",
    "    augment=True,       \n",
    "    double_view=False    \n",
    ")\n",
    "\n",
    "tiktok_val_sscl_generator = SSCLVideoDataGenerator(\n",
    "    tiktok_val_videos,\n",
    "    tiktok_val_labels_np,\n",
    "    batch_size=batch_size,\n",
    "    shuffle=False,\n",
    "    augment=False,\n",
    "    double_view=False,\n",
    ")\n",
    "tiktok_test_sscl_generator = SSCLVideoDataGenerator(\n",
    "    tiktok_test_videos,\n",
    "    tiktok_test_labels_np,\n",
    "    batch_size=batch_size,\n",
    "    shuffle=False,\n",
    "    augment=False,\n",
    "    double_view=False,\n",
    ")\n",
    "\n"
   ],
   "id": "102fd8624d03d1ad",
   "outputs": [],
   "execution_count": 13
  },
  {
   "metadata": {
    "ExecuteTime": {
     "end_time": "2024-11-14T19:59:23.375234Z",
     "start_time": "2024-11-14T19:59:23.061847Z"
    }
   },
   "cell_type": "code",
   "source": [
    "sscl_model = load_c3d_sscl_model(input_shape=input_shape, feature_dim=feature_dim)\n",
    "print(\"SSCL Model Summary:\")\n",
    "sscl_model.summary()"
   ],
   "id": "aee466c25b3f1cd1",
   "outputs": [
    {
     "name": "stdout",
     "output_type": "stream",
     "text": [
      "SSCL Model Summary:\n",
      "Model: \"model_2\"\n",
      "_________________________________________________________________\n",
      " Layer (type)                Output Shape              Param #   \n",
      "=================================================================\n",
      " input_2 (InputLayer)        [(None, 12, 64, 64, 3)]   0         \n",
      "                                                                 \n",
      " conv3d_8 (Conv3D)           (None, 12, 64, 64, 64)    5248      \n",
      "                                                                 \n",
      " max_pooling3d_5 (MaxPooling  (None, 12, 32, 32, 64)   0         \n",
      " 3D)                                                             \n",
      "                                                                 \n",
      " conv3d_9 (Conv3D)           (None, 12, 32, 32, 128)   221312    \n",
      "                                                                 \n",
      " max_pooling3d_6 (MaxPooling  (None, 6, 16, 16, 128)   0         \n",
      " 3D)                                                             \n",
      "                                                                 \n",
      " conv3d_10 (Conv3D)          (None, 6, 16, 16, 256)    884992    \n",
      "                                                                 \n",
      " conv3d_11 (Conv3D)          (None, 6, 16, 16, 256)    1769728   \n",
      "                                                                 \n",
      " max_pooling3d_7 (MaxPooling  (None, 6, 8, 8, 256)     0         \n",
      " 3D)                                                             \n",
      "                                                                 \n",
      " conv3d_12 (Conv3D)          (None, 6, 8, 8, 512)      3539456   \n",
      "                                                                 \n",
      " conv3d_13 (Conv3D)          (None, 6, 8, 8, 512)      7078400   \n",
      "                                                                 \n",
      " max_pooling3d_8 (MaxPooling  (None, 3, 4, 4, 512)     0         \n",
      " 3D)                                                             \n",
      "                                                                 \n",
      " conv3d_14 (Conv3D)          (None, 3, 4, 4, 512)      7078400   \n",
      "                                                                 \n",
      " conv3d_15 (Conv3D)          (None, 3, 4, 4, 512)      7078400   \n",
      "                                                                 \n",
      " max_pooling3d_9 (MaxPooling  (None, 3, 2, 2, 512)     0         \n",
      " 3D)                                                             \n",
      "                                                                 \n",
      " flatten_1 (Flatten)         (None, 6144)              0         \n",
      "                                                                 \n",
      " dense_4 (Dense)             (None, 4096)              25169920  \n",
      "                                                                 \n",
      " dropout_2 (Dropout)         (None, 4096)              0         \n",
      "                                                                 \n",
      " dense_5 (Dense)             (None, 4096)              16781312  \n",
      "                                                                 \n",
      " dropout_3 (Dropout)         (None, 4096)              0         \n",
      "                                                                 \n",
      " features (Dense)            (None, 512)               2097664   \n",
      "                                                                 \n",
      " projections (Dense)         (None, 512)               262656    \n",
      "                                                                 \n",
      "=================================================================\n",
      "Total params: 71,967,488\n",
      "Trainable params: 71,967,488\n",
      "Non-trainable params: 0\n",
      "_________________________________________________________________\n"
     ]
    }
   ],
   "execution_count": 14
  },
  {
   "metadata": {
    "jupyter": {
     "is_executing": true
    },
    "ExecuteTime": {
     "start_time": "2024-11-14T19:59:25.287366Z"
    }
   },
   "cell_type": "code",
   "source": [
    "# 训练SSCL模型（在暴力数据集上）\n",
    "train_simclr_model(sscl_model, violence_train_sscl_generator, epochs=num_epochs, temperature=temperature)\n"
   ],
   "id": "5e0cc1c5a6983fe1",
   "outputs": [
    {
     "name": "stdout",
     "output_type": "stream",
     "text": [
      "Epoch 1/3\n"
     ]
    }
   ],
   "execution_count": null
  },
  {
   "metadata": {
    "ExecuteTime": {
     "end_time": "2024-11-14T19:23:59.958978Z",
     "start_time": "2024-11-14T19:21:52.810967Z"
    }
   },
   "cell_type": "code",
   "source": [
    "# 在线性评估中使用训练好的SSCL模型（暴力数据集）\n",
    "sscl_c3d_result_violence = linear_evaluation_sscl(\n",
    "    sscl_model,\n",
    "    violence_train_single_sscl_generator,\n",
    "    violence_val_sscl_generator,\n",
    "    violence_test_sscl_generator,\n",
    "    num_classes=num_classes,\n",
    "    # num_epochs=num_epochs,\n",
    ")"
   ],
   "id": "e58ef713eda7b3cd",
   "outputs": [
    {
     "name": "stdout",
     "output_type": "stream",
     "text": [
      "Epoch 1/5\n",
      "13/13 [==============================] - 24s 2s/step - loss: 3.9680 - accuracy: 0.5000 - val_loss: 3.1109 - val_accuracy: 0.5833\n",
      "Epoch 2/5\n",
      "13/13 [==============================] - 23s 2s/step - loss: 2.6505 - accuracy: 0.6538 - val_loss: 2.2255 - val_accuracy: 0.5833\n",
      "Epoch 3/5\n",
      "13/13 [==============================] - 22s 2s/step - loss: 2.1467 - accuracy: 0.5192 - val_loss: 1.6400 - val_accuracy: 0.5833\n",
      "Epoch 4/5\n",
      "13/13 [==============================] - 21s 2s/step - loss: 2.6265 - accuracy: 0.5192 - val_loss: 1.6014 - val_accuracy: 0.5833\n",
      "Epoch 5/5\n",
      "13/13 [==============================] - 20s 2s/step - loss: 2.2620 - accuracy: 0.4615 - val_loss: 1.7784 - val_accuracy: 0.5833\n",
      "7/7 [==============================] - 11s 1s/step - loss: 2.0043 - accuracy: 0.4643\n",
      "Test Loss: 2.004310369491577, Test Accuracy: 0.4642857015132904\n"
     ]
    }
   ],
   "execution_count": 24
  },
  {
   "metadata": {},
   "cell_type": "code",
   "outputs": [],
   "execution_count": null,
   "source": "train_simclr_model(sscl_model, tiktok_train_sscl_generator, epochs=num_epochs, temperature=temperature)\n",
   "id": "514804957bffeea5"
  },
  {
   "metadata": {},
   "cell_type": "code",
   "outputs": [],
   "execution_count": null,
   "source": [
    "sscl_c3d_result_tiktok = linear_evaluation_sscl(\n",
    "    sscl_model,\n",
    "    tiktok_train_sscl_generator,\n",
    "    tiktok_val_sscl_generator,\n",
    "    tiktok_test_sscl_generator,\n",
    "    num_classes=num_classes,\n",
    "    num_epochs=num_epochs\n",
    ")"
   ],
   "id": "ddaf4a0182b84024"
  },
  {
   "metadata": {},
   "cell_type": "markdown",
   "source": [
    " ## R2+1d_18\n",
    "\n"
   ],
   "id": "ad382a4266f5d757"
  },
  {
   "metadata": {
    "ExecuteTime": {
     "end_time": "2024-11-14T19:41:44.032332Z",
     "start_time": "2024-11-14T19:41:43.404545Z"
    }
   },
   "cell_type": "code",
   "source": [
    "baseline_model = load_r2plus1d_model(\n",
    "    input_shape=input_shape,\n",
    "    feature_dim=feature_dim,\n",
    "    include_top=True\n",
    ")"
   ],
   "id": "844b108d8beb0907",
   "outputs": [],
   "execution_count": 25
  },
  {
   "metadata": {
    "ExecuteTime": {
     "end_time": "2024-11-14T19:41:45.241455Z",
     "start_time": "2024-11-14T19:41:45.202697Z"
    }
   },
   "cell_type": "code",
   "source": [
    "classification_model_violence = create_classification_model(baseline_model, num_classes)\n",
    "for layer in classification_model_violence.layers[:-1]:\n",
    "    layer.trainable = False\n",
    "classification_model_violence.compile(\n",
    "    loss=losses.SparseCategoricalCrossentropy(),\n",
    "    optimizer=tf.keras.optimizers.Adam(learning_rate=learning_rate),\n",
    "    metrics=[metrics.SparseCategoricalAccuracy()]\n",
    ")"
   ],
   "id": "fc0683e381a38eda",
   "outputs": [],
   "execution_count": 26
  },
  {
   "metadata": {
    "ExecuteTime": {
     "end_time": "2024-11-14T19:42:12.145205Z",
     "start_time": "2024-11-14T19:41:46.655877Z"
    }
   },
   "cell_type": "code",
   "source": [
    "classification_model_violence.fit(\n",
    "    violence_train_generator,\n",
    "    validation_data=violence_val_generator,\n",
    "    epochs=num_epochs\n",
    ")"
   ],
   "id": "3cab0abd1a213d49",
   "outputs": [
    {
     "name": "stdout",
     "output_type": "stream",
     "text": [
      "Epoch 1/3\n",
      "13/13 [==============================] - 9s 628ms/step - loss: 0.6932 - sparse_categorical_accuracy: 0.5192 - val_loss: 0.6817 - val_sparse_categorical_accuracy: 0.5833\n",
      "Epoch 2/3\n",
      "13/13 [==============================] - 8s 617ms/step - loss: 0.6996 - sparse_categorical_accuracy: 0.4808 - val_loss: 0.6819 - val_sparse_categorical_accuracy: 0.5833\n",
      "Epoch 3/3\n",
      "13/13 [==============================] - 7s 501ms/step - loss: 0.6987 - sparse_categorical_accuracy: 0.4808 - val_loss: 0.6832 - val_sparse_categorical_accuracy: 0.5833\n"
     ]
    },
    {
     "data": {
      "text/plain": [
       "<keras.callbacks.History at 0x218c2740310>"
      ]
     },
     "execution_count": 27,
     "metadata": {},
     "output_type": "execute_result"
    }
   ],
   "execution_count": 27
  },
  {
   "metadata": {
    "ExecuteTime": {
     "end_time": "2024-11-14T19:42:49.116070Z",
     "start_time": "2024-11-14T19:42:44.578479Z"
    }
   },
   "cell_type": "code",
   "source": [
    "base_r2plus1d_results_violence = classification_model_violence.evaluate(violence_test_generator)\n",
    "print(\n",
    "    f\"Violence Dataset - Test Loss: {base_r2plus1d_results_violence[0]}, Test Accuracy: {base_r2plus1d_results_violence[1]}\"\n",
    ")"
   ],
   "id": "8ac2c58c9da078c",
   "outputs": [
    {
     "name": "stdout",
     "output_type": "stream",
     "text": [
      "7/7 [==============================] - 4s 490ms/step - loss: 0.7003 - sparse_categorical_accuracy: 0.4643\n",
      "Violence Dataset - Test Loss: 0.7002629041671753, Test Accuracy: 0.4642857015132904\n"
     ]
    }
   ],
   "execution_count": 29
  },
  {
   "metadata": {},
   "cell_type": "code",
   "outputs": [],
   "execution_count": null,
   "source": [
    "\n",
    "classification_model_tiktok = create_classification_model(baseline_model, num_classes)\n",
    "\n",
    "for layer in classification_model_tiktok.layers[:-1]:\n",
    "    layer.trainable = False\n",
    "    \n",
    "classification_model_tiktok.compile(\n",
    "    loss=losses.SparseCategoricalCrossentropy(),\n",
    "    optimizer=optimizers.Adam(learning_rate=learning_rate),\n",
    "    metrics=[metrics.SparseCategoricalAccuracy()],\n",
    ")\n",
    "\n",
    "print(\"Classification Model for TikTok Dataset Summary:\")\n",
    "classification_model_tiktok.summary()"
   ],
   "id": "5cb854678babee14"
  },
  {
   "metadata": {},
   "cell_type": "code",
   "outputs": [],
   "execution_count": null,
   "source": [
    "history_tiktok = classification_model_tiktok.fit(\n",
    "    tiktok_train_generator,\n",
    "    validation_data=tiktok_val_generator,\n",
    "    epochs=num_epochs,\n",
    ")"
   ],
   "id": "9c0a3c786f2f844a"
  },
  {
   "metadata": {
    "ExecuteTime": {
     "end_time": "2024-11-14T19:45:01.058134Z",
     "start_time": "2024-11-14T19:45:01.037359Z"
    }
   },
   "cell_type": "code",
   "source": [
    "base_r2plus1d_results_tiktok = classification_model_tiktok.evaluate(tiktok_test_generator)\n",
    "print(\n",
    "    f\"TikTok Dataset - Test Loss: {base_r2plus1d_results_tiktok[0]}, Test Accuracy: {base_r2plus1d_results_tiktok[1]}\"\n",
    ")\n"
   ],
   "id": "c73d852874c8dcae",
   "outputs": [
    {
     "ename": "NameError",
     "evalue": "name 'classification_model_tiktok' is not defined",
     "output_type": "error",
     "traceback": [
      "\u001B[1;31m---------------------------------------------------------------------------\u001B[0m",
      "\u001B[1;31mNameError\u001B[0m                                 Traceback (most recent call last)",
      "Cell \u001B[1;32mIn[30], line 1\u001B[0m\n\u001B[1;32m----> 1\u001B[0m base_r2plus1d_results_tiktok \u001B[38;5;241m=\u001B[39m \u001B[43mclassification_model_tiktok\u001B[49m\u001B[38;5;241m.\u001B[39mevaluate(tiktok_test_generator)\n\u001B[0;32m      2\u001B[0m \u001B[38;5;28mprint\u001B[39m(\n\u001B[0;32m      3\u001B[0m     \u001B[38;5;124mf\u001B[39m\u001B[38;5;124m\"\u001B[39m\u001B[38;5;124mTikTok Dataset - Test Loss: \u001B[39m\u001B[38;5;132;01m{\u001B[39;00mbase_r2plus1d_results_tiktok[\u001B[38;5;241m0\u001B[39m]\u001B[38;5;132;01m}\u001B[39;00m\u001B[38;5;124m, Test Accuracy: \u001B[39m\u001B[38;5;132;01m{\u001B[39;00mbase_r2plus1d_results_tiktok[\u001B[38;5;241m1\u001B[39m]\u001B[38;5;132;01m}\u001B[39;00m\u001B[38;5;124m\"\u001B[39m\n\u001B[0;32m      4\u001B[0m )\n",
      "\u001B[1;31mNameError\u001B[0m: name 'classification_model_tiktok' is not defined"
     ]
    }
   ],
   "execution_count": 30
  },
  {
   "metadata": {
    "ExecuteTime": {
     "end_time": "2024-11-14T19:45:07.827732Z",
     "start_time": "2024-11-14T19:45:07.149344Z"
    }
   },
   "cell_type": "code",
   "source": [
    "msupcl_model = load_r2plus1d_model(\n",
    "    input_shape=input_shape,\n",
    "    feature_dim=feature_dim,\n",
    "    include_top=False\n",
    ")\n",
    "\n",
    "print(\"MSupCL Model Summary:\")\n",
    "msupcl_model.summary()"
   ],
   "id": "3f84132d8ec1847b",
   "outputs": [
    {
     "name": "stdout",
     "output_type": "stream",
     "text": [
      "MSupCL Model Summary:\n",
      "Model: \"model_7\"\n",
      "__________________________________________________________________________________________________\n",
      " Layer (type)                   Output Shape         Param #     Connected to                     \n",
      "==================================================================================================\n",
      " input_4 (InputLayer)           [(None, 12, 64, 64,  0           []                               \n",
      "                                 3)]                                                              \n",
      "                                                                                                  \n",
      " conv3d_52 (Conv3D)             (None, 12, 32, 32,   9408        ['input_4[0][0]']                \n",
      "                                64)                                                               \n",
      "                                                                                                  \n",
      " batch_normalization_36 (BatchN  (None, 12, 32, 32,   256        ['conv3d_52[0][0]']              \n",
      " ormalization)                  64)                                                               \n",
      "                                                                                                  \n",
      " re_lu_41 (ReLU)                (None, 12, 32, 32,   0           ['batch_normalization_36[0][0]'] \n",
      "                                64)                                                               \n",
      "                                                                                                  \n",
      " max_pooling3d_11 (MaxPooling3D  (None, 12, 16, 16,   0          ['re_lu_41[0][0]']               \n",
      " )                              64)                                                               \n",
      "                                                                                                  \n",
      " conv3d_53 (Conv3D)             (None, 12, 16, 16,   36864       ['max_pooling3d_11[0][0]']       \n",
      "                                64)                                                               \n",
      "                                                                                                  \n",
      " batch_normalization_37 (BatchN  (None, 12, 16, 16,   256        ['conv3d_53[0][0]']              \n",
      " ormalization)                  64)                                                               \n",
      "                                                                                                  \n",
      " re_lu_42 (ReLU)                (None, 12, 16, 16,   0           ['batch_normalization_37[0][0]'] \n",
      "                                64)                                                               \n",
      "                                                                                                  \n",
      " conv3d_54 (Conv3D)             (None, 12, 16, 16,   12288       ['re_lu_42[0][0]']               \n",
      "                                64)                                                               \n",
      "                                                                                                  \n",
      " batch_normalization_38 (BatchN  (None, 12, 16, 16,   256        ['conv3d_54[0][0]']              \n",
      " ormalization)                  64)                                                               \n",
      "                                                                                                  \n",
      " re_lu_43 (ReLU)                (None, 12, 16, 16,   0           ['batch_normalization_38[0][0]'] \n",
      "                                64)                                                               \n",
      "                                                                                                  \n",
      " conv3d_55 (Conv3D)             (None, 12, 16, 16,   36864       ['re_lu_43[0][0]']               \n",
      "                                64)                                                               \n",
      "                                                                                                  \n",
      " batch_normalization_39 (BatchN  (None, 12, 16, 16,   256        ['conv3d_55[0][0]']              \n",
      " ormalization)                  64)                                                               \n",
      "                                                                                                  \n",
      " re_lu_44 (ReLU)                (None, 12, 16, 16,   0           ['batch_normalization_39[0][0]'] \n",
      "                                64)                                                               \n",
      "                                                                                                  \n",
      " conv3d_56 (Conv3D)             (None, 12, 16, 16,   12288       ['re_lu_44[0][0]']               \n",
      "                                64)                                                               \n",
      "                                                                                                  \n",
      " batch_normalization_40 (BatchN  (None, 12, 16, 16,   256        ['conv3d_56[0][0]']              \n",
      " ormalization)                  64)                                                               \n",
      "                                                                                                  \n",
      " re_lu_45 (ReLU)                (None, 12, 16, 16,   0           ['batch_normalization_40[0][0]'] \n",
      "                                64)                                                               \n",
      "                                                                                                  \n",
      " add_8 (Add)                    (None, 12, 16, 16,   0           ['re_lu_45[0][0]',               \n",
      "                                64)                               'max_pooling3d_11[0][0]']       \n",
      "                                                                                                  \n",
      " re_lu_46 (ReLU)                (None, 12, 16, 16,   0           ['add_8[0][0]']                  \n",
      "                                64)                                                               \n",
      "                                                                                                  \n",
      " conv3d_57 (Conv3D)             (None, 12, 16, 16,   36864       ['re_lu_46[0][0]']               \n",
      "                                64)                                                               \n",
      "                                                                                                  \n",
      " batch_normalization_41 (BatchN  (None, 12, 16, 16,   256        ['conv3d_57[0][0]']              \n",
      " ormalization)                  64)                                                               \n",
      "                                                                                                  \n",
      " re_lu_47 (ReLU)                (None, 12, 16, 16,   0           ['batch_normalization_41[0][0]'] \n",
      "                                64)                                                               \n",
      "                                                                                                  \n",
      " conv3d_58 (Conv3D)             (None, 12, 16, 16,   12288       ['re_lu_47[0][0]']               \n",
      "                                64)                                                               \n",
      "                                                                                                  \n",
      " batch_normalization_42 (BatchN  (None, 12, 16, 16,   256        ['conv3d_58[0][0]']              \n",
      " ormalization)                  64)                                                               \n",
      "                                                                                                  \n",
      " re_lu_48 (ReLU)                (None, 12, 16, 16,   0           ['batch_normalization_42[0][0]'] \n",
      "                                64)                                                               \n",
      "                                                                                                  \n",
      " conv3d_59 (Conv3D)             (None, 12, 16, 16,   36864       ['re_lu_48[0][0]']               \n",
      "                                64)                                                               \n",
      "                                                                                                  \n",
      " batch_normalization_43 (BatchN  (None, 12, 16, 16,   256        ['conv3d_59[0][0]']              \n",
      " ormalization)                  64)                                                               \n",
      "                                                                                                  \n",
      " re_lu_49 (ReLU)                (None, 12, 16, 16,   0           ['batch_normalization_43[0][0]'] \n",
      "                                64)                                                               \n",
      "                                                                                                  \n",
      " conv3d_60 (Conv3D)             (None, 12, 16, 16,   12288       ['re_lu_49[0][0]']               \n",
      "                                64)                                                               \n",
      "                                                                                                  \n",
      " batch_normalization_44 (BatchN  (None, 12, 16, 16,   256        ['conv3d_60[0][0]']              \n",
      " ormalization)                  64)                                                               \n",
      "                                                                                                  \n",
      " re_lu_50 (ReLU)                (None, 12, 16, 16,   0           ['batch_normalization_44[0][0]'] \n",
      "                                64)                                                               \n",
      "                                                                                                  \n",
      " add_9 (Add)                    (None, 12, 16, 16,   0           ['re_lu_50[0][0]',               \n",
      "                                64)                               're_lu_46[0][0]']               \n",
      "                                                                                                  \n",
      " re_lu_51 (ReLU)                (None, 12, 16, 16,   0           ['add_9[0][0]']                  \n",
      "                                64)                                                               \n",
      "                                                                                                  \n",
      " conv3d_61 (Conv3D)             (None, 6, 8, 8, 128  73728       ['re_lu_51[0][0]']               \n",
      "                                )                                                                 \n",
      "                                                                                                  \n",
      " batch_normalization_45 (BatchN  (None, 6, 8, 8, 128  512        ['conv3d_61[0][0]']              \n",
      " ormalization)                  )                                                                 \n",
      "                                                                                                  \n",
      " re_lu_52 (ReLU)                (None, 6, 8, 8, 128  0           ['batch_normalization_45[0][0]'] \n",
      "                                )                                                                 \n",
      "                                                                                                  \n",
      " conv3d_62 (Conv3D)             (None, 6, 8, 8, 128  49152       ['re_lu_52[0][0]']               \n",
      "                                )                                                                 \n",
      "                                                                                                  \n",
      " batch_normalization_46 (BatchN  (None, 6, 8, 8, 128  512        ['conv3d_62[0][0]']              \n",
      " ormalization)                  )                                                                 \n",
      "                                                                                                  \n",
      " re_lu_53 (ReLU)                (None, 6, 8, 8, 128  0           ['batch_normalization_46[0][0]'] \n",
      "                                )                                                                 \n",
      "                                                                                                  \n",
      " conv3d_63 (Conv3D)             (None, 6, 8, 8, 128  147456      ['re_lu_53[0][0]']               \n",
      "                                )                                                                 \n",
      "                                                                                                  \n",
      " batch_normalization_47 (BatchN  (None, 6, 8, 8, 128  512        ['conv3d_63[0][0]']              \n",
      " ormalization)                  )                                                                 \n",
      "                                                                                                  \n",
      " re_lu_54 (ReLU)                (None, 6, 8, 8, 128  0           ['batch_normalization_47[0][0]'] \n",
      "                                )                                                                 \n",
      "                                                                                                  \n",
      " conv3d_64 (Conv3D)             (None, 6, 8, 8, 128  49152       ['re_lu_54[0][0]']               \n",
      "                                )                                                                 \n",
      "                                                                                                  \n",
      " batch_normalization_48 (BatchN  (None, 6, 8, 8, 128  512        ['conv3d_64[0][0]']              \n",
      " ormalization)                  )                                                                 \n",
      "                                                                                                  \n",
      " conv3d_65 (Conv3D)             (None, 6, 8, 8, 128  8192        ['re_lu_51[0][0]']               \n",
      "                                )                                                                 \n",
      "                                                                                                  \n",
      " re_lu_55 (ReLU)                (None, 6, 8, 8, 128  0           ['batch_normalization_48[0][0]'] \n",
      "                                )                                                                 \n",
      "                                                                                                  \n",
      " batch_normalization_49 (BatchN  (None, 6, 8, 8, 128  512        ['conv3d_65[0][0]']              \n",
      " ormalization)                  )                                                                 \n",
      "                                                                                                  \n",
      " add_10 (Add)                   (None, 6, 8, 8, 128  0           ['re_lu_55[0][0]',               \n",
      "                                )                                 'batch_normalization_49[0][0]'] \n",
      "                                                                                                  \n",
      " re_lu_56 (ReLU)                (None, 6, 8, 8, 128  0           ['add_10[0][0]']                 \n",
      "                                )                                                                 \n",
      "                                                                                                  \n",
      " conv3d_66 (Conv3D)             (None, 6, 8, 8, 128  147456      ['re_lu_56[0][0]']               \n",
      "                                )                                                                 \n",
      "                                                                                                  \n",
      " batch_normalization_50 (BatchN  (None, 6, 8, 8, 128  512        ['conv3d_66[0][0]']              \n",
      " ormalization)                  )                                                                 \n",
      "                                                                                                  \n",
      " re_lu_57 (ReLU)                (None, 6, 8, 8, 128  0           ['batch_normalization_50[0][0]'] \n",
      "                                )                                                                 \n",
      "                                                                                                  \n",
      " conv3d_67 (Conv3D)             (None, 6, 8, 8, 128  49152       ['re_lu_57[0][0]']               \n",
      "                                )                                                                 \n",
      "                                                                                                  \n",
      " batch_normalization_51 (BatchN  (None, 6, 8, 8, 128  512        ['conv3d_67[0][0]']              \n",
      " ormalization)                  )                                                                 \n",
      "                                                                                                  \n",
      " re_lu_58 (ReLU)                (None, 6, 8, 8, 128  0           ['batch_normalization_51[0][0]'] \n",
      "                                )                                                                 \n",
      "                                                                                                  \n",
      " conv3d_68 (Conv3D)             (None, 6, 8, 8, 128  147456      ['re_lu_58[0][0]']               \n",
      "                                )                                                                 \n",
      "                                                                                                  \n",
      " batch_normalization_52 (BatchN  (None, 6, 8, 8, 128  512        ['conv3d_68[0][0]']              \n",
      " ormalization)                  )                                                                 \n",
      "                                                                                                  \n",
      " re_lu_59 (ReLU)                (None, 6, 8, 8, 128  0           ['batch_normalization_52[0][0]'] \n",
      "                                )                                                                 \n",
      "                                                                                                  \n",
      " conv3d_69 (Conv3D)             (None, 6, 8, 8, 128  49152       ['re_lu_59[0][0]']               \n",
      "                                )                                                                 \n",
      "                                                                                                  \n",
      " batch_normalization_53 (BatchN  (None, 6, 8, 8, 128  512        ['conv3d_69[0][0]']              \n",
      " ormalization)                  )                                                                 \n",
      "                                                                                                  \n",
      " re_lu_60 (ReLU)                (None, 6, 8, 8, 128  0           ['batch_normalization_53[0][0]'] \n",
      "                                )                                                                 \n",
      "                                                                                                  \n",
      " add_11 (Add)                   (None, 6, 8, 8, 128  0           ['re_lu_60[0][0]',               \n",
      "                                )                                 're_lu_56[0][0]']               \n",
      "                                                                                                  \n",
      " re_lu_61 (ReLU)                (None, 6, 8, 8, 128  0           ['add_11[0][0]']                 \n",
      "                                )                                                                 \n",
      "                                                                                                  \n",
      " conv3d_70 (Conv3D)             (None, 3, 4, 4, 256  294912      ['re_lu_61[0][0]']               \n",
      "                                )                                                                 \n",
      "                                                                                                  \n",
      " batch_normalization_54 (BatchN  (None, 3, 4, 4, 256  1024       ['conv3d_70[0][0]']              \n",
      " ormalization)                  )                                                                 \n",
      "                                                                                                  \n",
      " re_lu_62 (ReLU)                (None, 3, 4, 4, 256  0           ['batch_normalization_54[0][0]'] \n",
      "                                )                                                                 \n",
      "                                                                                                  \n",
      " conv3d_71 (Conv3D)             (None, 3, 4, 4, 256  196608      ['re_lu_62[0][0]']               \n",
      "                                )                                                                 \n",
      "                                                                                                  \n",
      " batch_normalization_55 (BatchN  (None, 3, 4, 4, 256  1024       ['conv3d_71[0][0]']              \n",
      " ormalization)                  )                                                                 \n",
      "                                                                                                  \n",
      " re_lu_63 (ReLU)                (None, 3, 4, 4, 256  0           ['batch_normalization_55[0][0]'] \n",
      "                                )                                                                 \n",
      "                                                                                                  \n",
      " conv3d_72 (Conv3D)             (None, 3, 4, 4, 256  589824      ['re_lu_63[0][0]']               \n",
      "                                )                                                                 \n",
      "                                                                                                  \n",
      " batch_normalization_56 (BatchN  (None, 3, 4, 4, 256  1024       ['conv3d_72[0][0]']              \n",
      " ormalization)                  )                                                                 \n",
      "                                                                                                  \n",
      " re_lu_64 (ReLU)                (None, 3, 4, 4, 256  0           ['batch_normalization_56[0][0]'] \n",
      "                                )                                                                 \n",
      "                                                                                                  \n",
      " conv3d_73 (Conv3D)             (None, 3, 4, 4, 256  196608      ['re_lu_64[0][0]']               \n",
      "                                )                                                                 \n",
      "                                                                                                  \n",
      " batch_normalization_57 (BatchN  (None, 3, 4, 4, 256  1024       ['conv3d_73[0][0]']              \n",
      " ormalization)                  )                                                                 \n",
      "                                                                                                  \n",
      " conv3d_74 (Conv3D)             (None, 3, 4, 4, 256  32768       ['re_lu_61[0][0]']               \n",
      "                                )                                                                 \n",
      "                                                                                                  \n",
      " re_lu_65 (ReLU)                (None, 3, 4, 4, 256  0           ['batch_normalization_57[0][0]'] \n",
      "                                )                                                                 \n",
      "                                                                                                  \n",
      " batch_normalization_58 (BatchN  (None, 3, 4, 4, 256  1024       ['conv3d_74[0][0]']              \n",
      " ormalization)                  )                                                                 \n",
      "                                                                                                  \n",
      " add_12 (Add)                   (None, 3, 4, 4, 256  0           ['re_lu_65[0][0]',               \n",
      "                                )                                 'batch_normalization_58[0][0]'] \n",
      "                                                                                                  \n",
      " re_lu_66 (ReLU)                (None, 3, 4, 4, 256  0           ['add_12[0][0]']                 \n",
      "                                )                                                                 \n",
      "                                                                                                  \n",
      " conv3d_75 (Conv3D)             (None, 3, 4, 4, 256  589824      ['re_lu_66[0][0]']               \n",
      "                                )                                                                 \n",
      "                                                                                                  \n",
      " batch_normalization_59 (BatchN  (None, 3, 4, 4, 256  1024       ['conv3d_75[0][0]']              \n",
      " ormalization)                  )                                                                 \n",
      "                                                                                                  \n",
      " re_lu_67 (ReLU)                (None, 3, 4, 4, 256  0           ['batch_normalization_59[0][0]'] \n",
      "                                )                                                                 \n",
      "                                                                                                  \n",
      " conv3d_76 (Conv3D)             (None, 3, 4, 4, 256  196608      ['re_lu_67[0][0]']               \n",
      "                                )                                                                 \n",
      "                                                                                                  \n",
      " batch_normalization_60 (BatchN  (None, 3, 4, 4, 256  1024       ['conv3d_76[0][0]']              \n",
      " ormalization)                  )                                                                 \n",
      "                                                                                                  \n",
      " re_lu_68 (ReLU)                (None, 3, 4, 4, 256  0           ['batch_normalization_60[0][0]'] \n",
      "                                )                                                                 \n",
      "                                                                                                  \n",
      " conv3d_77 (Conv3D)             (None, 3, 4, 4, 256  589824      ['re_lu_68[0][0]']               \n",
      "                                )                                                                 \n",
      "                                                                                                  \n",
      " batch_normalization_61 (BatchN  (None, 3, 4, 4, 256  1024       ['conv3d_77[0][0]']              \n",
      " ormalization)                  )                                                                 \n",
      "                                                                                                  \n",
      " re_lu_69 (ReLU)                (None, 3, 4, 4, 256  0           ['batch_normalization_61[0][0]'] \n",
      "                                )                                                                 \n",
      "                                                                                                  \n",
      " conv3d_78 (Conv3D)             (None, 3, 4, 4, 256  196608      ['re_lu_69[0][0]']               \n",
      "                                )                                                                 \n",
      "                                                                                                  \n",
      " batch_normalization_62 (BatchN  (None, 3, 4, 4, 256  1024       ['conv3d_78[0][0]']              \n",
      " ormalization)                  )                                                                 \n",
      "                                                                                                  \n",
      " re_lu_70 (ReLU)                (None, 3, 4, 4, 256  0           ['batch_normalization_62[0][0]'] \n",
      "                                )                                                                 \n",
      "                                                                                                  \n",
      " add_13 (Add)                   (None, 3, 4, 4, 256  0           ['re_lu_70[0][0]',               \n",
      "                                )                                 're_lu_66[0][0]']               \n",
      "                                                                                                  \n",
      " re_lu_71 (ReLU)                (None, 3, 4, 4, 256  0           ['add_13[0][0]']                 \n",
      "                                )                                                                 \n",
      "                                                                                                  \n",
      " conv3d_79 (Conv3D)             (None, 2, 2, 2, 512  1179648     ['re_lu_71[0][0]']               \n",
      "                                )                                                                 \n",
      "                                                                                                  \n",
      " batch_normalization_63 (BatchN  (None, 2, 2, 2, 512  2048       ['conv3d_79[0][0]']              \n",
      " ormalization)                  )                                                                 \n",
      "                                                                                                  \n",
      " re_lu_72 (ReLU)                (None, 2, 2, 2, 512  0           ['batch_normalization_63[0][0]'] \n",
      "                                )                                                                 \n",
      "                                                                                                  \n",
      " conv3d_80 (Conv3D)             (None, 2, 2, 2, 512  786432      ['re_lu_72[0][0]']               \n",
      "                                )                                                                 \n",
      "                                                                                                  \n",
      " batch_normalization_64 (BatchN  (None, 2, 2, 2, 512  2048       ['conv3d_80[0][0]']              \n",
      " ormalization)                  )                                                                 \n",
      "                                                                                                  \n",
      " re_lu_73 (ReLU)                (None, 2, 2, 2, 512  0           ['batch_normalization_64[0][0]'] \n",
      "                                )                                                                 \n",
      "                                                                                                  \n",
      " conv3d_81 (Conv3D)             (None, 2, 2, 2, 512  2359296     ['re_lu_73[0][0]']               \n",
      "                                )                                                                 \n",
      "                                                                                                  \n",
      " batch_normalization_65 (BatchN  (None, 2, 2, 2, 512  2048       ['conv3d_81[0][0]']              \n",
      " ormalization)                  )                                                                 \n",
      "                                                                                                  \n",
      " re_lu_74 (ReLU)                (None, 2, 2, 2, 512  0           ['batch_normalization_65[0][0]'] \n",
      "                                )                                                                 \n",
      "                                                                                                  \n",
      " conv3d_82 (Conv3D)             (None, 2, 2, 2, 512  786432      ['re_lu_74[0][0]']               \n",
      "                                )                                                                 \n",
      "                                                                                                  \n",
      " batch_normalization_66 (BatchN  (None, 2, 2, 2, 512  2048       ['conv3d_82[0][0]']              \n",
      " ormalization)                  )                                                                 \n",
      "                                                                                                  \n",
      " conv3d_83 (Conv3D)             (None, 2, 2, 2, 512  131072      ['re_lu_71[0][0]']               \n",
      "                                )                                                                 \n",
      "                                                                                                  \n",
      " re_lu_75 (ReLU)                (None, 2, 2, 2, 512  0           ['batch_normalization_66[0][0]'] \n",
      "                                )                                                                 \n",
      "                                                                                                  \n",
      " batch_normalization_67 (BatchN  (None, 2, 2, 2, 512  2048       ['conv3d_83[0][0]']              \n",
      " ormalization)                  )                                                                 \n",
      "                                                                                                  \n",
      " add_14 (Add)                   (None, 2, 2, 2, 512  0           ['re_lu_75[0][0]',               \n",
      "                                )                                 'batch_normalization_67[0][0]'] \n",
      "                                                                                                  \n",
      " re_lu_76 (ReLU)                (None, 2, 2, 2, 512  0           ['add_14[0][0]']                 \n",
      "                                )                                                                 \n",
      "                                                                                                  \n",
      " conv3d_84 (Conv3D)             (None, 2, 2, 2, 512  2359296     ['re_lu_76[0][0]']               \n",
      "                                )                                                                 \n",
      "                                                                                                  \n",
      " batch_normalization_68 (BatchN  (None, 2, 2, 2, 512  2048       ['conv3d_84[0][0]']              \n",
      " ormalization)                  )                                                                 \n",
      "                                                                                                  \n",
      " re_lu_77 (ReLU)                (None, 2, 2, 2, 512  0           ['batch_normalization_68[0][0]'] \n",
      "                                )                                                                 \n",
      "                                                                                                  \n",
      " conv3d_85 (Conv3D)             (None, 2, 2, 2, 512  786432      ['re_lu_77[0][0]']               \n",
      "                                )                                                                 \n",
      "                                                                                                  \n",
      " batch_normalization_69 (BatchN  (None, 2, 2, 2, 512  2048       ['conv3d_85[0][0]']              \n",
      " ormalization)                  )                                                                 \n",
      "                                                                                                  \n",
      " re_lu_78 (ReLU)                (None, 2, 2, 2, 512  0           ['batch_normalization_69[0][0]'] \n",
      "                                )                                                                 \n",
      "                                                                                                  \n",
      " conv3d_86 (Conv3D)             (None, 2, 2, 2, 512  2359296     ['re_lu_78[0][0]']               \n",
      "                                )                                                                 \n",
      "                                                                                                  \n",
      " batch_normalization_70 (BatchN  (None, 2, 2, 2, 512  2048       ['conv3d_86[0][0]']              \n",
      " ormalization)                  )                                                                 \n",
      "                                                                                                  \n",
      " re_lu_79 (ReLU)                (None, 2, 2, 2, 512  0           ['batch_normalization_70[0][0]'] \n",
      "                                )                                                                 \n",
      "                                                                                                  \n",
      " conv3d_87 (Conv3D)             (None, 2, 2, 2, 512  786432      ['re_lu_79[0][0]']               \n",
      "                                )                                                                 \n",
      "                                                                                                  \n",
      " batch_normalization_71 (BatchN  (None, 2, 2, 2, 512  2048       ['conv3d_87[0][0]']              \n",
      " ormalization)                  )                                                                 \n",
      "                                                                                                  \n",
      " re_lu_80 (ReLU)                (None, 2, 2, 2, 512  0           ['batch_normalization_71[0][0]'] \n",
      "                                )                                                                 \n",
      "                                                                                                  \n",
      " add_15 (Add)                   (None, 2, 2, 2, 512  0           ['re_lu_80[0][0]',               \n",
      "                                )                                 're_lu_76[0][0]']               \n",
      "                                                                                                  \n",
      " re_lu_81 (ReLU)                (None, 2, 2, 2, 512  0           ['add_15[0][0]']                 \n",
      "                                )                                                                 \n",
      "                                                                                                  \n",
      " global_average_pooling3d_1 (Gl  (None, 512)         0           ['re_lu_81[0][0]']               \n",
      " obalAveragePooling3D)                                                                            \n",
      "                                                                                                  \n",
      " dense_11 (Dense)               (None, 512)          262656      ['global_average_pooling3d_1[0][0\n",
      "                                                                 ]']                              \n",
      "                                                                                                  \n",
      "==================================================================================================\n",
      "Total params: 15,642,048\n",
      "Trainable params: 15,624,768\n",
      "Non-trainable params: 17,280\n",
      "__________________________________________________________________________________________________\n"
     ]
    }
   ],
   "execution_count": 31
  },
  {
   "metadata": {
    "ExecuteTime": {
     "end_time": "2024-11-14T19:46:44.026398Z",
     "start_time": "2024-11-14T19:45:14.619125Z"
    }
   },
   "cell_type": "code",
   "source": "train_msupcl_model(msupcl_model, msupcl_train_generator, epochs=num_epochs, temperature=temperature)",
   "id": "74c2c5087d89f933",
   "outputs": [
    {
     "name": "stdout",
     "output_type": "stream",
     "text": [
      "Epoch 1/3\n",
      "Training Loss: 6.4031\n",
      "Epoch 2/3\n",
      "Training Loss: 6.3538\n",
      "Epoch 3/3\n",
      "Training Loss: 6.3367\n"
     ]
    }
   ],
   "execution_count": 32
  },
  {
   "metadata": {
    "ExecuteTime": {
     "end_time": "2024-11-14T19:49:42.204247Z",
     "start_time": "2024-11-14T19:47:15.313178Z"
    }
   },
   "cell_type": "code",
   "source": [
    "msupcl_r2plus1d_result_violence, msupcl_r2plus1d_result_tiktok = linear_evaluation(\n",
    "    msupcl_model,\n",
    "    combined_train_generator,\n",
    "    violence_test_generator,\n",
    "    tiktok_test_generator,\n",
    "    num_classes=num_classes,\n",
    "    num_epochs=num_epochs,\n",
    ")\n"
   ],
   "id": "ac5b7bcdcbc1a5ca",
   "outputs": [
    {
     "name": "stdout",
     "output_type": "stream",
     "text": [
      "Epoch 1/5\n",
      "27/27 [==============================] - 28s 1000ms/step - loss: 0.6929 - accuracy: 0.5278\n",
      "Epoch 2/5\n",
      "27/27 [==============================] - 26s 981ms/step - loss: 0.6929 - accuracy: 0.5185\n",
      "Epoch 3/5\n",
      "27/27 [==============================] - 25s 945ms/step - loss: 0.6918 - accuracy: 0.5278\n",
      "Epoch 4/5\n",
      "27/27 [==============================] - 25s 952ms/step - loss: 0.6918 - accuracy: 0.5231\n",
      "Epoch 5/5\n",
      "27/27 [==============================] - 26s 962ms/step - loss: 0.6912 - accuracy: 0.5278\n",
      "Evaluating on Violence Test Set:\n",
      "7/7 [==============================] - 4s 519ms/step - loss: 0.6929 - accuracy: 0.5357\n",
      "Violence Test Loss: 0.6928600072860718, Test Accuracy: 0.5357142686843872\n",
      "Evaluating on TikTok Test Set:\n",
      "7/7 [==============================] - 9s 1s/step - loss: 0.6928 - accuracy: 0.4643\n",
      "TikTok Test Loss: 0.6928288340568542, Test Accuracy: 0.4642857015132904\n"
     ]
    }
   ],
   "execution_count": 34
  },
  {
   "metadata": {
    "ExecuteTime": {
     "end_time": "2024-11-14T19:51:00.807014Z",
     "start_time": "2024-11-14T19:51:00.256742Z"
    }
   },
   "cell_type": "code",
   "source": [
    "sscl_model = load_sscl_r2plus1d_model(\n",
    "    input_shape=input_shape,\n",
    "    feature_dim=feature_dim,\n",
    "    include_top=False\n",
    ")"
   ],
   "id": "cf20d6d700e5396a",
   "outputs": [],
   "execution_count": 35
  },
  {
   "metadata": {
    "ExecuteTime": {
     "end_time": "2024-11-14T19:52:46.565268Z",
     "start_time": "2024-11-14T19:52:45.350191Z"
    }
   },
   "cell_type": "code",
   "source": "train_simclr_model(sscl_model, violence_train_sscl_generator, epochs=num_epochs, temperature=temperature)",
   "id": "ead618d9c3c7421b",
   "outputs": [
    {
     "name": "stdout",
     "output_type": "stream",
     "text": [
      "Epoch 1/3\n"
     ]
    },
    {
     "ename": "ValueError",
     "evalue": "too many values to unpack (expected 2)",
     "output_type": "error",
     "traceback": [
      "\u001B[1;31m---------------------------------------------------------------------------\u001B[0m",
      "\u001B[1;31mValueError\u001B[0m                                Traceback (most recent call last)",
      "Cell \u001B[1;32mIn[38], line 1\u001B[0m\n\u001B[1;32m----> 1\u001B[0m \u001B[43mtrain_simclr_model\u001B[49m\u001B[43m(\u001B[49m\u001B[43msscl_model\u001B[49m\u001B[43m,\u001B[49m\u001B[43m \u001B[49m\u001B[43mviolence_train_sscl_generator\u001B[49m\u001B[43m,\u001B[49m\u001B[43m \u001B[49m\u001B[43mepochs\u001B[49m\u001B[38;5;241;43m=\u001B[39;49m\u001B[43mnum_epochs\u001B[49m\u001B[43m,\u001B[49m\u001B[43m \u001B[49m\u001B[43mtemperature\u001B[49m\u001B[38;5;241;43m=\u001B[39;49m\u001B[43mtemperature\u001B[49m\u001B[43m)\u001B[49m\n",
      "File \u001B[1;32mF:\\study\\CSi\\2024fall\\5341\\project\\Autism-Diagnosis-Transfer-Learning\\model_train.py:218\u001B[0m, in \u001B[0;36mtrain_simclr_model\u001B[1;34m(model, train_generator, epochs, temperature)\u001B[0m\n\u001B[0;32m    215\u001B[0m (x_i, x_j), _ \u001B[38;5;241m=\u001B[39m train_generator[step]\n\u001B[0;32m    216\u001B[0m \u001B[38;5;28;01mwith\u001B[39;00m tf\u001B[38;5;241m.\u001B[39mGradientTape() \u001B[38;5;28;01mas\u001B[39;00m tape:\n\u001B[0;32m    217\u001B[0m     \u001B[38;5;66;03m# 获取投影后的特征\u001B[39;00m\n\u001B[1;32m--> 218\u001B[0m     _, z_i \u001B[38;5;241m=\u001B[39m model(x_i, training\u001B[38;5;241m=\u001B[39m\u001B[38;5;28;01mTrue\u001B[39;00m)\n\u001B[0;32m    219\u001B[0m     _, z_j \u001B[38;5;241m=\u001B[39m model(x_j, training\u001B[38;5;241m=\u001B[39m\u001B[38;5;28;01mTrue\u001B[39;00m)\n\u001B[0;32m    220\u001B[0m     \u001B[38;5;66;03m# 计算 NT-Xent 损失\u001B[39;00m\n",
      "\u001B[1;31mValueError\u001B[0m: too many values to unpack (expected 2)"
     ]
    }
   ],
   "execution_count": 38
  },
  {
   "metadata": {},
   "cell_type": "code",
   "outputs": [],
   "execution_count": null,
   "source": [
    "sscl_c3d_result_violence = linear_evaluation_sscl(\n",
    "    sscl_model,\n",
    "    violence_train_single_sscl_generator,\n",
    "    violence_val_sscl_generator,\n",
    "    violence_test_sscl_generator,\n",
    "    num_classes=num_classes,\n",
    "    num_epochs=num_epochs,\n",
    ")"
   ],
   "id": "812a8989c62d155b"
  },
  {
   "metadata": {},
   "cell_type": "code",
   "outputs": [],
   "execution_count": null,
   "source": "train_simclr_model(sscl_model, tiktok_train_sscl_generator, epochs=num_epochs, temperature=temperature)",
   "id": "d5d3dc50b18e8d17"
  },
  {
   "metadata": {},
   "cell_type": "code",
   "outputs": [],
   "execution_count": null,
   "source": [
    "sscl_c3d_result_tiktok = linear_evaluation_sscl(\n",
    "    sscl_model,\n",
    "    tiktok_train_sscl_generator,\n",
    "    tiktok_val_sscl_generator,\n",
    "    tiktok_test_sscl_generator,\n",
    "    num_classes=num_classes,\n",
    "    num_epochs=num_epochs\n",
    ")"
   ],
   "id": "e5634628036f2721"
  },
  {
   "metadata": {},
   "cell_type": "code",
   "outputs": [],
   "execution_count": null,
   "source": "",
   "id": "3ed5c181273289f5"
  }
 ],
 "metadata": {
  "kernelspec": {
   "display_name": "Python 3",
   "language": "python",
   "name": "python3"
  },
  "language_info": {
   "codemirror_mode": {
    "name": "ipython",
    "version": 2
   },
   "file_extension": ".py",
   "mimetype": "text/x-python",
   "name": "python",
   "nbconvert_exporter": "python",
   "pygments_lexer": "ipython2",
   "version": "2.7.6"
  }
 },
 "nbformat": 4,
 "nbformat_minor": 5
}
