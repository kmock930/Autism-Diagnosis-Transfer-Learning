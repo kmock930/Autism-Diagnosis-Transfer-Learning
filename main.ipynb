{
 "cells": [
  {
   "cell_type": "code",
   "id": "initial_id",
   "metadata": {
    "collapsed": true,
    "ExecuteTime": {
     "end_time": "2024-11-13T00:21:27.372633Z",
     "start_time": "2024-11-13T00:21:24.262323Z"
    }
   },
   "source": [
    "import os\n",
    "import random\n",
    "import numpy as np\n",
    "import tensorflow as tf\n",
    "\n",
    "from tensorflow.keras import layers, models, losses, optimizers, metrics\n",
    "\n",
    "from model_train import load_c3d_model, train_msupcl_model, linear_evaluation\n",
    "from data_uniform_sup import VideoDataGenerator\n",
    "from paired_generator import PairedDataGenerator"
   ],
   "outputs": [],
   "execution_count": 1
  },
  {
   "metadata": {
    "ExecuteTime": {
     "end_time": "2024-11-13T00:21:27.387793Z",
     "start_time": "2024-11-13T00:21:27.378638Z"
    }
   },
   "cell_type": "code",
   "source": [
    "seed = 2042\n",
    "np.random.seed(seed)\n",
    "random.seed(seed)\n",
    "tf.random.set_seed(seed)\n",
    "input_shape = (16, 112, 112, 3)  # As defined in data generator\n",
    "num_classes = 2  # Harmful or Safe\n",
    "feature_dim = 512\n",
    "num_epochs = 5\n",
    "batch_size = 4"
   ],
   "id": "dd29972a569d4e84",
   "outputs": [],
   "execution_count": 2
  },
  {
   "metadata": {
    "ExecuteTime": {
     "end_time": "2024-11-13T00:21:27.467492Z",
     "start_time": "2024-11-13T00:21:27.452469Z"
    }
   },
   "cell_type": "code",
   "source": [
    "# Define dataset paths\n",
    "violence_negative_dir = './data/violence_dataset/NonViolence'\n",
    "violence_positive_dir = './data/violence_dataset/Violence'\n",
    "tiktok_negative_dir = './data/tiktok/train/Safe'\n",
    "tiktok_positive_dir = './data/tiktok/train/Harmful Content'\n"
   ],
   "id": "38b4e7f27f35b855",
   "outputs": [],
   "execution_count": 3
  },
  {
   "metadata": {
    "ExecuteTime": {
     "end_time": "2024-11-13T00:21:27.499673Z",
     "start_time": "2024-11-13T00:21:27.484535Z"
    }
   },
   "cell_type": "code",
   "source": [
    "def sample_videos(directory, num_samples=100):\n",
    "    all_videos = [os.path.join(directory, f) for f in os.listdir(directory) if f.endswith('.mp4')]\n",
    "    sampled_videos = random.sample(all_videos, min(num_samples, len(all_videos)))\n",
    "    return sampled_videos\n"
   ],
   "id": "69be9a7b8c19f6d5",
   "outputs": [],
   "execution_count": 4
  },
  {
   "metadata": {
    "ExecuteTime": {
     "end_time": "2024-11-13T00:21:27.530236Z",
     "start_time": "2024-11-13T00:21:27.516197Z"
    }
   },
   "cell_type": "code",
   "source": [
    "# Violence dataset\n",
    "violence_negative_videos = sample_videos(violence_negative_dir, 100)\n",
    "violence_positive_videos = sample_videos(violence_positive_dir, 100)\n",
    "\n",
    "# TikTok dataset\n",
    "tiktok_negative_videos = sample_videos(tiktok_negative_dir, 100)\n",
    "tiktok_positive_videos = sample_videos(tiktok_positive_dir, 100)\n"
   ],
   "id": "43cccf67e2dcc321",
   "outputs": [],
   "execution_count": 5
  },
  {
   "metadata": {
    "ExecuteTime": {
     "end_time": "2024-11-13T00:21:27.561816Z",
     "start_time": "2024-11-13T00:21:27.546779Z"
    }
   },
   "cell_type": "code",
   "source": [
    "def split_data(negative_videos, positive_videos, train_ratio=0.55, val_ratio=0.15):\n",
    "    # Combine and shuffle\n",
    "    videos = negative_videos + positive_videos\n",
    "    labels = [0]*len(negative_videos) + [1]*len(positive_videos)\n",
    "    combined = list(zip(videos, labels))\n",
    "    random.shuffle(combined)\n",
    "    videos[:], labels[:] = zip(*combined)\n",
    "    \n",
    "    # Calculate split indices\n",
    "    total = len(videos)\n",
    "    train_end = int(total * train_ratio)\n",
    "    val_end = train_end + int(total * val_ratio)\n",
    "    \n",
    "    # Split data\n",
    "    train_videos = videos[:train_end]\n",
    "    train_labels = labels[:train_end]\n",
    "    val_videos = videos[train_end:val_end]\n",
    "    val_labels = labels[train_end:val_end]\n",
    "    test_videos = videos[val_end:]\n",
    "    test_labels = labels[val_end:]\n",
    "    \n",
    "    return (train_videos, train_labels), (val_videos, val_labels), (test_videos, test_labels)\n"
   ],
   "id": "f8fa8efe1d13ebf5",
   "outputs": [],
   "execution_count": 6
  },
  {
   "metadata": {
    "ExecuteTime": {
     "end_time": "2024-11-13T00:21:27.591893Z",
     "start_time": "2024-11-13T00:21:27.577854Z"
    }
   },
   "cell_type": "code",
   "source": [
    "# Violence dataset\n",
    "(violence_train_videos, violence_train_labels), \\\n",
    "(violence_val_videos, violence_val_labels), \\\n",
    "(violence_test_videos, violence_test_labels) = split_data(violence_negative_videos, violence_positive_videos)\n",
    "\n",
    "# TikTok dataset\n",
    "(tiktok_train_videos, tiktok_train_labels), \\\n",
    "(tiktok_val_videos, tiktok_val_labels), \\\n",
    "(tiktok_test_videos, tiktok_test_labels) = split_data(tiktok_negative_videos, tiktok_positive_videos)\n"
   ],
   "id": "17bc85a97ca94a61",
   "outputs": [],
   "execution_count": 7
  },
  {
   "metadata": {
    "ExecuteTime": {
     "end_time": "2024-11-13T00:21:27.623459Z",
     "start_time": "2024-11-13T00:21:27.608426Z"
    }
   },
   "cell_type": "code",
   "source": [
    "\n",
    "# Convert labels to numpy arrays and one-hot encode them if necessary\n",
    "def prepare_labels(labels):\n",
    "    return np.array(labels)\n",
    "\n",
    "# Violence dataset generators\n",
    "violence_train_labels_np = prepare_labels(violence_train_labels)\n",
    "violence_val_labels_np = prepare_labels(violence_val_labels)\n",
    "violence_test_labels_np = prepare_labels(violence_test_labels)\n",
    "\n",
    "violence_train_generator = VideoDataGenerator(violence_train_videos, violence_train_labels_np, batch_size=batch_size, shuffle=True, augment=True)\n",
    "violence_val_generator = VideoDataGenerator(violence_val_videos, violence_val_labels_np, batch_size=batch_size, shuffle=False)\n",
    "violence_test_generator = VideoDataGenerator(violence_test_videos, violence_test_labels_np, batch_size=batch_size, shuffle=False)"
   ],
   "id": "f150cbe36dce5ba1",
   "outputs": [],
   "execution_count": 8
  },
  {
   "metadata": {
    "ExecuteTime": {
     "end_time": "2024-11-13T00:21:27.655048Z",
     "start_time": "2024-11-13T00:21:27.640529Z"
    }
   },
   "cell_type": "code",
   "source": [
    "\n",
    "# TikTok dataset generators\n",
    "tiktok_train_labels_np = prepare_labels(tiktok_train_labels)\n",
    "tiktok_val_labels_np = prepare_labels(tiktok_val_labels)\n",
    "tiktok_test_labels_np = prepare_labels(tiktok_test_labels)\n",
    "\n",
    "tiktok_train_generator = VideoDataGenerator(tiktok_train_videos, tiktok_train_labels_np, batch_size=batch_size, shuffle=True, augment=True)\n",
    "tiktok_val_generator = VideoDataGenerator(tiktok_val_videos, tiktok_val_labels_np, batch_size=batch_size, shuffle=False)\n",
    "tiktok_test_generator = VideoDataGenerator(tiktok_test_videos, tiktok_test_labels_np, batch_size=batch_size, shuffle=False)\n"
   ],
   "id": "b129d04af287a968",
   "outputs": [],
   "execution_count": 9
  },
  {
   "metadata": {
    "ExecuteTime": {
     "end_time": "2024-11-12T22:54:55.951499Z",
     "start_time": "2024-11-12T22:54:53.796182Z"
    }
   },
   "cell_type": "code",
   "source": [
    "\n",
    "# Load the model\n",
    "model = load_c3d_model(input_shape=input_shape, feature_dim=feature_dim)\n"
   ],
   "id": "b4c77a016021fe8f",
   "outputs": [],
   "execution_count": 10
  },
  {
   "metadata": {
    "ExecuteTime": {
     "end_time": "2024-11-12T22:54:55.997541Z",
     "start_time": "2024-11-12T22:54:55.967514Z"
    }
   },
   "cell_type": "code",
   "source": [
    "# Modify the model to output class probabilities\n",
    "\n",
    "\n",
    "# Freeze the base model if desired\n",
    "for layer in model.layers:\n",
    "    layer.trainable = False\n",
    "\n",
    "# Add classification layer\n",
    "features = model.output\n",
    "outputs = layers.Dense(num_classes, activation='softmax')(features)\n",
    "classification_model = models.Model(inputs=model.input, outputs=outputs)\n",
    "\n",
    "# Compile the model\n",
    "classification_model.compile(\n",
    "    loss=losses.SparseCategoricalCrossentropy(),\n",
    "    optimizer=optimizers.Adam(learning_rate=1e-4),\n",
    "    metrics=[metrics.SparseCategoricalAccuracy()]\n",
    ")\n"
   ],
   "id": "600a86c162f46bac",
   "outputs": [],
   "execution_count": 11
  },
  {
   "metadata": {
    "ExecuteTime": {
     "end_time": "2024-11-12T22:56:42.664325Z",
     "start_time": "2024-11-12T22:54:56.014557Z"
    }
   },
   "cell_type": "code",
   "source": [
    "# Train on Violence dataset\n",
    "history_violence = classification_model.fit(\n",
    "    violence_train_generator,\n",
    "    validation_data=violence_val_generator,\n",
    "    epochs=num_epochs\n",
    ")\n"
   ],
   "id": "80ad2bb7d4358a76",
   "outputs": [
    {
     "name": "stdout",
     "output_type": "stream",
     "text": [
      "Epoch 1/5\n",
      "27/27 [==============================] - 30s 697ms/step - loss: 0.6936 - sparse_categorical_accuracy: 0.4630 - val_loss: 0.6934 - val_sparse_categorical_accuracy: 0.4643\n",
      "Epoch 2/5\n",
      "27/27 [==============================] - 19s 701ms/step - loss: 0.6933 - sparse_categorical_accuracy: 0.4815 - val_loss: 0.6935 - val_sparse_categorical_accuracy: 0.4643\n",
      "Epoch 3/5\n",
      "27/27 [==============================] - 19s 700ms/step - loss: 0.6935 - sparse_categorical_accuracy: 0.5046 - val_loss: 0.6936 - val_sparse_categorical_accuracy: 0.4643\n",
      "Epoch 4/5\n",
      "27/27 [==============================] - 19s 700ms/step - loss: 0.6932 - sparse_categorical_accuracy: 0.4491 - val_loss: 0.6931 - val_sparse_categorical_accuracy: 0.4643\n",
      "Epoch 5/5\n",
      "27/27 [==============================] - 19s 715ms/step - loss: 0.6933 - sparse_categorical_accuracy: 0.4954 - val_loss: 0.6934 - val_sparse_categorical_accuracy: 0.4643\n"
     ]
    }
   ],
   "execution_count": 12
  },
  {
   "metadata": {
    "ExecuteTime": {
     "end_time": "2024-11-12T22:56:51.331974Z",
     "start_time": "2024-11-12T22:56:42.682341Z"
    }
   },
   "cell_type": "code",
   "source": [
    "# Evaluate on Violence test set\n",
    "base_c3d_results_violence = classification_model.evaluate(violence_test_generator)\n",
    "print(f\"Violence Dataset - Test Loss: {base_c3d_results_violence[0]}, Test Accuracy: {base_c3d_results_violence[1]}\")\n"
   ],
   "id": "63b234494c99c2b5",
   "outputs": [
    {
     "name": "stdout",
     "output_type": "stream",
     "text": [
      "15/15 [==============================] - 8s 567ms/step - loss: 0.6932 - sparse_categorical_accuracy: 0.4667\n",
      "Violence Dataset - Test Loss: 0.6932104825973511, Test Accuracy: 0.46666666865348816\n"
     ]
    }
   ],
   "execution_count": 13
  },
  {
   "metadata": {
    "ExecuteTime": {
     "end_time": "2024-11-12T23:01:46.087926Z",
     "start_time": "2024-11-12T22:56:51.348491Z"
    }
   },
   "cell_type": "code",
   "source": [
    "history_tiktok = classification_model.fit(\n",
    "    tiktok_train_generator,\n",
    "    validation_data=tiktok_val_generator,\n",
    "    epochs=num_epochs\n",
    ")"
   ],
   "id": "df01412c8d97718e",
   "outputs": [
    {
     "name": "stdout",
     "output_type": "stream",
     "text": [
      "Epoch 1/5\n",
      "27/27 [==============================] - 61s 2s/step - loss: 0.6937 - sparse_categorical_accuracy: 0.4815 - val_loss: 0.6926 - val_sparse_categorical_accuracy: 0.6071\n",
      "Epoch 2/5\n",
      "27/27 [==============================] - 58s 2s/step - loss: 0.6936 - sparse_categorical_accuracy: 0.4537 - val_loss: 0.6930 - val_sparse_categorical_accuracy: 0.6429\n",
      "Epoch 3/5\n",
      "27/27 [==============================] - 58s 2s/step - loss: 0.6928 - sparse_categorical_accuracy: 0.4815 - val_loss: 0.6932 - val_sparse_categorical_accuracy: 0.5357\n",
      "Epoch 4/5\n",
      "27/27 [==============================] - 58s 2s/step - loss: 0.6922 - sparse_categorical_accuracy: 0.5324 - val_loss: 0.6934 - val_sparse_categorical_accuracy: 0.3214\n",
      "Epoch 5/5\n",
      "27/27 [==============================] - 58s 2s/step - loss: 0.6927 - sparse_categorical_accuracy: 0.4815 - val_loss: 0.6937 - val_sparse_categorical_accuracy: 0.3929\n"
     ]
    }
   ],
   "execution_count": 14
  },
  {
   "metadata": {
    "ExecuteTime": {
     "end_time": "2024-11-12T23:02:14.606505Z",
     "start_time": "2024-11-12T23:01:46.117458Z"
    }
   },
   "cell_type": "code",
   "source": [
    "\n",
    "# Evaluate on TikTok test set\n",
    "base_c3d_results_tiktok = classification_model.evaluate(tiktok_test_generator)\n",
    "print(f\"TikTok Dataset - Test Loss: {base_c3d_results_tiktok[0]}, Test Accuracy: {base_c3d_results_tiktok[1]}\")"
   ],
   "id": "7b2014bcbf1669c9",
   "outputs": [
    {
     "name": "stdout",
     "output_type": "stream",
     "text": [
      "15/15 [==============================] - 27s 2s/step - loss: 0.6933 - sparse_categorical_accuracy: 0.4500\n",
      "TikTok Dataset - Test Loss: 0.6933118104934692, Test Accuracy: 0.44999998807907104\n"
     ]
    }
   ],
   "execution_count": 15
  },
  {
   "metadata": {},
   "cell_type": "markdown",
   "source": "## MSupCL implementation",
   "id": "dcd22c96fe0ecab0"
  },
  {
   "metadata": {
    "ExecuteTime": {
     "end_time": "2024-11-12T23:02:14.638424Z",
     "start_time": "2024-11-12T23:02:14.623520Z"
    }
   },
   "cell_type": "code",
   "source": [
    "# Combine training data from both datasets\n",
    "combined_train_videos = violence_train_videos + tiktok_train_videos\n",
    "combined_train_labels = violence_train_labels_np.tolist() + tiktok_train_labels_np.tolist()\n",
    "\n",
    "# Create a combined data generator\n",
    "combined_train_generator = VideoDataGenerator(combined_train_videos, combined_train_labels, batch_size=batch_size, shuffle=True, augment=True)\n"
   ],
   "id": "bddde4c8d28478eb",
   "outputs": [],
   "execution_count": 16
  },
  {
   "metadata": {
    "ExecuteTime": {
     "end_time": "2024-11-12T23:02:14.668957Z",
     "start_time": "2024-11-12T23:02:14.654440Z"
    }
   },
   "cell_type": "code",
   "source": [
    "\n",
    "\n",
    "# Create separate generators for violence and tiktok datasets\n",
    "violence_train_generator_no_aug = VideoDataGenerator(violence_train_videos, violence_train_labels_np, batch_size=batch_size, shuffle=True, augment=False)\n",
    "tiktok_train_generator_no_aug = VideoDataGenerator(tiktok_train_videos, tiktok_train_labels_np, batch_size=batch_size, shuffle=True, augment=False)\n",
    "\n",
    "# Create paired data generator\n",
    "paired_train_generator = PairedDataGenerator(violence_train_generator_no_aug, tiktok_train_generator_no_aug)\n",
    "\n",
    "\n"
   ],
   "id": "42ada6d418c9fe4e",
   "outputs": [],
   "execution_count": 17
  },
  {
   "metadata": {
    "ExecuteTime": {
     "end_time": "2024-11-12T23:08:57.805259Z",
     "start_time": "2024-11-12T23:02:14.686973Z"
    }
   },
   "cell_type": "code",
   "source": [
    "# Load the model\n",
    "msupcl_model = load_c3d_model(input_shape=input_shape)\n",
    "\n",
    "# Train the model\n",
    "train_msupcl_model(msupcl_model, paired_train_generator, epochs=num_epochs)\n"
   ],
   "id": "73efa82bee2c74bd",
   "outputs": [
    {
     "name": "stdout",
     "output_type": "stream",
     "text": [
      "Epoch 1/5\n",
      "Training Loss: 0.6468\n",
      "Epoch 2/5\n",
      "Training Loss: 0.6652\n",
      "Epoch 3/5\n",
      "Training Loss: 0.6503\n",
      "Epoch 4/5\n",
      "Training Loss: 0.6559\n",
      "Epoch 5/5\n",
      "Training Loss: 0.6560\n"
     ]
    }
   ],
   "execution_count": 18
  },
  {
   "metadata": {
    "ExecuteTime": {
     "end_time": "2024-11-12T23:21:03.449241Z",
     "start_time": "2024-11-12T23:14:26.666441Z"
    }
   },
   "cell_type": "code",
   "source": "msupcl_c3d_result_violence, msupcl_c3d_result_tiktok = linear_evaluation(msupcl_model, combined_train_generator,violence_test_generator, tiktok_test_generator)\n",
   "id": "e437717914dc10fc",
   "outputs": [
    {
     "name": "stdout",
     "output_type": "stream",
     "text": [
      "Epoch 1/5\n",
      "55/55 [==============================] - 72s 1s/step - loss: 4.3188 - accuracy: 0.5114 - val_loss: 1.0601 - val_accuracy: 0.4833\n",
      "Epoch 2/5\n",
      "55/55 [==============================] - 71s 1s/step - loss: 4.7202 - accuracy: 0.4659 - val_loss: 1.6083 - val_accuracy: 0.4833\n",
      "Epoch 3/5\n",
      "55/55 [==============================] - 73s 1s/step - loss: 3.7220 - accuracy: 0.5273 - val_loss: 1.9219 - val_accuracy: 0.4833\n",
      "Epoch 4/5\n",
      "55/55 [==============================] - 72s 1s/step - loss: 3.9980 - accuracy: 0.5386 - val_loss: 1.5273 - val_accuracy: 0.4833\n",
      "Epoch 5/5\n",
      "55/55 [==============================] - 71s 1s/step - loss: 4.1318 - accuracy: 0.4932 - val_loss: 1.3125 - val_accuracy: 0.4833\n",
      "Evaluating on Violence Test Set:\n",
      "15/15 [==============================] - 8s 548ms/step - loss: 1.2762 - accuracy: 0.4833\n",
      "Violence Test Loss: 1.2762328386306763, Test Accuracy: 0.4833333194255829\n",
      "Evaluating on TikTok Test Set:\n",
      "15/15 [==============================] - 26s 2s/step - loss: 1.4197 - accuracy: 0.4500\n",
      "TikTok Test Loss: 1.4197063446044922, Test Accuracy: 0.44999998807907104\n"
     ]
    }
   ],
   "execution_count": 20
  },
  {
   "metadata": {},
   "cell_type": "markdown",
   "source": "## R2+1d_18 model",
   "id": "9cb372ba1eb23a27"
  },
  {
   "metadata": {
    "ExecuteTime": {
     "end_time": "2024-11-13T00:21:30.003829Z",
     "start_time": "2024-11-13T00:21:29.990302Z"
    }
   },
   "cell_type": "code",
   "source": [
    "from model_train_r2plus1d_18 import load_r2plus1d_model\n",
    "\n"
   ],
   "id": "cffad71d1c0257dc",
   "outputs": [],
   "execution_count": 10
  },
  {
   "metadata": {
    "ExecuteTime": {
     "end_time": "2024-11-13T00:21:31.419802Z",
     "start_time": "2024-11-13T00:21:30.006833Z"
    }
   },
   "cell_type": "code",
   "source": "base_model = load_r2plus1d_model(input_shape=input_shape, feature_dim=feature_dim, include_top=False)",
   "id": "a162dca1b9a0d925",
   "outputs": [],
   "execution_count": 11
  },
  {
   "metadata": {
    "ExecuteTime": {
     "end_time": "2024-11-13T00:21:32.620549Z",
     "start_time": "2024-11-13T00:21:31.436372Z"
    }
   },
   "cell_type": "code",
   "source": [
    "for layer in base_model.layers:\n",
    "    layer.trainable = False\n",
    "    \n",
    "features = model.output\n",
    "outputs = layers.Dense(num_classes, activation='softmax')(features)\n",
    "classification_model = models.Model(inputs=model.input, outputs=outputs)\n",
    "\n",
    "classification_model.compile(\n",
    "    loss=losses.SparseCategoricalCrossentropy(),\n",
    "    optimizer=optimizers.Adam(learning_rate=1e-4),\n",
    "    metrics=[metrics.SparseCategoricalAccuracy()]\n",
    ")"
   ],
   "id": "f9d1d7a415cdd8cb",
   "outputs": [
    {
     "ename": "NameError",
     "evalue": "name 'model' is not defined",
     "output_type": "error",
     "traceback": [
      "\u001B[1;31m---------------------------------------------------------------------------\u001B[0m",
      "\u001B[1;31mNameError\u001B[0m                                 Traceback (most recent call last)",
      "Cell \u001B[1;32mIn[12], line 4\u001B[0m\n\u001B[0;32m      1\u001B[0m \u001B[38;5;28;01mfor\u001B[39;00m layer \u001B[38;5;129;01min\u001B[39;00m base_model\u001B[38;5;241m.\u001B[39mlayers:\n\u001B[0;32m      2\u001B[0m     layer\u001B[38;5;241m.\u001B[39mtrainable \u001B[38;5;241m=\u001B[39m \u001B[38;5;28;01mFalse\u001B[39;00m\n\u001B[1;32m----> 4\u001B[0m features \u001B[38;5;241m=\u001B[39m \u001B[43mmodel\u001B[49m\u001B[38;5;241m.\u001B[39moutput\n\u001B[0;32m      5\u001B[0m outputs \u001B[38;5;241m=\u001B[39m layers\u001B[38;5;241m.\u001B[39mDense(num_classes, activation\u001B[38;5;241m=\u001B[39m\u001B[38;5;124m'\u001B[39m\u001B[38;5;124msoftmax\u001B[39m\u001B[38;5;124m'\u001B[39m)(features)\n\u001B[0;32m      6\u001B[0m classification_model \u001B[38;5;241m=\u001B[39m models\u001B[38;5;241m.\u001B[39mModel(inputs\u001B[38;5;241m=\u001B[39mmodel\u001B[38;5;241m.\u001B[39minput, outputs\u001B[38;5;241m=\u001B[39moutputs)\n",
      "\u001B[1;31mNameError\u001B[0m: name 'model' is not defined"
     ]
    }
   ],
   "execution_count": 12
  },
  {
   "metadata": {
    "ExecuteTime": {
     "end_time": "2024-11-13T00:21:32.696699700Z",
     "start_time": "2024-11-12T23:21:04.034162Z"
    }
   },
   "cell_type": "code",
   "source": [
    "# Train on Violence dataset\n",
    "history_violence = classification_model.fit(\n",
    "    violence_train_generator,\n",
    "    validation_data=violence_val_generator,\n",
    "    epochs=num_epochs\n",
    ")"
   ],
   "id": "859b3c091244e0da",
   "outputs": [
    {
     "name": "stdout",
     "output_type": "stream",
     "text": [
      "Epoch 1/5\n",
      "27/27 [==============================] - 20s 725ms/step - loss: 0.6939 - sparse_categorical_accuracy: 0.4815 - val_loss: 0.6937 - val_sparse_categorical_accuracy: 0.4643\n",
      "Epoch 2/5\n",
      "27/27 [==============================] - 19s 694ms/step - loss: 0.6943 - sparse_categorical_accuracy: 0.4769 - val_loss: 0.6939 - val_sparse_categorical_accuracy: 0.4643\n",
      "Epoch 3/5\n",
      "27/27 [==============================] - 19s 695ms/step - loss: 0.6936 - sparse_categorical_accuracy: 0.4815 - val_loss: 0.6938 - val_sparse_categorical_accuracy: 0.4643\n",
      "Epoch 4/5\n",
      "27/27 [==============================] - 19s 728ms/step - loss: 0.6938 - sparse_categorical_accuracy: 0.4537 - val_loss: 0.6935 - val_sparse_categorical_accuracy: 0.4643\n",
      "Epoch 5/5\n",
      "27/27 [==============================] - 19s 720ms/step - loss: 0.6935 - sparse_categorical_accuracy: 0.4676 - val_loss: 0.6938 - val_sparse_categorical_accuracy: 0.4643\n"
     ]
    }
   ],
   "execution_count": 24
  },
  {
   "metadata": {
    "ExecuteTime": {
     "end_time": "2024-11-13T00:21:32.696699700Z",
     "start_time": "2024-11-12T23:22:40.679768Z"
    }
   },
   "cell_type": "code",
   "source": [
    "# Evaluate on Violence test set\n",
    "base_r2plus1d_results_violence = classification_model.evaluate(violence_test_generator)\n",
    "print(f\"Violence Dataset - Test Loss: {base_r2plus1d_results_violence[0]}, Test Accuracy: {base_r2plus1d_results_violence[1]}\")"
   ],
   "id": "fc9df2f8b212dafb",
   "outputs": [
    {
     "name": "stdout",
     "output_type": "stream",
     "text": [
      "15/15 [==============================] - 8s 568ms/step - loss: 0.6931 - sparse_categorical_accuracy: 0.5167\n",
      "Violence Dataset - Test Loss: 0.6931416392326355, Test Accuracy: 0.5166666507720947\n"
     ]
    }
   ],
   "execution_count": 25
  },
  {
   "metadata": {
    "ExecuteTime": {
     "end_time": "2024-11-13T00:21:32.696699700Z",
     "start_time": "2024-11-12T23:22:49.366472Z"
    }
   },
   "cell_type": "code",
   "source": [
    "history_tiktok = classification_model.fit(\n",
    "    tiktok_train_generator,\n",
    "    validation_data=tiktok_val_generator,\n",
    "    epochs=num_epochs\n",
    ")"
   ],
   "id": "211377d3d087cbb8",
   "outputs": [
    {
     "name": "stdout",
     "output_type": "stream",
     "text": [
      "Epoch 1/5\n",
      "27/27 [==============================] - 61s 2s/step - loss: 0.6952 - sparse_categorical_accuracy: 0.4028 - val_loss: 0.6923 - val_sparse_categorical_accuracy: 0.6071\n",
      "Epoch 2/5\n",
      "27/27 [==============================] - 59s 2s/step - loss: 0.6948 - sparse_categorical_accuracy: 0.3935 - val_loss: 0.6929 - val_sparse_categorical_accuracy: 0.5714\n",
      "Epoch 3/5\n",
      "27/27 [==============================] - 58s 2s/step - loss: 0.6933 - sparse_categorical_accuracy: 0.5185 - val_loss: 0.6932 - val_sparse_categorical_accuracy: 0.3571\n",
      "Epoch 4/5\n",
      "27/27 [==============================] - 59s 2s/step - loss: 0.6941 - sparse_categorical_accuracy: 0.4306 - val_loss: 0.6936 - val_sparse_categorical_accuracy: 0.3929\n",
      "Epoch 5/5\n",
      "27/27 [==============================] - 58s 2s/step - loss: 0.6929 - sparse_categorical_accuracy: 0.4630 - val_loss: 0.6938 - val_sparse_categorical_accuracy: 0.3929\n"
     ]
    }
   ],
   "execution_count": 26
  },
  {
   "metadata": {
    "ExecuteTime": {
     "end_time": "2024-11-13T00:21:32.696699700Z",
     "start_time": "2024-11-12T23:27:45.894589Z"
    }
   },
   "cell_type": "code",
   "source": [
    "# Evaluate on TikTok test set\n",
    "base_r2plus1d_results_tiktok = classification_model.evaluate(tiktok_test_generator)\n",
    "print(f\"TikTok Dataset - Test Loss: {base_r2plus1d_results_tiktok[0]}, Test Accuracy: {base_r2plus1d_results_tiktok[1]}\")"
   ],
   "id": "51f74b0136087fa3",
   "outputs": [
    {
     "name": "stdout",
     "output_type": "stream",
     "text": [
      "15/15 [==============================] - 26s 2s/step - loss: 0.6935 - sparse_categorical_accuracy: 0.4500\n",
      "TikTok Dataset - Test Loss: 0.6934583187103271, Test Accuracy: 0.44999998807907104\n"
     ]
    }
   ],
   "execution_count": 27
  },
  {
   "metadata": {
    "ExecuteTime": {
     "end_time": "2024-11-13T00:21:32.696699700Z",
     "start_time": "2024-11-12T23:28:13.893599Z"
    }
   },
   "cell_type": "code",
   "source": [
    "\n",
    "msupcl_model = load_r2plus1d_model(input_shape=input_shape, feature_dim=feature_dim, include_top=False)"
   ],
   "id": "79b199cbcef78608",
   "outputs": [],
   "execution_count": 28
  },
  {
   "metadata": {
    "ExecuteTime": {
     "end_time": "2024-11-13T00:21:32.696699700Z",
     "start_time": "2024-11-12T23:28:14.368549Z"
    }
   },
   "cell_type": "code",
   "source": [
    "\n",
    "\n",
    "violence_train_generator_no_aug = VideoDataGenerator(violence_train_videos, violence_train_labels_np, batch_size=batch_size, shuffle=True, augment=False)\n",
    "tiktok_train_generator_no_aug = VideoDataGenerator(tiktok_train_videos, tiktok_train_labels_np, batch_size=batch_size, shuffle=True, augment=False)\n",
    "paired_train_generator = PairedDataGenerator(violence_train_generator_no_aug, tiktok_train_generator_no_aug)"
   ],
   "id": "d6ca19638578676a",
   "outputs": [],
   "execution_count": 29
  },
  {
   "metadata": {
    "ExecuteTime": {
     "end_time": "2024-11-13T00:21:32.696699700Z",
     "start_time": "2024-11-12T23:28:14.400082Z"
    }
   },
   "cell_type": "code",
   "source": "train_msupcl_model(msupcl_model, paired_train_generator, epochs=num_epochs)",
   "id": "e99577651e50c31e",
   "outputs": [
    {
     "name": "stdout",
     "output_type": "stream",
     "text": [
      "Epoch 1/5\n",
      "Training Loss: 0.7207\n",
      "Epoch 2/5\n",
      "Training Loss: 0.7167\n",
      "Epoch 3/5\n",
      "Training Loss: 0.7179\n",
      "Epoch 4/5\n",
      "Training Loss: 0.7197\n",
      "Epoch 5/5\n",
      "Training Loss: 0.7160\n"
     ]
    }
   ],
   "execution_count": 30
  },
  {
   "metadata": {
    "ExecuteTime": {
     "end_time": "2024-11-13T00:21:32.696699700Z",
     "start_time": "2024-11-12T23:34:44.495785Z"
    }
   },
   "cell_type": "code",
   "source": "msupcl_r2plus1d_result_violence, msupcl_r2plus1d_result_tiktok = linear_evaluation(msupcl_model, combined_train_generator, violence_test_generator,tiktok_test_generator, num_classes=2)",
   "id": "55d925dd4feb4f2a",
   "outputs": [
    {
     "name": "stdout",
     "output_type": "stream",
     "text": [
      "Epoch 1/5\n",
      "55/55 [==============================] - 73s 1s/step - loss: 0.6928 - accuracy: 0.5409 - val_loss: 0.6946 - val_accuracy: 0.5167\n",
      "Epoch 2/5\n",
      "55/55 [==============================] - 71s 1s/step - loss: 0.6986 - accuracy: 0.5364 - val_loss: 0.6861 - val_accuracy: 0.5833\n",
      "Epoch 3/5\n",
      "55/55 [==============================] - 72s 1s/step - loss: 0.6925 - accuracy: 0.5114 - val_loss: 0.6938 - val_accuracy: 0.5000\n",
      "Epoch 4/5\n",
      "55/55 [==============================] - 71s 1s/step - loss: 0.6948 - accuracy: 0.5250 - val_loss: 0.6948 - val_accuracy: 0.5000\n",
      "Epoch 5/5\n",
      "55/55 [==============================] - 72s 1s/step - loss: 0.6963 - accuracy: 0.5045 - val_loss: 0.6878 - val_accuracy: 0.5500\n",
      "Evaluating on Violence Test Set:\n",
      "15/15 [==============================] - 8s 547ms/step - loss: 0.6956 - accuracy: 0.5167\n",
      "Violence Test Loss: 0.6956499218940735, Test Accuracy: 0.5166666507720947\n",
      "Evaluating on TikTok Test Set:\n",
      "15/15 [==============================] - 26s 2s/step - loss: 0.6969 - accuracy: 0.4667\n",
      "TikTok Test Loss: 0.6969286799430847, Test Accuracy: 0.46666666865348816\n"
     ]
    }
   ],
   "execution_count": 31
  },
  {
   "metadata": {},
   "cell_type": "markdown",
   "source": "# SSCL ",
   "id": "4f7bfa020db1c968"
  },
  {
   "metadata": {
    "ExecuteTime": {
     "end_time": "2024-11-13T00:23:20.207535Z",
     "start_time": "2024-11-13T00:21:44.671289Z"
    }
   },
   "cell_type": "code",
   "source": [
    "from data_uniform_sscl import SSCLVideoDataGenerator\n",
    "from model_train import train_simclr_model, linear_evaluation_sscl,load_c3d_sscl_model\n",
    "\n",
    "violence_train_sscl_generator = SSCLVideoDataGenerator(violence_train_videos,violence_train_labels_np,batch_size=batch_size, shuffle=True, augment=True)\n",
    "\n",
    "violence_val_single_sscl_generator = SSCLVideoDataGenerator(violence_val_videos,violence_val_labels_np,batch_size=batch_size, shuffle=True, augment=True, double_view=False)\n",
    "\n",
    "\n",
    "violence_test_sscl_generator = SSCLVideoDataGenerator(\n",
    "    violence_test_videos,\n",
    "    violence_test_labels_np,\n",
    "    batch_size=batch_size,\n",
    "    shuffle=False,\n",
    "    augment=False, \n",
    "    double_view=False\n",
    ")\n",
    "\n",
    "tiktok_train_sscl_generator = SSCLVideoDataGenerator(tiktok_train_videos,tiktok_train_labels_np,batch_size=batch_size, shuffle=True, augment=True)\n",
    "\n",
    "tiktok_val_single_sscl_generator = SSCLVideoDataGenerator(tiktok_val_videos,tiktok_val_labels_np,batch_size=batch_size, shuffle=True, augment=True, double_view=False)\n",
    "\n",
    "tiktok_test_sscl_generator = SSCLVideoDataGenerator(\n",
    "    tiktok_test_videos,\n",
    "    tiktok_test_labels_np,\n",
    "    batch_size=batch_size,\n",
    "    shuffle=False,\n",
    "    augment=False, \n",
    "    double_view=False\n",
    ")\n",
    "\n",
    "model = load_c3d_sscl_model(input_shape=input_shape, feature_dim=feature_dim)\n",
    "\n",
    "train_simclr_model(model, violence_train_sscl_generator, epochs=num_epochs, temperature=0.5)"
   ],
   "id": "dbf378a3928b4652",
   "outputs": [
    {
     "name": "stdout",
     "output_type": "stream",
     "text": [
      "Epoch 1/1\n",
      "Epoch 1, Loss: 1.9405\n"
     ]
    }
   ],
   "execution_count": 13
  },
  {
   "metadata": {
    "ExecuteTime": {
     "end_time": "2024-11-13T00:31:59.116109Z",
     "start_time": "2024-11-13T00:25:06.170945Z"
    }
   },
   "cell_type": "code",
   "source": [
    "violence_train_single_sscl_generator = SSCLVideoDataGenerator(violence_train_videos,violence_train_labels_np,batch_size=batch_size, shuffle=True, augment=True, double_view=False)\n",
    "\n",
    "sscl_c3d_result_violence = linear_evaluation_sscl(model, violence_train_single_sscl_generator, violence_val_single_sscl_generator,violence_test_sscl_generator, num_classes=2)"
   ],
   "id": "1099a8f1c735b285",
   "outputs": [
    {
     "name": "stdout",
     "output_type": "stream",
     "text": [
      "Epoch 1/5\n",
      "27/27 [==============================] - 77s 3s/step - loss: 0.6932 - accuracy: 0.5000 - val_loss: 0.6933 - val_accuracy: 0.5167\n",
      "Epoch 2/5\n",
      "27/27 [==============================] - 75s 3s/step - loss: 0.6932 - accuracy: 0.4907 - val_loss: 0.6932 - val_accuracy: 0.5167\n",
      "Epoch 3/5\n",
      "27/27 [==============================] - 74s 3s/step - loss: 0.6933 - accuracy: 0.5185 - val_loss: 0.6932 - val_accuracy: 0.5167\n",
      "Epoch 4/5\n",
      "27/27 [==============================] - 78s 3s/step - loss: 0.6930 - accuracy: 0.5185 - val_loss: 0.6932 - val_accuracy: 0.5167\n",
      "Epoch 5/5\n",
      "27/27 [==============================] - 77s 3s/step - loss: 0.6933 - accuracy: 0.4815 - val_loss: 0.6934 - val_accuracy: 0.5167\n",
      "15/15 [==============================] - 28s 2s/step - loss: 0.6933 - accuracy: 0.5167\n",
      "Test Loss: 0.6933114528656006, Test Accuracy: 0.5166666507720947\n"
     ]
    }
   ],
   "execution_count": 16
  },
  {
   "metadata": {},
   "cell_type": "code",
   "outputs": [],
   "execution_count": null,
   "source": [
    "tiktok_train_single_sscl_generator = SSCLVideoDataGenerator(tiktok_train_videos,tiktok_train_labels_np,batch_size=batch_size, shuffle=True, augment=True, double_view=False)\n",
    "\n",
    "\n",
    "train_simclr_model(model, tiktok_train_sscl_generator, epochs=num_epochs, temperature=0.5)\n",
    "sscl_c3d_result_tiktok = linear_evaluation_sscl(model, tiktok_train_single_sscl_generator,tiktok_val_single_sscl_generator,tiktok_test_sscl_generator, num_classes=2)"
   ],
   "id": "68bd9cce69c4a136"
  }
 ],
 "metadata": {
  "kernelspec": {
   "display_name": "Python 3",
   "language": "python",
   "name": "python3"
  },
  "language_info": {
   "codemirror_mode": {
    "name": "ipython",
    "version": 2
   },
   "file_extension": ".py",
   "mimetype": "text/x-python",
   "name": "python",
   "nbconvert_exporter": "python",
   "pygments_lexer": "ipython2",
   "version": "2.7.6"
  }
 },
 "nbformat": 4,
 "nbformat_minor": 5
}
