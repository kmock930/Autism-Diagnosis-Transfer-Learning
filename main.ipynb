{
 "cells": [
  {
   "metadata": {},
   "cell_type": "markdown",
   "source": [
    "# Video Classification and Contrastive Learning Experiments\n",
    "\n",
    "This notebook performs experiments on video classification using C3D and R(2+1)D models. It includes baseline classification, multi-dataset supervised contrastive learning (MSupCL), and self-supervised contrastive learning (SSCL) using SimCLR framework.\n"
   ],
   "id": "ddae00ad8b4d2ea4"
  },
  {
   "metadata": {},
   "cell_type": "markdown",
   "source": "## Import Libraries",
   "id": "2070d1c27dc82f13"
  },
  {
   "cell_type": "code",
   "id": "initial_id",
   "metadata": {
    "collapsed": true,
    "ExecuteTime": {
     "end_time": "2024-11-14T20:58:19.268097Z",
     "start_time": "2024-11-14T20:58:15.127110Z"
    }
   },
   "source": [
    "import os\n",
    "import random\n",
    "import numpy as np\n",
    "import tensorflow as tf\n",
    "import matplotlib.pyplot as plt\n",
    "from sklearn.metrics import confusion_matrix, ConfusionMatrixDisplay\n",
    "\n",
    "from tensorflow.keras import layers, models, losses, optimizers, metrics\n",
    "\n",
    "from model_train import (\n",
    "    load_c3d_model,\n",
    "    load_c3d_sscl_model,\n",
    "    train_msupcl_model,\n",
    "    train_simclr_model,\n",
    "    linear_evaluation,\n",
    "    linear_evaluation_sscl,\n",
    ")\n",
    "\n",
    "from data_uniform_sup import VideoDataGenerator, MultiDatasetDataGenerator\n",
    "from data_uniform_sscl import SSCLVideoDataGenerator\n",
    "\n",
    "\n",
    "from model_train_r2plus1d_18 import (\n",
    "    load_r2plus1d_model,\n",
    "    load_sscl_r2plus1d_model,\n",
    ")"
   ],
   "outputs": [],
   "execution_count": 1
  },
  {
   "metadata": {},
   "cell_type": "markdown",
   "source": "## Set Random Seeds and Hyperparameters",
   "id": "b8cf55dd2b2bf28a"
  },
  {
   "metadata": {
    "ExecuteTime": {
     "end_time": "2024-11-14T20:58:19.284139Z",
     "start_time": "2024-11-14T20:58:19.279116Z"
    }
   },
   "cell_type": "code",
   "source": [
    "# Set random seeds for reproducibility\n",
    "seed = 2042\n",
    "np.random.seed(seed)\n",
    "random.seed(seed)\n",
    "tf.random.set_seed(seed)\n",
    "\n",
    "# Hyperparameters\n",
    "input_shape = (12, 64, 64, 3)  # Input shape of the videos\n",
    "num_classes = 2  # Number of classes: Harmful Content or Safe Content\n",
    "feature_dim = 512\n",
    "num_epochs = 10\n",
    "batch_size = 4\n",
    "temperature = 0.8\n",
    "learning_rate = 0.001\n",
    "sample_size = 200"
   ],
   "id": "dd29972a569d4e84",
   "outputs": [],
   "execution_count": 2
  },
  {
   "metadata": {},
   "cell_type": "markdown",
   "source": "## Sample Videos from Datasets",
   "id": "5734e2a7cd629ade"
  },
  {
   "metadata": {
    "ExecuteTime": {
     "end_time": "2024-11-14T20:58:19.300178Z",
     "start_time": "2024-11-14T20:58:19.290652Z"
    }
   },
   "cell_type": "code",
   "source": [
    "# Define dataset paths\n",
    "violence_negative_dir = './data/violence_dataset/NonViolence'\n",
    "violence_positive_dir = './data/violence_dataset/Violence'\n",
    "tiktok_negative_dir = './data/tiktok/train/Safe'\n",
    "tiktok_positive_dir = './data/tiktok/train/Harmful Content'\n"
   ],
   "id": "38b4e7f27f35b855",
   "outputs": [],
   "execution_count": 3
  },
  {
   "metadata": {
    "ExecuteTime": {
     "end_time": "2024-11-14T20:58:19.394449Z",
     "start_time": "2024-11-14T20:58:19.379929Z"
    }
   },
   "cell_type": "code",
   "source": [
    "def sample_videos(directory, num_samples=100):\n",
    "    \"\"\"Sample videos from a directory.\"\"\"\n",
    "    all_videos = [\n",
    "        os.path.join(directory, f)\n",
    "        for f in os.listdir(directory)\n",
    "        if f.endswith('.mp4')\n",
    "    ]\n",
    "    sampled_videos = random.sample(all_videos, min(num_samples, len(all_videos)))\n",
    "    return sampled_videos\n"
   ],
   "id": "69be9a7b8c19f6d5",
   "outputs": [],
   "execution_count": 4
  },
  {
   "metadata": {
    "ExecuteTime": {
     "end_time": "2024-11-14T20:58:19.455578Z",
     "start_time": "2024-11-14T20:58:19.429521Z"
    }
   },
   "cell_type": "code",
   "source": [
    "# Sample videos from each class\n",
    "violence_negative_videos = sample_videos(violence_negative_dir, sample_size)\n",
    "violence_positive_videos = sample_videos(violence_positive_dir, sample_size)\n",
    "tiktok_negative_videos = sample_videos(tiktok_negative_dir, sample_size)\n",
    "tiktok_positive_videos = sample_videos(tiktok_positive_dir, sample_size)"
   ],
   "id": "43cccf67e2dcc321",
   "outputs": [],
   "execution_count": 5
  },
  {
   "metadata": {},
   "cell_type": "markdown",
   "source": "## Split Data into Train, Validation, and Test Sets",
   "id": "e41305367f296cdd"
  },
  {
   "metadata": {
    "ExecuteTime": {
     "end_time": "2024-11-14T20:58:19.487148Z",
     "start_time": "2024-11-14T20:58:19.472616Z"
    }
   },
   "cell_type": "code",
   "source": [
    "def split_data(negative_videos, positive_videos, train_ratio=0.55, val_ratio=0.15):\n",
    "    \"\"\"Split data into train, validation, and test sets.\"\"\"\n",
    "    # Combine and shuffle data\n",
    "    videos = negative_videos + positive_videos\n",
    "    labels = [0] * len(negative_videos) + [1] * len(positive_videos)\n",
    "    combined = list(zip(videos, labels))\n",
    "    random.shuffle(combined)\n",
    "    videos[:], labels[:] = zip(*combined)\n",
    "\n",
    "    # Compute split indices\n",
    "    total = len(videos)\n",
    "    train_end = int(total * train_ratio)\n",
    "    val_end = train_end + int(total * val_ratio)\n",
    "\n",
    "    # Split datasets\n",
    "    train_videos = videos[:train_end]\n",
    "    train_labels = labels[:train_end]\n",
    "    val_videos = videos[train_end:val_end]\n",
    "    val_labels = labels[train_end:val_end]\n",
    "    test_videos = videos[val_end:]\n",
    "    test_labels = labels[val_end:]\n",
    "\n",
    "    return (train_videos, train_labels), (val_videos, val_labels), (test_videos, test_labels)\n"
   ],
   "id": "f8fa8efe1d13ebf5",
   "outputs": [],
   "execution_count": 6
  },
  {
   "metadata": {
    "ExecuteTime": {
     "end_time": "2024-11-14T20:58:19.519271Z",
     "start_time": "2024-11-14T20:58:19.504184Z"
    }
   },
   "cell_type": "code",
   "source": [
    "# Violence dataset\n",
    "(violence_train_videos, violence_train_labels), (violence_val_videos, violence_val_labels), (violence_test_videos, violence_test_labels) = split_data(violence_negative_videos, violence_positive_videos)\n",
    "\n",
    "# TikTok dataset\n",
    "(tiktok_train_videos, tiktok_train_labels), (tiktok_val_videos, tiktok_val_labels), (tiktok_test_videos, tiktok_test_labels) = split_data(tiktok_negative_videos, tiktok_positive_videos)\n",
    "\n"
   ],
   "id": "17bc85a97ca94a61",
   "outputs": [],
   "execution_count": 7
  },
  {
   "metadata": {
    "ExecuteTime": {
     "end_time": "2024-11-14T20:58:19.549845Z",
     "start_time": "2024-11-14T20:58:19.535808Z"
    }
   },
   "cell_type": "code",
   "source": [
    "\n",
    "# Convert labels to numpy arrays and one-hot encode them if necessary\n",
    "def prepare_labels(labels):\n",
    "    return np.array(labels)\n",
    "\n",
    "\n",
    "# Prepare labels for both datasets\n",
    "violence_train_labels_np = prepare_labels(violence_train_labels)\n",
    "violence_val_labels_np = prepare_labels(violence_val_labels)\n",
    "violence_test_labels_np = prepare_labels(violence_test_labels)\n",
    "\n",
    "tiktok_train_labels_np = prepare_labels(tiktok_train_labels)\n",
    "tiktok_val_labels_np = prepare_labels(tiktok_val_labels)\n",
    "tiktok_test_labels_np = prepare_labels(tiktok_test_labels)"
   ],
   "id": "d7db8f86a7e4e430",
   "outputs": [],
   "execution_count": 8
  },
  {
   "metadata": {},
   "cell_type": "markdown",
   "source": "## Create Data Generators",
   "id": "50cd78f7dfbdce6b"
  },
  {
   "metadata": {
    "ExecuteTime": {
     "end_time": "2024-11-14T20:58:19.580404Z",
     "start_time": "2024-11-14T20:58:19.566368Z"
    }
   },
   "cell_type": "code",
   "source": [
    "violence_train_generator = VideoDataGenerator(\n",
    "    violence_train_videos,\n",
    "    violence_train_labels_np,\n",
    "    batch_size=batch_size,\n",
    "    shuffle=True,\n",
    "    augment=True,\n",
    ")\n",
    "violence_val_generator = VideoDataGenerator(\n",
    "    violence_val_videos,\n",
    "    violence_val_labels_np,\n",
    "    batch_size=batch_size,\n",
    "    shuffle=False,\n",
    ")\n",
    "violence_test_generator = VideoDataGenerator(\n",
    "    violence_test_videos,\n",
    "    violence_test_labels_np,\n",
    "    batch_size=batch_size,\n",
    "    shuffle=False,\n",
    ")"
   ],
   "id": "f150cbe36dce5ba1",
   "outputs": [],
   "execution_count": 9
  },
  {
   "metadata": {
    "ExecuteTime": {
     "end_time": "2024-11-14T20:58:19.611971Z",
     "start_time": "2024-11-14T20:58:19.596937Z"
    }
   },
   "cell_type": "code",
   "source": [
    "# TikTok dataset generators\n",
    "tiktok_train_generator = VideoDataGenerator(\n",
    "    tiktok_train_videos,\n",
    "    tiktok_train_labels_np,\n",
    "    batch_size=batch_size,\n",
    "    shuffle=True,\n",
    "    augment=True,\n",
    ")\n",
    "tiktok_val_generator = VideoDataGenerator(\n",
    "    tiktok_val_videos,\n",
    "    tiktok_val_labels_np,\n",
    "    batch_size=batch_size,\n",
    "    shuffle=False,\n",
    ")\n",
    "tiktok_test_generator = VideoDataGenerator(\n",
    "    tiktok_test_videos,\n",
    "    tiktok_test_labels_np,\n",
    "    batch_size=batch_size,\n",
    "    shuffle=False,\n",
    ")"
   ],
   "id": "b129d04af287a968",
   "outputs": [],
   "execution_count": 10
  },
  {
   "metadata": {},
   "cell_type": "markdown",
   "source": [
    "## Baseline Classification with C3D Model\n",
    "\n",
    "### Load and Compile the Model"
   ],
   "id": "2efb2b0353ccb34f"
  },
  {
   "metadata": {
    "ExecuteTime": {
     "end_time": "2024-11-14T20:58:20.793502Z",
     "start_time": "2024-11-14T20:58:19.628993Z"
    }
   },
   "cell_type": "code",
   "source": [
    "# Load the base C3D model\n",
    "base_model_c3d = load_c3d_model(input_shape=input_shape, feature_dim=feature_dim)\n",
    "print(\"Base C3D Model Summary:\")\n",
    "base_model_c3d.summary()"
   ],
   "id": "b4c77a016021fe8f",
   "outputs": [
    {
     "name": "stdout",
     "output_type": "stream",
     "text": [
      "Base C3D Model Summary:\n",
      "Model: \"model\"\n",
      "_________________________________________________________________\n",
      " Layer (type)                Output Shape              Param #   \n",
      "=================================================================\n",
      " input_1 (InputLayer)        [(None, 12, 64, 64, 3)]   0         \n",
      "                                                                 \n",
      " conv3d (Conv3D)             (None, 12, 64, 64, 64)    5248      \n",
      "                                                                 \n",
      " max_pooling3d (MaxPooling3D  (None, 12, 32, 32, 64)   0         \n",
      " )                                                               \n",
      "                                                                 \n",
      " conv3d_1 (Conv3D)           (None, 12, 32, 32, 128)   221312    \n",
      "                                                                 \n",
      " max_pooling3d_1 (MaxPooling  (None, 6, 16, 16, 128)   0         \n",
      " 3D)                                                             \n",
      "                                                                 \n",
      " conv3d_2 (Conv3D)           (None, 6, 16, 16, 256)    884992    \n",
      "                                                                 \n",
      " conv3d_3 (Conv3D)           (None, 6, 16, 16, 256)    1769728   \n",
      "                                                                 \n",
      " max_pooling3d_2 (MaxPooling  (None, 6, 8, 8, 256)     0         \n",
      " 3D)                                                             \n",
      "                                                                 \n",
      " conv3d_4 (Conv3D)           (None, 6, 8, 8, 512)      3539456   \n",
      "                                                                 \n",
      " conv3d_5 (Conv3D)           (None, 6, 8, 8, 512)      7078400   \n",
      "                                                                 \n",
      " max_pooling3d_3 (MaxPooling  (None, 3, 4, 4, 512)     0         \n",
      " 3D)                                                             \n",
      "                                                                 \n",
      " conv3d_6 (Conv3D)           (None, 3, 4, 4, 512)      7078400   \n",
      "                                                                 \n",
      " conv3d_7 (Conv3D)           (None, 3, 4, 4, 512)      7078400   \n",
      "                                                                 \n",
      " max_pooling3d_4 (MaxPooling  (None, 3, 2, 2, 512)     0         \n",
      " 3D)                                                             \n",
      "                                                                 \n",
      " flatten (Flatten)           (None, 6144)              0         \n",
      "                                                                 \n",
      " dense (Dense)               (None, 4096)              25169920  \n",
      "                                                                 \n",
      " dropout (Dropout)           (None, 4096)              0         \n",
      "                                                                 \n",
      " dense_1 (Dense)             (None, 4096)              16781312  \n",
      "                                                                 \n",
      " dropout_1 (Dropout)         (None, 4096)              0         \n",
      "                                                                 \n",
      " dense_2 (Dense)             (None, 512)               2097664   \n",
      "                                                                 \n",
      "=================================================================\n",
      "Total params: 71,704,832\n",
      "Trainable params: 71,704,832\n",
      "Non-trainable params: 0\n",
      "_________________________________________________________________\n"
     ]
    }
   ],
   "execution_count": 11
  },
  {
   "metadata": {
    "ExecuteTime": {
     "end_time": "2024-11-14T20:58:20.886521Z",
     "start_time": "2024-11-14T20:58:20.877278Z"
    }
   },
   "cell_type": "code",
   "source": [
    "# Create classification model\n",
    "def create_classification_model(base_model, num_classes):\n",
    "    \"\"\"Create a classification model by adding a dense layer on top of base_model.\"\"\"\n",
    "    features = base_model.output\n",
    "    outputs = layers.Dense(num_classes, activation='softmax')(features)\n",
    "    model = models.Model(inputs=base_model.input, outputs=outputs)\n",
    "    return model"
   ],
   "id": "f3d652978d3df6f9",
   "outputs": [],
   "execution_count": 12
  },
  {
   "metadata": {
    "ExecuteTime": {
     "end_time": "2024-11-14T20:58:20.934141Z",
     "start_time": "2024-11-14T20:58:20.904565Z"
    }
   },
   "cell_type": "code",
   "source": [
    "# Classification model for Violence dataset\n",
    "classification_model_violence = create_classification_model(base_model_c3d, num_classes)\n",
    "# Freeze base model layers\n",
    "for layer in classification_model_violence.layers[:-1]:\n",
    "    layer.trainable = False\n",
    "\n",
    "# Compile the model\n",
    "classification_model_violence.compile(\n",
    "    loss=losses.SparseCategoricalCrossentropy(),\n",
    "    optimizer=optimizers.Adam(learning_rate=learning_rate),\n",
    "    metrics=[metrics.SparseCategoricalAccuracy()],\n",
    ")\n"
   ],
   "id": "600a86c162f46bac",
   "outputs": [],
   "execution_count": 13
  },
  {
   "metadata": {
    "ExecuteTime": {
     "end_time": "2024-11-14T20:58:20.982241Z",
     "start_time": "2024-11-14T20:58:20.952177Z"
    }
   },
   "cell_type": "code",
   "source": [
    "print(\"Classification Model for Violence Dataset Summary:\")\n",
    "classification_model_violence.summary()"
   ],
   "id": "bdd247846a39c1f7",
   "outputs": [
    {
     "name": "stdout",
     "output_type": "stream",
     "text": [
      "Classification Model for Violence Dataset Summary:\n",
      "Model: \"model_1\"\n",
      "_________________________________________________________________\n",
      " Layer (type)                Output Shape              Param #   \n",
      "=================================================================\n",
      " input_1 (InputLayer)        [(None, 12, 64, 64, 3)]   0         \n",
      "                                                                 \n",
      " conv3d (Conv3D)             (None, 12, 64, 64, 64)    5248      \n",
      "                                                                 \n",
      " max_pooling3d (MaxPooling3D  (None, 12, 32, 32, 64)   0         \n",
      " )                                                               \n",
      "                                                                 \n",
      " conv3d_1 (Conv3D)           (None, 12, 32, 32, 128)   221312    \n",
      "                                                                 \n",
      " max_pooling3d_1 (MaxPooling  (None, 6, 16, 16, 128)   0         \n",
      " 3D)                                                             \n",
      "                                                                 \n",
      " conv3d_2 (Conv3D)           (None, 6, 16, 16, 256)    884992    \n",
      "                                                                 \n",
      " conv3d_3 (Conv3D)           (None, 6, 16, 16, 256)    1769728   \n",
      "                                                                 \n",
      " max_pooling3d_2 (MaxPooling  (None, 6, 8, 8, 256)     0         \n",
      " 3D)                                                             \n",
      "                                                                 \n",
      " conv3d_4 (Conv3D)           (None, 6, 8, 8, 512)      3539456   \n",
      "                                                                 \n",
      " conv3d_5 (Conv3D)           (None, 6, 8, 8, 512)      7078400   \n",
      "                                                                 \n",
      " max_pooling3d_3 (MaxPooling  (None, 3, 4, 4, 512)     0         \n",
      " 3D)                                                             \n",
      "                                                                 \n",
      " conv3d_6 (Conv3D)           (None, 3, 4, 4, 512)      7078400   \n",
      "                                                                 \n",
      " conv3d_7 (Conv3D)           (None, 3, 4, 4, 512)      7078400   \n",
      "                                                                 \n",
      " max_pooling3d_4 (MaxPooling  (None, 3, 2, 2, 512)     0         \n",
      " 3D)                                                             \n",
      "                                                                 \n",
      " flatten (Flatten)           (None, 6144)              0         \n",
      "                                                                 \n",
      " dense (Dense)               (None, 4096)              25169920  \n",
      "                                                                 \n",
      " dropout (Dropout)           (None, 4096)              0         \n",
      "                                                                 \n",
      " dense_1 (Dense)             (None, 4096)              16781312  \n",
      "                                                                 \n",
      " dropout_1 (Dropout)         (None, 4096)              0         \n",
      "                                                                 \n",
      " dense_2 (Dense)             (None, 512)               2097664   \n",
      "                                                                 \n",
      " dense_3 (Dense)             (None, 2)                 1026      \n",
      "                                                                 \n",
      "=================================================================\n",
      "Total params: 71,705,858\n",
      "Trainable params: 1,026\n",
      "Non-trainable params: 71,704,832\n",
      "_________________________________________________________________\n"
     ]
    }
   ],
   "execution_count": 14
  },
  {
   "metadata": {},
   "cell_type": "markdown",
   "source": "### Train and Evaluate on Violence Dataset",
   "id": "f1abf1276cfdfddb"
  },
  {
   "metadata": {
    "ExecuteTime": {
     "end_time": "2024-11-14T21:04:22.200152Z",
     "start_time": "2024-11-14T20:58:21.107181Z"
    }
   },
   "cell_type": "code",
   "source": [
    " # Train the model on Violence dataset\n",
    "history_violence = classification_model_violence.fit(\n",
    "    violence_train_generator,\n",
    "    validation_data=violence_val_generator,\n",
    "    epochs=num_epochs,\n",
    ")"
   ],
   "id": "80ad2bb7d4358a76",
   "outputs": [
    {
     "name": "stdout",
     "output_type": "stream",
     "text": [
      "Epoch 1/10\n",
      "55/55 [==============================] - 40s 670ms/step - loss: 0.6929 - sparse_categorical_accuracy: 0.5250 - val_loss: 0.6934 - val_sparse_categorical_accuracy: 0.4667\n",
      "Epoch 2/10\n",
      "55/55 [==============================] - 35s 640ms/step - loss: 0.6935 - sparse_categorical_accuracy: 0.5023 - val_loss: 0.6938 - val_sparse_categorical_accuracy: 0.4667\n",
      "Epoch 3/10\n",
      "55/55 [==============================] - 35s 631ms/step - loss: 0.6936 - sparse_categorical_accuracy: 0.5091 - val_loss: 0.6937 - val_sparse_categorical_accuracy: 0.4667\n",
      "Epoch 4/10\n",
      "55/55 [==============================] - 35s 633ms/step - loss: 0.6933 - sparse_categorical_accuracy: 0.5136 - val_loss: 0.6940 - val_sparse_categorical_accuracy: 0.4667\n",
      "Epoch 5/10\n",
      "55/55 [==============================] - 35s 629ms/step - loss: 0.6939 - sparse_categorical_accuracy: 0.5045 - val_loss: 0.6942 - val_sparse_categorical_accuracy: 0.4667\n",
      "Epoch 6/10\n",
      "55/55 [==============================] - 35s 638ms/step - loss: 0.6933 - sparse_categorical_accuracy: 0.5205 - val_loss: 0.6941 - val_sparse_categorical_accuracy: 0.4667\n",
      "Epoch 7/10\n",
      "55/55 [==============================] - 36s 642ms/step - loss: 0.6932 - sparse_categorical_accuracy: 0.5159 - val_loss: 0.6941 - val_sparse_categorical_accuracy: 0.4667\n",
      "Epoch 8/10\n",
      "55/55 [==============================] - 37s 685ms/step - loss: 0.6934 - sparse_categorical_accuracy: 0.5136 - val_loss: 0.6944 - val_sparse_categorical_accuracy: 0.4667\n",
      "Epoch 9/10\n",
      "55/55 [==============================] - 36s 647ms/step - loss: 0.6931 - sparse_categorical_accuracy: 0.5136 - val_loss: 0.6945 - val_sparse_categorical_accuracy: 0.4667\n",
      "Epoch 10/10\n",
      "55/55 [==============================] - 35s 636ms/step - loss: 0.6935 - sparse_categorical_accuracy: 0.4909 - val_loss: 0.6938 - val_sparse_categorical_accuracy: 0.4667\n"
     ]
    }
   ],
   "execution_count": 15
  },
  {
   "metadata": {
    "ExecuteTime": {
     "end_time": "2024-11-14T21:04:37.566916Z",
     "start_time": "2024-11-14T21:04:22.233184Z"
    }
   },
   "cell_type": "code",
   "source": [
    "# Evaluate on Violence test set\n",
    "base_c3d_results_violence = classification_model_violence.evaluate(violence_test_generator)\n",
    "print(f\"Violence Dataset - Test Loss: {base_c3d_results_violence[0]:.4f}, Test Accuracy: {base_c3d_results_violence[1]:.4f}\")\n"
   ],
   "id": "63b234494c99c2b5",
   "outputs": [
    {
     "name": "stdout",
     "output_type": "stream",
     "text": [
      "30/30 [==============================] - 15s 503ms/step - loss: 0.6933 - sparse_categorical_accuracy: 0.4917\n",
      "Violence Dataset - Test Loss: 0.6933, Test Accuracy: 0.4917\n"
     ]
    }
   ],
   "execution_count": 16
  },
  {
   "metadata": {
    "ExecuteTime": {
     "end_time": "2024-11-14T21:04:37.614960Z",
     "start_time": "2024-11-14T21:04:37.599946Z"
    }
   },
   "cell_type": "code",
   "source": [
    "# Plot training & validation accuracy and loss\n",
    "def plot_history(history, title):\n",
    "    \"\"\"Plot training and validation accuracy and loss.\"\"\"\n",
    "    acc = history.history['sparse_categorical_accuracy']\n",
    "    val_acc = history.history['val_sparse_categorical_accuracy']\n",
    "    loss = history.history['loss']\n",
    "    val_loss = history.history['val_loss']\n",
    "    epochs_range = range(len(acc))\n",
    "\n",
    "    plt.figure(figsize=(12, 6))\n",
    "    plt.subplot(1, 2, 1)\n",
    "    plt.plot(epochs_range, acc, label='Training Accuracy')\n",
    "    plt.plot(epochs_range, val_acc, label='Validation Accuracy')\n",
    "    plt.legend(loc='lower right')\n",
    "    plt.title(f'{title} - Accuracy')\n",
    "\n",
    "    plt.subplot(1, 2, 2)\n",
    "    plt.plot(epochs_range, loss, label='Training Loss')\n",
    "    plt.plot(epochs_range, val_loss, label='Validation Loss')\n",
    "    plt.legend(loc='upper right')\n",
    "    plt.title(f'{title} - Loss')\n",
    "    plt.show()"
   ],
   "id": "afa1062fcbc5c016",
   "outputs": [],
   "execution_count": 17
  },
  {
   "metadata": {
    "ExecuteTime": {
     "end_time": "2024-11-14T21:04:37.945276Z",
     "start_time": "2024-11-14T21:04:37.618964Z"
    }
   },
   "cell_type": "code",
   "source": "plot_history(history_violence, 'Baseline C3D on Violence Dataset')",
   "id": "39154d3f6464e5e2",
   "outputs": [
    {
     "data": {
      "text/plain": [
       "<Figure size 1200x600 with 2 Axes>"
      ],
      "image/png": "[encoded data removed]"
     },
     "metadata": {},
     "output_type": "display_data"
    }
   ],
   "execution_count": 18
  },
  {
   "metadata": {
    "ExecuteTime": {
     "end_time": "2024-11-14T21:04:37.992319Z",
     "start_time": "2024-11-14T21:04:37.974302Z"
    }
   },
   "cell_type": "code",
   "source": [
    "# Display confusion matrix\n",
    "def display_confusion_matrix(model, test_generator, class_names, title):\n",
    "    \"\"\"Display confusion matrix for the test set.\"\"\"\n",
    "    y_pred = model.predict(test_generator)\n",
    "    y_pred_classes = np.argmax(y_pred, axis=1)\n",
    "    y_true = test_generator.labels\n",
    "\n",
    "    cm = confusion_matrix(y_true, y_pred_classes)\n",
    "    disp = ConfusionMatrixDisplay(confusion_matrix=cm, display_labels=class_names)\n",
    "    disp.plot(cmap=plt.cm.Blues)\n",
    "    plt.title(f'{title} - Confusion Matrix')\n",
    "    plt.show()"
   ],
   "id": "5f15b736f06931ad",
   "outputs": [],
   "execution_count": 19
  },
  {
   "metadata": {
    "ExecuteTime": {
     "end_time": "2024-11-14T21:04:53.129338Z",
     "start_time": "2024-11-14T21:04:38.010337Z"
    }
   },
   "cell_type": "code",
   "source": [
    "class_names = ['NonViolence', 'Violence']\n",
    "display_confusion_matrix(classification_model_violence, violence_test_generator, class_names, 'Baseline C3D on Violence Dataset')\n"
   ],
   "id": "7b3357f742c92444",
   "outputs": [
    {
     "name": "stdout",
     "output_type": "stream",
     "text": [
      "30/30 [==============================] - 15s 487ms/step\n"
     ]
    },
    {
     "data": {
      "text/plain": [
       "<Figure size 640x480 with 2 Axes>"
      ],
      "image/png": "[encoded data removed]"
     },
     "metadata": {},
     "output_type": "display_data"
    }
   ],
   "execution_count": 20
  },
  {
   "metadata": {
    "ExecuteTime": {
     "end_time": "2024-11-14T21:04:53.192899Z",
     "start_time": "2024-11-14T21:04:53.145856Z"
    }
   },
   "cell_type": "code",
   "source": [
    "# Classification model for TikTok dataset\n",
    "classification_model_tiktok = create_classification_model(base_model_c3d, num_classes)\n",
    "\n",
    "# Freeze base model layers\n",
    "for layer in classification_model_tiktok.layers[:-1]:\n",
    "    layer.trainable = False\n",
    "\n",
    "# Compile the model\n",
    "classification_model_tiktok.compile(\n",
    "    loss=losses.SparseCategoricalCrossentropy(),\n",
    "    optimizer=optimizers.Adam(learning_rate=learning_rate),\n",
    "    metrics=[metrics.SparseCategoricalAccuracy()],\n",
    ")\n",
    "\n",
    "print(\"Classification Model for TikTok Dataset Summary:\")\n",
    "classification_model_tiktok.summary()"
   ],
   "id": "df01412c8d97718e",
   "outputs": [
    {
     "name": "stdout",
     "output_type": "stream",
     "text": [
      "Classification Model for TikTok Dataset Summary:\n",
      "Model: \"model_2\"\n",
      "_________________________________________________________________\n",
      " Layer (type)                Output Shape              Param #   \n",
      "=================================================================\n",
      " input_1 (InputLayer)        [(None, 12, 64, 64, 3)]   0         \n",
      "                                                                 \n",
      " conv3d (Conv3D)             (None, 12, 64, 64, 64)    5248      \n",
      "                                                                 \n",
      " max_pooling3d (MaxPooling3D  (None, 12, 32, 32, 64)   0         \n",
      " )                                                               \n",
      "                                                                 \n",
      " conv3d_1 (Conv3D)           (None, 12, 32, 32, 128)   221312    \n",
      "                                                                 \n",
      " max_pooling3d_1 (MaxPooling  (None, 6, 16, 16, 128)   0         \n",
      " 3D)                                                             \n",
      "                                                                 \n",
      " conv3d_2 (Conv3D)           (None, 6, 16, 16, 256)    884992    \n",
      "                                                                 \n",
      " conv3d_3 (Conv3D)           (None, 6, 16, 16, 256)    1769728   \n",
      "                                                                 \n",
      " max_pooling3d_2 (MaxPooling  (None, 6, 8, 8, 256)     0         \n",
      " 3D)                                                             \n",
      "                                                                 \n",
      " conv3d_4 (Conv3D)           (None, 6, 8, 8, 512)      3539456   \n",
      "                                                                 \n",
      " conv3d_5 (Conv3D)           (None, 6, 8, 8, 512)      7078400   \n",
      "                                                                 \n",
      " max_pooling3d_3 (MaxPooling  (None, 3, 4, 4, 512)     0         \n",
      " 3D)                                                             \n",
      "                                                                 \n",
      " conv3d_6 (Conv3D)           (None, 3, 4, 4, 512)      7078400   \n",
      "                                                                 \n",
      " conv3d_7 (Conv3D)           (None, 3, 4, 4, 512)      7078400   \n",
      "                                                                 \n",
      " max_pooling3d_4 (MaxPooling  (None, 3, 2, 2, 512)     0         \n",
      " 3D)                                                             \n",
      "                                                                 \n",
      " flatten (Flatten)           (None, 6144)              0         \n",
      "                                                                 \n",
      " dense (Dense)               (None, 4096)              25169920  \n",
      "                                                                 \n",
      " dropout (Dropout)           (None, 4096)              0         \n",
      "                                                                 \n",
      " dense_1 (Dense)             (None, 4096)              16781312  \n",
      "                                                                 \n",
      " dropout_1 (Dropout)         (None, 4096)              0         \n",
      "                                                                 \n",
      " dense_2 (Dense)             (None, 512)               2097664   \n",
      "                                                                 \n",
      " dense_4 (Dense)             (None, 2)                 1026      \n",
      "                                                                 \n",
      "=================================================================\n",
      "Total params: 71,705,858\n",
      "Trainable params: 1,026\n",
      "Non-trainable params: 71,704,832\n",
      "_________________________________________________________________\n"
     ]
    }
   ],
   "execution_count": 21
  },
  {
   "metadata": {
    "ExecuteTime": {
     "end_time": "2024-11-14T21:20:42.160350Z",
     "start_time": "2024-11-14T21:04:53.241451Z"
    }
   },
   "cell_type": "code",
   "source": [
    "# Train the model on TikTok dataset\n",
    "history_tiktok = classification_model_tiktok.fit(\n",
    "    tiktok_train_generator,\n",
    "    validation_data=tiktok_val_generator,\n",
    "    epochs=num_epochs,\n",
    ")"
   ],
   "id": "a61ead3100b5d05e",
   "outputs": [
    {
     "name": "stdout",
     "output_type": "stream",
     "text": [
      "Epoch 1/10\n",
      "55/55 [==============================] - 98s 2s/step - loss: 0.6938 - sparse_categorical_accuracy: 0.4864 - val_loss: 0.6940 - val_sparse_categorical_accuracy: 0.4167\n",
      "Epoch 2/10\n",
      "55/55 [==============================] - 94s 2s/step - loss: 0.6914 - sparse_categorical_accuracy: 0.5318 - val_loss: 0.6953 - val_sparse_categorical_accuracy: 0.4167\n",
      "Epoch 3/10\n",
      "55/55 [==============================] - 95s 2s/step - loss: 0.6913 - sparse_categorical_accuracy: 0.5318 - val_loss: 0.6988 - val_sparse_categorical_accuracy: 0.4167\n",
      "Epoch 4/10\n",
      "55/55 [==============================] - 94s 2s/step - loss: 0.6893 - sparse_categorical_accuracy: 0.5318 - val_loss: 0.6966 - val_sparse_categorical_accuracy: 0.4167\n",
      "Epoch 5/10\n",
      "55/55 [==============================] - 94s 2s/step - loss: 0.6891 - sparse_categorical_accuracy: 0.5318 - val_loss: 0.7021 - val_sparse_categorical_accuracy: 0.4167\n",
      "Epoch 6/10\n",
      "55/55 [==============================] - 94s 2s/step - loss: 0.6877 - sparse_categorical_accuracy: 0.5318 - val_loss: 0.6981 - val_sparse_categorical_accuracy: 0.4167\n",
      "Epoch 7/10\n",
      "55/55 [==============================] - 94s 2s/step - loss: 0.6887 - sparse_categorical_accuracy: 0.5318 - val_loss: 0.6983 - val_sparse_categorical_accuracy: 0.4167\n",
      "Epoch 8/10\n",
      "55/55 [==============================] - 95s 2s/step - loss: 0.6882 - sparse_categorical_accuracy: 0.5318 - val_loss: 0.7000 - val_sparse_categorical_accuracy: 0.4167\n",
      "Epoch 9/10\n",
      "55/55 [==============================] - 94s 2s/step - loss: 0.6871 - sparse_categorical_accuracy: 0.5318 - val_loss: 0.6992 - val_sparse_categorical_accuracy: 0.4167\n",
      "Epoch 10/10\n",
      "55/55 [==============================] - 94s 2s/step - loss: 0.6883 - sparse_categorical_accuracy: 0.5318 - val_loss: 0.7007 - val_sparse_categorical_accuracy: 0.4167\n"
     ]
    }
   ],
   "execution_count": 22
  },
  {
   "metadata": {
    "ExecuteTime": {
     "end_time": "2024-11-14T21:21:21.423416Z",
     "start_time": "2024-11-14T21:20:42.169864Z"
    }
   },
   "cell_type": "code",
   "source": [
    "# Evaluate on TikTok test set\n",
    "base_c3d_results_tiktok = classification_model_tiktok.evaluate(tiktok_test_generator)\n",
    "print(f\"TikTok Dataset - Test Loss: {base_c3d_results_tiktok[0]:.4f}, Test Accuracy: {base_c3d_results_tiktok[1]:.4f}\")\n",
    "\n",
    "plot_history(history_tiktok, 'Baseline C3D on TikTok Dataset')\n"
   ],
   "id": "7b2014bcbf1669c9",
   "outputs": [
    {
     "name": "stdout",
     "output_type": "stream",
     "text": [
      "30/30 [==============================] - 38s 1s/step - loss: 0.6955 - sparse_categorical_accuracy: 0.4833\n",
      "TikTok Dataset - Test Loss: 0.6955, Test Accuracy: 0.4833\n"
     ]
    },
    {
     "data": {
      "text/plain": [
       "<Figure size 1200x600 with 2 Axes>"
      ],
      "image/png": "[encoded data removed]"
     },
     "metadata": {},
     "output_type": "display_data"
    }
   ],
   "execution_count": 23
  },
  {
   "metadata": {
    "ExecuteTime": {
     "end_time": "2024-11-14T21:22:00.715313Z",
     "start_time": "2024-11-14T21:21:21.451001Z"
    }
   },
   "cell_type": "code",
   "source": [
    "# Display confusion matrix\n",
    "class_names = ['Safe', 'Harmful Content']\n",
    "display_confusion_matrix(classification_model_tiktok, tiktok_test_generator, class_names, 'Baseline C3D on TikTok Dataset')\n"
   ],
   "id": "73a05ff2a8c4b0f2",
   "outputs": [
    {
     "name": "stdout",
     "output_type": "stream",
     "text": [
      "30/30 [==============================] - 38s 1s/step\n"
     ]
    },
    {
     "data": {
      "text/plain": [
       "<Figure size 640x480 with 2 Axes>"
      ],
      "image/png": "[encoded data removed]"
     },
     "metadata": {},
     "output_type": "display_data"
    }
   ],
   "execution_count": 24
  },
  {
   "metadata": {},
   "cell_type": "markdown",
   "source": [
    "## Multi-dataset Supervised Contrastive Learning (MSupCL)\n",
    "\n",
    "### Prepare Data for MSupCL"
   ],
   "id": "dcd22c96fe0ecab0"
  },
  {
   "metadata": {
    "ExecuteTime": {
     "end_time": "2024-11-14T21:22:00.745896Z",
     "start_time": "2024-11-14T21:22:00.731367Z"
    }
   },
   "cell_type": "code",
   "source": [
    "# Combine training data from both datasets\n",
    "combined_train_videos = violence_train_videos + tiktok_train_videos\n",
    "combined_train_labels = violence_train_labels_np.tolist() + tiktok_train_labels_np.tolist()\n",
    "\n",
    "# Create a combined data generator\n",
    "combined_train_generator = VideoDataGenerator(\n",
    "    combined_train_videos,\n",
    "    combined_train_labels,\n",
    "    batch_size=batch_size,\n",
    "    shuffle=True,\n",
    "    augment=True,\n",
    ")\n",
    "\n",
    "# Create paired data generators for MSupCL\n",
    "violence_train_generator_no_aug = VideoDataGenerator(\n",
    "    violence_train_videos,\n",
    "    violence_train_labels_np,\n",
    "    batch_size=batch_size,\n",
    "    shuffle=True,\n",
    "    augment=False,\n",
    ")\n",
    "tiktok_train_generator_no_aug = VideoDataGenerator(\n",
    "    tiktok_train_videos,\n",
    "    tiktok_train_labels_np,\n",
    "    batch_size=batch_size,\n",
    "    shuffle=True,\n",
    "    augment=False,\n",
    ")\n",
    "paired_train_generator = MultiDatasetDataGenerator(\n",
    "    violence_train_videos, violence_train_labels_np,\n",
    "    tiktok_train_videos, tiktok_train_labels_np,\n",
    "    batch_size=8,\n",
    "    shuffle=True\n",
    ")"
   ],
   "id": "bddde4c8d28478eb",
   "outputs": [],
   "execution_count": 25
  },
  {
   "metadata": {},
   "cell_type": "markdown",
   "source": "### Load and Train MSupCL Model",
   "id": "9b222ee8f20fadfe"
  },
  {
   "metadata": {
    "ExecuteTime": {
     "end_time": "2024-11-14T21:22:00.903235Z",
     "start_time": "2024-11-14T21:22:00.764936Z"
    }
   },
   "cell_type": "code",
   "source": [
    "# Load the MSupCL model\n",
    "msupcl_model = load_c3d_model(input_shape=input_shape, feature_dim=feature_dim)\n",
    "print(\"MSupCL Model Summary:\")\n",
    "msupcl_model.summary()"
   ],
   "id": "819725c0d757e7b7",
   "outputs": [
    {
     "name": "stdout",
     "output_type": "stream",
     "text": [
      "MSupCL Model Summary:\n",
      "Model: \"model_3\"\n",
      "_________________________________________________________________\n",
      " Layer (type)                Output Shape              Param #   \n",
      "=================================================================\n",
      " input_2 (InputLayer)        [(None, 12, 64, 64, 3)]   0         \n",
      "                                                                 \n",
      " conv3d_8 (Conv3D)           (None, 12, 64, 64, 64)    5248      \n",
      "                                                                 \n",
      " max_pooling3d_5 (MaxPooling  (None, 12, 32, 32, 64)   0         \n",
      " 3D)                                                             \n",
      "                                                                 \n",
      " conv3d_9 (Conv3D)           (None, 12, 32, 32, 128)   221312    \n",
      "                                                                 \n",
      " max_pooling3d_6 (MaxPooling  (None, 6, 16, 16, 128)   0         \n",
      " 3D)                                                             \n",
      "                                                                 \n",
      " conv3d_10 (Conv3D)          (None, 6, 16, 16, 256)    884992    \n",
      "                                                                 \n",
      " conv3d_11 (Conv3D)          (None, 6, 16, 16, 256)    1769728   \n",
      "                                                                 \n",
      " max_pooling3d_7 (MaxPooling  (None, 6, 8, 8, 256)     0         \n",
      " 3D)                                                             \n",
      "                                                                 \n",
      " conv3d_12 (Conv3D)          (None, 6, 8, 8, 512)      3539456   \n",
      "                                                                 \n",
      " conv3d_13 (Conv3D)          (None, 6, 8, 8, 512)      7078400   \n",
      "                                                                 \n",
      " max_pooling3d_8 (MaxPooling  (None, 3, 4, 4, 512)     0         \n",
      " 3D)                                                             \n",
      "                                                                 \n",
      " conv3d_14 (Conv3D)          (None, 3, 4, 4, 512)      7078400   \n",
      "                                                                 \n",
      " conv3d_15 (Conv3D)          (None, 3, 4, 4, 512)      7078400   \n",
      "                                                                 \n",
      " max_pooling3d_9 (MaxPooling  (None, 3, 2, 2, 512)     0         \n",
      " 3D)                                                             \n",
      "                                                                 \n",
      " flatten_1 (Flatten)         (None, 6144)              0         \n",
      "                                                                 \n",
      " dense_5 (Dense)             (None, 4096)              25169920  \n",
      "                                                                 \n",
      " dropout_2 (Dropout)         (None, 4096)              0         \n",
      "                                                                 \n",
      " dense_6 (Dense)             (None, 4096)              16781312  \n",
      "                                                                 \n",
      " dropout_3 (Dropout)         (None, 4096)              0         \n",
      "                                                                 \n",
      " dense_7 (Dense)             (None, 512)               2097664   \n",
      "                                                                 \n",
      "=================================================================\n",
      "Total params: 71,704,832\n",
      "Trainable params: 71,704,832\n",
      "Non-trainable params: 0\n",
      "_________________________________________________________________\n"
     ]
    }
   ],
   "execution_count": 26
  },
  {
   "metadata": {
    "ExecuteTime": {
     "end_time": "2024-11-14T21:40:41.229256Z",
     "start_time": "2024-11-14T21:22:00.939312Z"
    }
   },
   "cell_type": "code",
   "source": [
    "# Train the MSupCL model\n",
    "train_msupcl_model(msupcl_model, paired_train_generator, epochs=num_epochs, temperature=temperature)\n",
    "\n"
   ],
   "id": "73efa82bee2c74bd",
   "outputs": [
    {
     "name": "stdout",
     "output_type": "stream",
     "text": [
      "Epoch 1/10\n",
      "Training Loss: 2.8798\n",
      "Epoch 2/10\n",
      "Training Loss: 2.8702\n",
      "Epoch 3/10\n",
      "Training Loss: 2.8731\n",
      "Epoch 4/10\n",
      "Training Loss: 2.8757\n",
      "Epoch 5/10\n",
      "Training Loss: 2.8687\n",
      "Epoch 6/10\n",
      "Training Loss: 2.8745\n",
      "Epoch 7/10\n",
      "Training Loss: 2.8769\n",
      "Epoch 8/10\n",
      "Training Loss: 2.8677\n",
      "Epoch 9/10\n",
      "Training Loss: 2.8756\n",
      "Epoch 10/10\n",
      "Training Loss: 2.8716\n"
     ]
    }
   ],
   "execution_count": 27
  },
  {
   "metadata": {},
   "cell_type": "markdown",
   "source": "### Evaluate MSupCL Model",
   "id": "72a58243933239bb"
  },
  {
   "metadata": {},
   "cell_type": "code",
   "source": [
    "# Linear evaluation on both datasets\n",
    "msupcl_c3d_result_violence, msupcl_c3d_result_tiktok = linear_evaluation(\n",
    "    msupcl_model,\n",
    "    combined_train_generator,\n",
    "    violence_test_generator,\n",
    "    tiktok_test_generator,\n",
    "    num_classes=num_classes,\n",
    ")"
   ],
   "id": "59b211eac1f5007a",
   "outputs": [],
   "execution_count": null
  },
  {
   "metadata": {
    "ExecuteTime": {
     "end_time": "2024-11-14T21:55:42.404126Z",
     "start_time": "2024-11-14T21:55:01.779416Z"
    }
   },
   "cell_type": "code",
   "source": "display_confusion_matrix(msupcl_model, tiktok_test_generator, class_names, 'MSupCL Model')",
   "id": "42dc50bba1e32130",
   "outputs": [
    {
     "name": "stdout",
     "output_type": "stream",
     "text": [
      "30/30 [==============================] - 38s 1s/step\n"
     ]
    },
    {
     "ename": "ValueError",
     "evalue": "The number of FixedLocator locations (3), usually from a call to set_ticks, does not match the number of labels (2).",
     "output_type": "error",
     "traceback": [
      "\u001B[1;31m---------------------------------------------------------------------------\u001B[0m",
      "\u001B[1;31mValueError\u001B[0m                                Traceback (most recent call last)",
      "Cell \u001B[1;32mIn[33], line 1\u001B[0m\n\u001B[1;32m----> 1\u001B[0m \u001B[43mdisplay_confusion_matrix\u001B[49m\u001B[43m(\u001B[49m\u001B[43mmsupcl_model\u001B[49m\u001B[43m,\u001B[49m\u001B[43m \u001B[49m\u001B[43mtiktok_test_generator\u001B[49m\u001B[43m,\u001B[49m\u001B[43m \u001B[49m\u001B[43mclass_names\u001B[49m\u001B[43m,\u001B[49m\u001B[43m \u001B[49m\u001B[38;5;124;43m'\u001B[39;49m\u001B[38;5;124;43mMSupCL Model\u001B[39;49m\u001B[38;5;124;43m'\u001B[39;49m\u001B[43m)\u001B[49m\n",
      "Cell \u001B[1;32mIn[19], line 10\u001B[0m, in \u001B[0;36mdisplay_confusion_matrix\u001B[1;34m(model, test_generator, class_names, title)\u001B[0m\n\u001B[0;32m      8\u001B[0m cm \u001B[38;5;241m=\u001B[39m confusion_matrix(y_true, y_pred_classes)\n\u001B[0;32m      9\u001B[0m disp \u001B[38;5;241m=\u001B[39m ConfusionMatrixDisplay(confusion_matrix\u001B[38;5;241m=\u001B[39mcm, display_labels\u001B[38;5;241m=\u001B[39mclass_names)\n\u001B[1;32m---> 10\u001B[0m \u001B[43mdisp\u001B[49m\u001B[38;5;241;43m.\u001B[39;49m\u001B[43mplot\u001B[49m\u001B[43m(\u001B[49m\u001B[43mcmap\u001B[49m\u001B[38;5;241;43m=\u001B[39;49m\u001B[43mplt\u001B[49m\u001B[38;5;241;43m.\u001B[39;49m\u001B[43mcm\u001B[49m\u001B[38;5;241;43m.\u001B[39;49m\u001B[43mBlues\u001B[49m\u001B[43m)\u001B[49m\n\u001B[0;32m     11\u001B[0m plt\u001B[38;5;241m.\u001B[39mtitle(\u001B[38;5;124mf\u001B[39m\u001B[38;5;124m'\u001B[39m\u001B[38;5;132;01m{\u001B[39;00mtitle\u001B[38;5;132;01m}\u001B[39;00m\u001B[38;5;124m - Confusion Matrix\u001B[39m\u001B[38;5;124m'\u001B[39m)\n\u001B[0;32m     12\u001B[0m plt\u001B[38;5;241m.\u001B[39mshow()\n",
      "File \u001B[1;32m~\\anaconda3\\envs\\CSI5341\\lib\\site-packages\\sklearn\\metrics\\_plot\\confusion_matrix.py:181\u001B[0m, in \u001B[0;36mConfusionMatrixDisplay.plot\u001B[1;34m(self, include_values, cmap, xticks_rotation, values_format, ax, colorbar, im_kw, text_kw)\u001B[0m\n\u001B[0;32m    179\u001B[0m \u001B[38;5;28;01mif\u001B[39;00m colorbar:\n\u001B[0;32m    180\u001B[0m     fig\u001B[38;5;241m.\u001B[39mcolorbar(\u001B[38;5;28mself\u001B[39m\u001B[38;5;241m.\u001B[39mim_, ax\u001B[38;5;241m=\u001B[39max)\n\u001B[1;32m--> 181\u001B[0m \u001B[43max\u001B[49m\u001B[38;5;241;43m.\u001B[39;49m\u001B[43mset\u001B[49m\u001B[43m(\u001B[49m\n\u001B[0;32m    182\u001B[0m \u001B[43m    \u001B[49m\u001B[43mxticks\u001B[49m\u001B[38;5;241;43m=\u001B[39;49m\u001B[43mnp\u001B[49m\u001B[38;5;241;43m.\u001B[39;49m\u001B[43marange\u001B[49m\u001B[43m(\u001B[49m\u001B[43mn_classes\u001B[49m\u001B[43m)\u001B[49m\u001B[43m,\u001B[49m\n\u001B[0;32m    183\u001B[0m \u001B[43m    \u001B[49m\u001B[43myticks\u001B[49m\u001B[38;5;241;43m=\u001B[39;49m\u001B[43mnp\u001B[49m\u001B[38;5;241;43m.\u001B[39;49m\u001B[43marange\u001B[49m\u001B[43m(\u001B[49m\u001B[43mn_classes\u001B[49m\u001B[43m)\u001B[49m\u001B[43m,\u001B[49m\n\u001B[0;32m    184\u001B[0m \u001B[43m    \u001B[49m\u001B[43mxticklabels\u001B[49m\u001B[38;5;241;43m=\u001B[39;49m\u001B[43mdisplay_labels\u001B[49m\u001B[43m,\u001B[49m\n\u001B[0;32m    185\u001B[0m \u001B[43m    \u001B[49m\u001B[43myticklabels\u001B[49m\u001B[38;5;241;43m=\u001B[39;49m\u001B[43mdisplay_labels\u001B[49m\u001B[43m,\u001B[49m\n\u001B[0;32m    186\u001B[0m \u001B[43m    \u001B[49m\u001B[43mylabel\u001B[49m\u001B[38;5;241;43m=\u001B[39;49m\u001B[38;5;124;43m\"\u001B[39;49m\u001B[38;5;124;43mTrue label\u001B[39;49m\u001B[38;5;124;43m\"\u001B[39;49m\u001B[43m,\u001B[49m\n\u001B[0;32m    187\u001B[0m \u001B[43m    \u001B[49m\u001B[43mxlabel\u001B[49m\u001B[38;5;241;43m=\u001B[39;49m\u001B[38;5;124;43m\"\u001B[39;49m\u001B[38;5;124;43mPredicted label\u001B[39;49m\u001B[38;5;124;43m\"\u001B[39;49m\u001B[43m,\u001B[49m\n\u001B[0;32m    188\u001B[0m \u001B[43m\u001B[49m\u001B[43m)\u001B[49m\n\u001B[0;32m    190\u001B[0m ax\u001B[38;5;241m.\u001B[39mset_ylim((n_classes \u001B[38;5;241m-\u001B[39m \u001B[38;5;241m0.5\u001B[39m, \u001B[38;5;241m-\u001B[39m\u001B[38;5;241m0.5\u001B[39m))\n\u001B[0;32m    191\u001B[0m plt\u001B[38;5;241m.\u001B[39msetp(ax\u001B[38;5;241m.\u001B[39mget_xticklabels(), rotation\u001B[38;5;241m=\u001B[39mxticks_rotation)\n",
      "File \u001B[1;32m~\\anaconda3\\envs\\CSI5341\\lib\\site-packages\\matplotlib\\artist.py:147\u001B[0m, in \u001B[0;36mArtist.__init_subclass__.<locals>.<lambda>\u001B[1;34m(self, **kwargs)\u001B[0m\n\u001B[0;32m    139\u001B[0m \u001B[38;5;28;01mif\u001B[39;00m \u001B[38;5;129;01mnot\u001B[39;00m \u001B[38;5;28mhasattr\u001B[39m(\u001B[38;5;28mcls\u001B[39m\u001B[38;5;241m.\u001B[39mset, \u001B[38;5;124m'\u001B[39m\u001B[38;5;124m_autogenerated_signature\u001B[39m\u001B[38;5;124m'\u001B[39m):\n\u001B[0;32m    140\u001B[0m     \u001B[38;5;66;03m# Don't overwrite cls.set if the subclass or one of its parents\u001B[39;00m\n\u001B[0;32m    141\u001B[0m     \u001B[38;5;66;03m# has defined a set method set itself.\u001B[39;00m\n\u001B[0;32m    142\u001B[0m     \u001B[38;5;66;03m# If there was no explicit definition, cls.set is inherited from\u001B[39;00m\n\u001B[0;32m    143\u001B[0m     \u001B[38;5;66;03m# the hierarchy of auto-generated set methods, which hold the\u001B[39;00m\n\u001B[0;32m    144\u001B[0m     \u001B[38;5;66;03m# flag _autogenerated_signature.\u001B[39;00m\n\u001B[0;32m    145\u001B[0m     \u001B[38;5;28;01mreturn\u001B[39;00m\n\u001B[1;32m--> 147\u001B[0m \u001B[38;5;28mcls\u001B[39m\u001B[38;5;241m.\u001B[39mset \u001B[38;5;241m=\u001B[39m \u001B[38;5;28;01mlambda\u001B[39;00m \u001B[38;5;28mself\u001B[39m, \u001B[38;5;241m*\u001B[39m\u001B[38;5;241m*\u001B[39mkwargs: Artist\u001B[38;5;241m.\u001B[39mset(\u001B[38;5;28mself\u001B[39m, \u001B[38;5;241m*\u001B[39m\u001B[38;5;241m*\u001B[39mkwargs)\n\u001B[0;32m    148\u001B[0m \u001B[38;5;28mcls\u001B[39m\u001B[38;5;241m.\u001B[39mset\u001B[38;5;241m.\u001B[39m\u001B[38;5;18m__name__\u001B[39m \u001B[38;5;241m=\u001B[39m \u001B[38;5;124m\"\u001B[39m\u001B[38;5;124mset\u001B[39m\u001B[38;5;124m\"\u001B[39m\n\u001B[0;32m    149\u001B[0m \u001B[38;5;28mcls\u001B[39m\u001B[38;5;241m.\u001B[39mset\u001B[38;5;241m.\u001B[39m\u001B[38;5;18m__qualname__\u001B[39m \u001B[38;5;241m=\u001B[39m \u001B[38;5;124mf\u001B[39m\u001B[38;5;124m\"\u001B[39m\u001B[38;5;132;01m{\u001B[39;00m\u001B[38;5;28mcls\u001B[39m\u001B[38;5;241m.\u001B[39m\u001B[38;5;18m__qualname__\u001B[39m\u001B[38;5;132;01m}\u001B[39;00m\u001B[38;5;124m.set\u001B[39m\u001B[38;5;124m\"\u001B[39m\n",
      "File \u001B[1;32m~\\anaconda3\\envs\\CSI5341\\lib\\site-packages\\matplotlib\\artist.py:1224\u001B[0m, in \u001B[0;36mArtist.set\u001B[1;34m(self, **kwargs)\u001B[0m\n\u001B[0;32m   1220\u001B[0m \u001B[38;5;28;01mdef\u001B[39;00m \u001B[38;5;21mset\u001B[39m(\u001B[38;5;28mself\u001B[39m, \u001B[38;5;241m*\u001B[39m\u001B[38;5;241m*\u001B[39mkwargs):\n\u001B[0;32m   1221\u001B[0m     \u001B[38;5;66;03m# docstring and signature are auto-generated via\u001B[39;00m\n\u001B[0;32m   1222\u001B[0m     \u001B[38;5;66;03m# Artist._update_set_signature_and_docstring() at the end of the\u001B[39;00m\n\u001B[0;32m   1223\u001B[0m     \u001B[38;5;66;03m# module.\u001B[39;00m\n\u001B[1;32m-> 1224\u001B[0m     \u001B[38;5;28;01mreturn\u001B[39;00m \u001B[38;5;28;43mself\u001B[39;49m\u001B[38;5;241;43m.\u001B[39;49m\u001B[43m_internal_update\u001B[49m\u001B[43m(\u001B[49m\u001B[43mcbook\u001B[49m\u001B[38;5;241;43m.\u001B[39;49m\u001B[43mnormalize_kwargs\u001B[49m\u001B[43m(\u001B[49m\u001B[43mkwargs\u001B[49m\u001B[43m,\u001B[49m\u001B[43m \u001B[49m\u001B[38;5;28;43mself\u001B[39;49m\u001B[43m)\u001B[49m\u001B[43m)\u001B[49m\n",
      "File \u001B[1;32m~\\anaconda3\\envs\\CSI5341\\lib\\site-packages\\matplotlib\\artist.py:1216\u001B[0m, in \u001B[0;36mArtist._internal_update\u001B[1;34m(self, kwargs)\u001B[0m\n\u001B[0;32m   1209\u001B[0m \u001B[38;5;28;01mdef\u001B[39;00m \u001B[38;5;21m_internal_update\u001B[39m(\u001B[38;5;28mself\u001B[39m, kwargs):\n\u001B[0;32m   1210\u001B[0m \u001B[38;5;250m    \u001B[39m\u001B[38;5;124;03m\"\"\"\u001B[39;00m\n\u001B[0;32m   1211\u001B[0m \u001B[38;5;124;03m    Update artist properties without prenormalizing them, but generating\u001B[39;00m\n\u001B[0;32m   1212\u001B[0m \u001B[38;5;124;03m    errors as if calling `set`.\u001B[39;00m\n\u001B[0;32m   1213\u001B[0m \n\u001B[0;32m   1214\u001B[0m \u001B[38;5;124;03m    The lack of prenormalization is to maintain backcompatibility.\u001B[39;00m\n\u001B[0;32m   1215\u001B[0m \u001B[38;5;124;03m    \"\"\"\u001B[39;00m\n\u001B[1;32m-> 1216\u001B[0m     \u001B[38;5;28;01mreturn\u001B[39;00m \u001B[38;5;28;43mself\u001B[39;49m\u001B[38;5;241;43m.\u001B[39;49m\u001B[43m_update_props\u001B[49m\u001B[43m(\u001B[49m\n\u001B[0;32m   1217\u001B[0m \u001B[43m        \u001B[49m\u001B[43mkwargs\u001B[49m\u001B[43m,\u001B[49m\u001B[43m \u001B[49m\u001B[38;5;124;43m\"\u001B[39;49m\u001B[38;5;132;43;01m{cls.__name__}\u001B[39;49;00m\u001B[38;5;124;43m.set() got an unexpected keyword argument \u001B[39;49m\u001B[38;5;124;43m\"\u001B[39;49m\n\u001B[0;32m   1218\u001B[0m \u001B[43m        \u001B[49m\u001B[38;5;124;43m\"\u001B[39;49m\u001B[38;5;132;43;01m{prop_name!r}\u001B[39;49;00m\u001B[38;5;124;43m\"\u001B[39;49m\u001B[43m)\u001B[49m\n",
      "File \u001B[1;32m~\\anaconda3\\envs\\CSI5341\\lib\\site-packages\\matplotlib\\artist.py:1192\u001B[0m, in \u001B[0;36mArtist._update_props\u001B[1;34m(self, props, errfmt)\u001B[0m\n\u001B[0;32m   1189\u001B[0m             \u001B[38;5;28;01mif\u001B[39;00m \u001B[38;5;129;01mnot\u001B[39;00m \u001B[38;5;28mcallable\u001B[39m(func):\n\u001B[0;32m   1190\u001B[0m                 \u001B[38;5;28;01mraise\u001B[39;00m \u001B[38;5;167;01mAttributeError\u001B[39;00m(\n\u001B[0;32m   1191\u001B[0m                     errfmt\u001B[38;5;241m.\u001B[39mformat(\u001B[38;5;28mcls\u001B[39m\u001B[38;5;241m=\u001B[39m\u001B[38;5;28mtype\u001B[39m(\u001B[38;5;28mself\u001B[39m), prop_name\u001B[38;5;241m=\u001B[39mk))\n\u001B[1;32m-> 1192\u001B[0m             ret\u001B[38;5;241m.\u001B[39mappend(\u001B[43mfunc\u001B[49m\u001B[43m(\u001B[49m\u001B[43mv\u001B[49m\u001B[43m)\u001B[49m)\n\u001B[0;32m   1193\u001B[0m \u001B[38;5;28;01mif\u001B[39;00m ret:\n\u001B[0;32m   1194\u001B[0m     \u001B[38;5;28mself\u001B[39m\u001B[38;5;241m.\u001B[39mpchanged()\n",
      "File \u001B[1;32m~\\anaconda3\\envs\\CSI5341\\lib\\site-packages\\matplotlib\\axes\\_base.py:74\u001B[0m, in \u001B[0;36m_axis_method_wrapper.__set_name__.<locals>.wrapper\u001B[1;34m(self, *args, **kwargs)\u001B[0m\n\u001B[0;32m     73\u001B[0m \u001B[38;5;28;01mdef\u001B[39;00m \u001B[38;5;21mwrapper\u001B[39m(\u001B[38;5;28mself\u001B[39m, \u001B[38;5;241m*\u001B[39margs, \u001B[38;5;241m*\u001B[39m\u001B[38;5;241m*\u001B[39mkwargs):\n\u001B[1;32m---> 74\u001B[0m     \u001B[38;5;28;01mreturn\u001B[39;00m get_method(\u001B[38;5;28mself\u001B[39m)(\u001B[38;5;241m*\u001B[39margs, \u001B[38;5;241m*\u001B[39m\u001B[38;5;241m*\u001B[39mkwargs)\n",
      "File \u001B[1;32m~\\anaconda3\\envs\\CSI5341\\lib\\site-packages\\matplotlib\\axis.py:2071\u001B[0m, in \u001B[0;36mAxis.set_ticklabels\u001B[1;34m(self, labels, minor, fontdict, **kwargs)\u001B[0m\n\u001B[0;32m   2067\u001B[0m \u001B[38;5;28;01melif\u001B[39;00m \u001B[38;5;28misinstance\u001B[39m(locator, mticker\u001B[38;5;241m.\u001B[39mFixedLocator):\n\u001B[0;32m   2068\u001B[0m     \u001B[38;5;66;03m# Passing [] as a list of labels is often used as a way to\u001B[39;00m\n\u001B[0;32m   2069\u001B[0m     \u001B[38;5;66;03m# remove all tick labels, so only error for > 0 labels\u001B[39;00m\n\u001B[0;32m   2070\u001B[0m     \u001B[38;5;28;01mif\u001B[39;00m \u001B[38;5;28mlen\u001B[39m(locator\u001B[38;5;241m.\u001B[39mlocs) \u001B[38;5;241m!=\u001B[39m \u001B[38;5;28mlen\u001B[39m(labels) \u001B[38;5;129;01mand\u001B[39;00m \u001B[38;5;28mlen\u001B[39m(labels) \u001B[38;5;241m!=\u001B[39m \u001B[38;5;241m0\u001B[39m:\n\u001B[1;32m-> 2071\u001B[0m         \u001B[38;5;28;01mraise\u001B[39;00m \u001B[38;5;167;01mValueError\u001B[39;00m(\n\u001B[0;32m   2072\u001B[0m             \u001B[38;5;124m\"\u001B[39m\u001B[38;5;124mThe number of FixedLocator locations\u001B[39m\u001B[38;5;124m\"\u001B[39m\n\u001B[0;32m   2073\u001B[0m             \u001B[38;5;124mf\u001B[39m\u001B[38;5;124m\"\u001B[39m\u001B[38;5;124m (\u001B[39m\u001B[38;5;132;01m{\u001B[39;00m\u001B[38;5;28mlen\u001B[39m(locator\u001B[38;5;241m.\u001B[39mlocs)\u001B[38;5;132;01m}\u001B[39;00m\u001B[38;5;124m), usually from a call to\u001B[39m\u001B[38;5;124m\"\u001B[39m\n\u001B[0;32m   2074\u001B[0m             \u001B[38;5;124m\"\u001B[39m\u001B[38;5;124m set_ticks, does not match\u001B[39m\u001B[38;5;124m\"\u001B[39m\n\u001B[0;32m   2075\u001B[0m             \u001B[38;5;124mf\u001B[39m\u001B[38;5;124m\"\u001B[39m\u001B[38;5;124m the number of labels (\u001B[39m\u001B[38;5;132;01m{\u001B[39;00m\u001B[38;5;28mlen\u001B[39m(labels)\u001B[38;5;132;01m}\u001B[39;00m\u001B[38;5;124m).\u001B[39m\u001B[38;5;124m\"\u001B[39m)\n\u001B[0;32m   2076\u001B[0m     tickd \u001B[38;5;241m=\u001B[39m {loc: lab \u001B[38;5;28;01mfor\u001B[39;00m loc, lab \u001B[38;5;129;01min\u001B[39;00m \u001B[38;5;28mzip\u001B[39m(locator\u001B[38;5;241m.\u001B[39mlocs, labels)}\n\u001B[0;32m   2077\u001B[0m     func \u001B[38;5;241m=\u001B[39m functools\u001B[38;5;241m.\u001B[39mpartial(\u001B[38;5;28mself\u001B[39m\u001B[38;5;241m.\u001B[39m_format_with_dict, tickd)\n",
      "\u001B[1;31mValueError\u001B[0m: The number of FixedLocator locations (3), usually from a call to set_ticks, does not match the number of labels (2)."
     ]
    },
    {
     "data": {
      "text/plain": [
       "<Figure size 640x480 with 2 Axes>"
      ],
      "image/png": "[encoded data removed]"
     },
     "metadata": {},
     "output_type": "display_data"
    }
   ],
   "execution_count": 33
  },
  {
   "metadata": {
    "ExecuteTime": {
     "end_time": "2024-11-14T21:50:01.311122Z",
     "start_time": "2024-11-14T21:50:01.296293Z"
    }
   },
   "cell_type": "code",
   "source": [
    "print(f\"MSupCL C3D Violence Dataset - Test Accuracy: {msupcl_c3d_result_violence[1]:.4f}\")\n",
    "print(f\"MSupCL C3D TikTok Dataset - Test Accuracy: {msupcl_c3d_result_tiktok[1]:.4f}\")\n"
   ],
   "id": "128cf5f586e2868",
   "outputs": [
    {
     "name": "stdout",
     "output_type": "stream",
     "text": [
      "MSupCL C3D Violence Dataset - Test Accuracy: 0.4917\n",
      "MSupCL C3D TikTok Dataset - Test Accuracy: 0.5167\n"
     ]
    }
   ],
   "execution_count": 29
  },
  {
   "metadata": {},
   "cell_type": "markdown",
   "source": [
    "## Self-Supervised Contrastive Learning (SSCL) with SimCLR\n",
    "\n",
    "### Prepare Data Generators for SSCL\n"
   ],
   "id": "d3c9e63ab1d19804"
  },
  {
   "metadata": {
    "ExecuteTime": {
     "end_time": "2024-11-14T21:50:01.438742Z",
     "start_time": "2024-11-14T21:50:01.420725Z"
    }
   },
   "cell_type": "code",
   "source": [
    "# SSCL data generators for Violence dataset\n",
    "violence_train_sscl_generator = SSCLVideoDataGenerator(\n",
    "    violence_train_videos,\n",
    "    violence_train_labels_np,\n",
    "    batch_size=batch_size,\n",
    "    shuffle=True,\n",
    "    augment=True,\n",
    "    double_view=True,\n",
    ")\n",
    "violence_train_single_sscl_generator = SSCLVideoDataGenerator(\n",
    "    violence_train_videos,\n",
    "    violence_train_labels_np,\n",
    "    batch_size=batch_size,\n",
    "    shuffle=False,\n",
    "    augment=False,\n",
    "    double_view=False,\n",
    ")\n",
    "violence_val_sscl_generator = SSCLVideoDataGenerator(\n",
    "    violence_val_videos,\n",
    "    violence_val_labels_np,\n",
    "    batch_size=batch_size,\n",
    "    shuffle=False,\n",
    "    augment=False,\n",
    "    double_view=False,\n",
    ")\n",
    "violence_test_sscl_generator = SSCLVideoDataGenerator(\n",
    "    violence_test_videos,\n",
    "    violence_test_labels_np,\n",
    "    batch_size=batch_size,\n",
    "    shuffle=False,\n",
    "    augment=False,\n",
    "    double_view=False,\n",
    ")\n",
    "\n",
    "# SSCL data generators for TikTok dataset\n",
    "tiktok_train_sscl_generator = SSCLVideoDataGenerator(\n",
    "    tiktok_train_videos,\n",
    "    tiktok_train_labels_np,\n",
    "    batch_size=batch_size,\n",
    "    shuffle=True,\n",
    "    augment=True,\n",
    "    double_view=True,\n",
    ")\n",
    "tiktok_train_single_sscl_generator = SSCLVideoDataGenerator(\n",
    "    tiktok_train_videos,\n",
    "    tiktok_train_labels_np,\n",
    "    batch_size=batch_size,\n",
    "    shuffle=False,\n",
    "    augment=False,\n",
    "    double_view=False,\n",
    ")\n",
    "tiktok_val_sscl_generator = SSCLVideoDataGenerator(\n",
    "    tiktok_val_videos,\n",
    "    tiktok_val_labels_np,\n",
    "    batch_size=batch_size,\n",
    "    shuffle=False,\n",
    "    augment=False,\n",
    "    double_view=False,\n",
    ")\n",
    "tiktok_test_sscl_generator = SSCLVideoDataGenerator(\n",
    "    tiktok_test_videos,\n",
    "    tiktok_test_labels_np,\n",
    "    batch_size=batch_size,\n",
    "    shuffle=False,\n",
    "    augment=False,\n",
    "    double_view=False,\n",
    ")\n"
   ],
   "id": "102fd8624d03d1ad",
   "outputs": [],
   "execution_count": 30
  },
  {
   "metadata": {},
   "cell_type": "markdown",
   "source": "### Load and Train SSCL Model with C3D Backbone",
   "id": "4ab4a1ac0fc72d46"
  },
  {
   "metadata": {
    "ExecuteTime": {
     "end_time": "2024-11-14T21:50:01.628922Z",
     "start_time": "2024-11-14T21:50:01.495297Z"
    }
   },
   "cell_type": "code",
   "source": [
    "# Load the SSCL model with C3D backbone\n",
    "sscl_model_c3d = load_c3d_sscl_model(input_shape=input_shape, feature_dim=feature_dim)\n",
    "print(\"SSCL Model with C3D Backbone Summary:\")\n",
    "sscl_model_c3d.summary()"
   ],
   "id": "aee466c25b3f1cd1",
   "outputs": [
    {
     "name": "stdout",
     "output_type": "stream",
     "text": [
      "SSCL Model with C3D Backbone Summary:\n",
      "Model: \"model_5\"\n",
      "_________________________________________________________________\n",
      " Layer (type)                Output Shape              Param #   \n",
      "=================================================================\n",
      " input_3 (InputLayer)        [(None, 12, 64, 64, 3)]   0         \n",
      "                                                                 \n",
      " conv3d_16 (Conv3D)          (None, 12, 64, 64, 64)    5248      \n",
      "                                                                 \n",
      " max_pooling3d_10 (MaxPoolin  (None, 12, 32, 32, 64)   0         \n",
      " g3D)                                                            \n",
      "                                                                 \n",
      " conv3d_17 (Conv3D)          (None, 12, 32, 32, 128)   221312    \n",
      "                                                                 \n",
      " max_pooling3d_11 (MaxPoolin  (None, 6, 16, 16, 128)   0         \n",
      " g3D)                                                            \n",
      "                                                                 \n",
      " conv3d_18 (Conv3D)          (None, 6, 16, 16, 256)    884992    \n",
      "                                                                 \n",
      " conv3d_19 (Conv3D)          (None, 6, 16, 16, 256)    1769728   \n",
      "                                                                 \n",
      " max_pooling3d_12 (MaxPoolin  (None, 6, 8, 8, 256)     0         \n",
      " g3D)                                                            \n",
      "                                                                 \n",
      " conv3d_20 (Conv3D)          (None, 6, 8, 8, 512)      3539456   \n",
      "                                                                 \n",
      " conv3d_21 (Conv3D)          (None, 6, 8, 8, 512)      7078400   \n",
      "                                                                 \n",
      " max_pooling3d_13 (MaxPoolin  (None, 3, 4, 4, 512)     0         \n",
      " g3D)                                                            \n",
      "                                                                 \n",
      " conv3d_22 (Conv3D)          (None, 3, 4, 4, 512)      7078400   \n",
      "                                                                 \n",
      " conv3d_23 (Conv3D)          (None, 3, 4, 4, 512)      7078400   \n",
      "                                                                 \n",
      " max_pooling3d_14 (MaxPoolin  (None, 3, 2, 2, 512)     0         \n",
      " g3D)                                                            \n",
      "                                                                 \n",
      " flatten_2 (Flatten)         (None, 6144)              0         \n",
      "                                                                 \n",
      " dense_9 (Dense)             (None, 4096)              25169920  \n",
      "                                                                 \n",
      " dropout_4 (Dropout)         (None, 4096)              0         \n",
      "                                                                 \n",
      " dense_10 (Dense)            (None, 4096)              16781312  \n",
      "                                                                 \n",
      " dropout_5 (Dropout)         (None, 4096)              0         \n",
      "                                                                 \n",
      " features (Dense)            (None, 512)               2097664   \n",
      "                                                                 \n",
      " projections (Dense)         (None, 512)               262656    \n",
      "                                                                 \n",
      "=================================================================\n",
      "Total params: 71,967,488\n",
      "Trainable params: 71,967,488\n",
      "Non-trainable params: 0\n",
      "_________________________________________________________________\n"
     ]
    }
   ],
   "execution_count": 31
  },
  {
   "metadata": {
    "ExecuteTime": {
     "end_time": "2024-11-14T21:53:08.060847Z",
     "start_time": "2024-11-14T21:50:01.674967Z"
    }
   },
   "cell_type": "code",
   "source": [
    "# Train SSCL model on Violence dataset\n",
    "train_simclr_model(sscl_model_c3d, violence_train_sscl_generator, epochs=num_epochs, temperature=temperature)\n"
   ],
   "id": "5e0cc1c5a6983fe1",
   "outputs": [
    {
     "name": "stdout",
     "output_type": "stream",
     "text": [
      "Epoch 1/10\n",
      "Epoch 1, Loss: 1.9492\n",
      "Epoch 2/10\n"
     ]
    },
    {
     "ename": "KeyboardInterrupt",
     "evalue": "",
     "output_type": "error",
     "traceback": [
      "\u001B[1;31m---------------------------------------------------------------------------\u001B[0m",
      "\u001B[1;31mKeyboardInterrupt\u001B[0m                         Traceback (most recent call last)",
      "Cell \u001B[1;32mIn[32], line 2\u001B[0m\n\u001B[0;32m      1\u001B[0m \u001B[38;5;66;03m# Train SSCL model on Violence dataset\u001B[39;00m\n\u001B[1;32m----> 2\u001B[0m \u001B[43mtrain_simclr_model\u001B[49m\u001B[43m(\u001B[49m\u001B[43msscl_model_c3d\u001B[49m\u001B[43m,\u001B[49m\u001B[43m \u001B[49m\u001B[43mviolence_train_sscl_generator\u001B[49m\u001B[43m,\u001B[49m\u001B[43m \u001B[49m\u001B[43mepochs\u001B[49m\u001B[38;5;241;43m=\u001B[39;49m\u001B[43mnum_epochs\u001B[49m\u001B[43m,\u001B[49m\u001B[43m \u001B[49m\u001B[43mtemperature\u001B[49m\u001B[38;5;241;43m=\u001B[39;49m\u001B[43mtemperature\u001B[49m\u001B[43m)\u001B[49m\n",
      "File \u001B[1;32mF:\\study\\CSi\\2024fall\\5341\\project\\Autism-Diagnosis-Transfer-Learning\\model_train.py:215\u001B[0m, in \u001B[0;36mtrain_simclr_model\u001B[1;34m(model, train_generator, epochs, temperature)\u001B[0m\n\u001B[0;32m    213\u001B[0m epoch_loss_avg \u001B[38;5;241m=\u001B[39m tf\u001B[38;5;241m.\u001B[39mkeras\u001B[38;5;241m.\u001B[39mmetrics\u001B[38;5;241m.\u001B[39mMean()\n\u001B[0;32m    214\u001B[0m \u001B[38;5;28;01mfor\u001B[39;00m step \u001B[38;5;129;01min\u001B[39;00m \u001B[38;5;28mrange\u001B[39m(\u001B[38;5;28mlen\u001B[39m(train_generator)):\n\u001B[1;32m--> 215\u001B[0m     (x_i, x_j), _ \u001B[38;5;241m=\u001B[39m \u001B[43mtrain_generator\u001B[49m\u001B[43m[\u001B[49m\u001B[43mstep\u001B[49m\u001B[43m]\u001B[49m\n\u001B[0;32m    216\u001B[0m     \u001B[38;5;28;01mwith\u001B[39;00m tf\u001B[38;5;241m.\u001B[39mGradientTape() \u001B[38;5;28;01mas\u001B[39;00m tape:\n\u001B[0;32m    217\u001B[0m         \u001B[38;5;66;03m# 获取投影后的特征\u001B[39;00m\n\u001B[0;32m    218\u001B[0m         _, z_i \u001B[38;5;241m=\u001B[39m model(x_i, training\u001B[38;5;241m=\u001B[39m\u001B[38;5;28;01mTrue\u001B[39;00m)\n",
      "File \u001B[1;32mF:\\study\\CSi\\2024fall\\5341\\project\\Autism-Diagnosis-Transfer-Learning\\data_uniform_sscl.py:56\u001B[0m, in \u001B[0;36mSSCLVideoDataGenerator.__getitem__\u001B[1;34m(self, index)\u001B[0m\n\u001B[0;32m     54\u001B[0m frames_aug2 \u001B[38;5;241m=\u001B[39m \u001B[38;5;28;01mNone\u001B[39;00m\n\u001B[0;32m     55\u001B[0m \u001B[38;5;28;01mif\u001B[39;00m \u001B[38;5;28mself\u001B[39m\u001B[38;5;241m.\u001B[39mdouble_view:\n\u001B[1;32m---> 56\u001B[0m     frames_aug2 \u001B[38;5;241m=\u001B[39m \u001B[38;5;28;43mself\u001B[39;49m\u001B[38;5;241;43m.\u001B[39;49m\u001B[43maugment_frames\u001B[49m\u001B[43m(\u001B[49m\u001B[43mframes\u001B[49m\u001B[43m)\u001B[49m\n\u001B[0;32m     58\u001B[0m \u001B[38;5;66;03m# 预处理帧\u001B[39;00m\n\u001B[0;32m     59\u001B[0m frames_aug1 \u001B[38;5;241m=\u001B[39m \u001B[38;5;28mself\u001B[39m\u001B[38;5;241m.\u001B[39mpreprocess_frames(frames_aug1)\n",
      "File \u001B[1;32mF:\\study\\CSi\\2024fall\\5341\\project\\Autism-Diagnosis-Transfer-Learning\\data_uniform_sscl.py:109\u001B[0m, in \u001B[0;36mSSCLVideoDataGenerator.augment_frames\u001B[1;34m(self, frames)\u001B[0m\n\u001B[0;32m    106\u001B[0m augmented_frames \u001B[38;5;241m=\u001B[39m []\n\u001B[0;32m    107\u001B[0m \u001B[38;5;28;01mfor\u001B[39;00m frame \u001B[38;5;129;01min\u001B[39;00m frames:\n\u001B[0;32m    108\u001B[0m     \u001B[38;5;66;03m# 随机颜色抖动\u001B[39;00m\n\u001B[1;32m--> 109\u001B[0m     frame \u001B[38;5;241m=\u001B[39m \u001B[38;5;28;43mself\u001B[39;49m\u001B[38;5;241;43m.\u001B[39;49m\u001B[43mcolor_jitter\u001B[49m\u001B[43m(\u001B[49m\u001B[43mframe\u001B[49m\u001B[43m)\u001B[49m\n\u001B[0;32m    110\u001B[0m     \u001B[38;5;66;03m# 随机灰度化\u001B[39;00m\n\u001B[0;32m    111\u001B[0m     \u001B[38;5;28;01mif\u001B[39;00m random\u001B[38;5;241m.\u001B[39mrandom() \u001B[38;5;241m<\u001B[39m \u001B[38;5;241m0.2\u001B[39m:\n",
      "File \u001B[1;32mF:\\study\\CSi\\2024fall\\5341\\project\\Autism-Diagnosis-Transfer-Learning\\data_uniform_sscl.py:236\u001B[0m, in \u001B[0;36mSSCLVideoDataGenerator.color_jitter\u001B[1;34m(self, frame)\u001B[0m\n\u001B[0;32m    234\u001B[0m \u001B[38;5;28;01mif\u001B[39;00m random\u001B[38;5;241m.\u001B[39mrandom() \u001B[38;5;241m<\u001B[39m \u001B[38;5;241m0.8\u001B[39m:\n\u001B[0;32m    235\u001B[0m     hue_factor \u001B[38;5;241m=\u001B[39m random\u001B[38;5;241m.\u001B[39muniform(\u001B[38;5;241m-\u001B[39m\u001B[38;5;241m0.1\u001B[39m, \u001B[38;5;241m0.1\u001B[39m)\n\u001B[1;32m--> 236\u001B[0m     img \u001B[38;5;241m=\u001B[39m np\u001B[38;5;241m.\u001B[39marray(\u001B[43mimg\u001B[49m\u001B[38;5;241;43m.\u001B[39;49m\u001B[43mconvert\u001B[49m\u001B[43m(\u001B[49m\u001B[38;5;124;43m'\u001B[39;49m\u001B[38;5;124;43mHSV\u001B[39;49m\u001B[38;5;124;43m'\u001B[39;49m\u001B[43m)\u001B[49m)\n\u001B[0;32m    237\u001B[0m     img[:, :, \u001B[38;5;241m0\u001B[39m] \u001B[38;5;241m=\u001B[39m (img[:, :, \u001B[38;5;241m0\u001B[39m]\u001B[38;5;241m.\u001B[39mastype(\u001B[38;5;28mint\u001B[39m) \u001B[38;5;241m+\u001B[39m \u001B[38;5;28mint\u001B[39m(hue_factor \u001B[38;5;241m*\u001B[39m \u001B[38;5;241m255\u001B[39m)) \u001B[38;5;241m%\u001B[39m \u001B[38;5;241m255\u001B[39m\n\u001B[0;32m    238\u001B[0m     img \u001B[38;5;241m=\u001B[39m Image\u001B[38;5;241m.\u001B[39mfromarray(img, mode\u001B[38;5;241m=\u001B[39m\u001B[38;5;124m'\u001B[39m\u001B[38;5;124mHSV\u001B[39m\u001B[38;5;124m'\u001B[39m)\u001B[38;5;241m.\u001B[39mconvert(\u001B[38;5;124m'\u001B[39m\u001B[38;5;124mRGB\u001B[39m\u001B[38;5;124m'\u001B[39m)\n",
      "File \u001B[1;32m~\\anaconda3\\envs\\CSI5341\\lib\\site-packages\\PIL\\Image.py:1152\u001B[0m, in \u001B[0;36mImage.convert\u001B[1;34m(self, mode, matrix, dither, palette, colors)\u001B[0m\n\u001B[0;32m   1149\u001B[0m     dither \u001B[38;5;241m=\u001B[39m Dither\u001B[38;5;241m.\u001B[39mFLOYDSTEINBERG\n\u001B[0;32m   1151\u001B[0m \u001B[38;5;28;01mtry\u001B[39;00m:\n\u001B[1;32m-> 1152\u001B[0m     im \u001B[38;5;241m=\u001B[39m \u001B[38;5;28;43mself\u001B[39;49m\u001B[38;5;241;43m.\u001B[39;49m\u001B[43mim\u001B[49m\u001B[38;5;241;43m.\u001B[39;49m\u001B[43mconvert\u001B[49m\u001B[43m(\u001B[49m\u001B[43mmode\u001B[49m\u001B[43m,\u001B[49m\u001B[43m \u001B[49m\u001B[43mdither\u001B[49m\u001B[43m)\u001B[49m\n\u001B[0;32m   1153\u001B[0m \u001B[38;5;28;01mexcept\u001B[39;00m \u001B[38;5;167;01mValueError\u001B[39;00m:\n\u001B[0;32m   1154\u001B[0m     \u001B[38;5;28;01mtry\u001B[39;00m:\n\u001B[0;32m   1155\u001B[0m         \u001B[38;5;66;03m# normalize source image and try again\u001B[39;00m\n",
      "\u001B[1;31mKeyboardInterrupt\u001B[0m: "
     ]
    }
   ],
   "execution_count": 32
  },
  {
   "metadata": {},
   "cell_type": "markdown",
   "source": "### Evaluate SSCL Model on Violence Dataset",
   "id": "a2b8259e3f1bac08"
  },
  {
   "metadata": {
    "ExecuteTime": {
     "end_time": "2024-11-14T21:53:08.226503900Z",
     "start_time": "2024-11-14T20:18:10.093293Z"
    }
   },
   "cell_type": "code",
   "source": [
    "# Linear evaluation on Violence dataset\n",
    "sscl_c3d_result_violence = linear_evaluation_sscl(\n",
    "    sscl_model_c3d,\n",
    "    violence_train_single_sscl_generator,\n",
    "    violence_val_sscl_generator,\n",
    "    violence_test_sscl_generator,\n",
    "    num_classes=num_classes,\n",
    ")\n",
    "print(f\"SSCL C3D Violence Dataset - Test Accuracy: {sscl_c3d_result_violence[1]:.4f}\")"
   ],
   "id": "e58ef713eda7b3cd",
   "outputs": [
    {
     "name": "stdout",
     "output_type": "stream",
     "text": [
      "Epoch 1/3\n",
      "13/13 [==============================] - 24s 2s/step - loss: 1.6528 - accuracy: 0.5000 - val_loss: 1.0581 - val_accuracy: 0.4167\n",
      "Epoch 2/3\n",
      "13/13 [==============================] - 23s 2s/step - loss: 1.6627 - accuracy: 0.5385 - val_loss: 0.9736 - val_accuracy: 0.4167\n",
      "Epoch 3/3\n",
      "13/13 [==============================] - 22s 2s/step - loss: 1.4185 - accuracy: 0.5962 - val_loss: 0.8655 - val_accuracy: 0.4167\n",
      "7/7 [==============================] - 11s 1s/step - loss: 0.7675 - accuracy: 0.5357\n",
      "Test Loss: 0.7675142884254456, Test Accuracy: 0.5357142686843872\n"
     ]
    }
   ],
   "execution_count": 27
  },
  {
   "metadata": {},
   "cell_type": "markdown",
   "source": "### Train and Evaluate SSCL Model on TikTok Dataset",
   "id": "887099038aed880c"
  },
  {
   "metadata": {},
   "cell_type": "code",
   "source": [
    "# Train SSCL model on TikTok dataset\n",
    "train_simclr_model(sscl_model_c3d, tiktok_train_sscl_generator, epochs=num_epochs, temperature=temperature)"
   ],
   "id": "97526ee5dca53983",
   "outputs": [],
   "execution_count": null
  },
  {
   "metadata": {
    "ExecuteTime": {
     "end_time": "2024-11-14T21:53:08.227504800Z",
     "start_time": "2024-11-14T20:19:37.485616Z"
    }
   },
   "cell_type": "code",
   "outputs": [
    {
     "name": "stdout",
     "output_type": "stream",
     "text": [
      "Epoch 1/3\n"
     ]
    },
    {
     "name": "stderr",
     "output_type": "stream",
     "text": [
      "\n",
      "KeyboardInterrupt\n",
      "\n"
     ]
    }
   ],
   "execution_count": 28,
   "source": [
    "\n",
    "# Linear evaluation on TikTok dataset\n",
    "sscl_c3d_result_tiktok = linear_evaluation_sscl(\n",
    "    sscl_model_c3d,\n",
    "    tiktok_train_single_sscl_generator,\n",
    "    tiktok_val_sscl_generator,\n",
    "    tiktok_test_sscl_generator,\n",
    "    num_classes=num_classes,\n",
    ")\n",
    "\n",
    "print(f\"SSCL C3D TikTok Dataset - Test Accuracy: {sscl_c3d_result_tiktok[1]:.4f}\")\n"
   ],
   "id": "514804957bffeea5"
  },
  {
   "metadata": {},
   "cell_type": "markdown",
   "source": [
    "## Experiments with R(2+1)D-18 Model\n",
    "\n",
    "### Baseline Classification with R(2+1)D-18 Model\n",
    "\n"
   ],
   "id": "ad382a4266f5d757"
  },
  {
   "metadata": {
    "ExecuteTime": {
     "end_time": "2024-11-14T21:53:08.227504800Z",
     "start_time": "2024-11-14T20:19:57.212525Z"
    }
   },
   "cell_type": "code",
   "source": [
    "# Load the base R(2+1)D model\n",
    "base_model_r2plus1d = load_r2plus1d_model(input_shape=input_shape, feature_dim=feature_dim, include_top=False)\n",
    "print(\"Base R(2+1)D Model Summary:\")\n",
    "base_model_r2plus1d.summary()"
   ],
   "id": "844b108d8beb0907",
   "outputs": [],
   "execution_count": 29
  },
  {
   "metadata": {},
   "cell_type": "code",
   "outputs": [],
   "execution_count": null,
   "source": [
    "# Create classification model\n",
    "def create_classification_model_r2p1d(base_model, num_classes):\n",
    "    \"\"\"Create a classification model by adding a dense layer on top of base_model.\"\"\"\n",
    "    features = base_model.output\n",
    "    outputs = layers.Dense(num_classes, activation='softmax')(features)\n",
    "    model = models.Model(inputs=base_model.input, outputs=outputs)\n",
    "    return model"
   ],
   "id": "4be13832cb46537a"
  },
  {
   "metadata": {
    "ExecuteTime": {
     "end_time": "2024-11-14T21:53:08.227504800Z",
     "start_time": "2024-11-14T20:19:58.037249Z"
    }
   },
   "cell_type": "code",
   "source": [
    "classification_model_r2p1d = create_classification_model_r2p1d(base_model_r2plus1d, num_classes)\n",
    "\n",
    "# Freeze base model layers\n",
    "for layer in classification_model_r2p1d.layers[:-1]:\n",
    "    layer.trainable = False\n",
    "\n",
    "# Compile the model\n",
    "classification_model_r2p1d.compile(\n",
    "    loss=losses.SparseCategoricalCrossentropy(),\n",
    "    optimizer=optimizers.Adam(learning_rate=learning_rate),\n",
    "    metrics=[metrics.SparseCategoricalAccuracy()]\n",
    ")"
   ],
   "id": "fc0683e381a38eda",
   "outputs": [],
   "execution_count": 30
  },
  {
   "metadata": {},
   "cell_type": "markdown",
   "source": "### Train and Evaluate on Violence Dataset",
   "id": "dc451970a2b8669f"
  },
  {
   "metadata": {
    "ExecuteTime": {
     "end_time": "2024-11-14T21:53:08.228505800Z",
     "start_time": "2024-11-14T20:19:59.293121Z"
    }
   },
   "cell_type": "code",
   "source": [
    "# Train the model on Violence dataset\n",
    "history_violence_r2p1d = classification_model_r2p1d.fit(\n",
    "    violence_train_generator,\n",
    "    validation_data=violence_val_generator,\n",
    "    epochs=num_epochs\n",
    ")"
   ],
   "id": "3cab0abd1a213d49",
   "outputs": [
    {
     "name": "stdout",
     "output_type": "stream",
     "text": [
      "Epoch 1/3\n",
      "13/13 [==============================] - 9s 578ms/step - loss: 0.7308 - sparse_categorical_accuracy: 0.5000 - val_loss: 0.6885 - val_sparse_categorical_accuracy: 0.5833\n",
      "Epoch 2/3\n",
      "13/13 [==============================] - 8s 612ms/step - loss: 0.7267 - sparse_categorical_accuracy: 0.5000 - val_loss: 0.6832 - val_sparse_categorical_accuracy: 0.5833\n",
      "Epoch 3/3\n",
      "13/13 [==============================] - 8s 590ms/step - loss: 0.7313 - sparse_categorical_accuracy: 0.4808 - val_loss: 0.6843 - val_sparse_categorical_accuracy: 0.5833\n"
     ]
    },
    {
     "data": {
      "text/plain": [
       "<keras.callbacks.History at 0x1d8f866e520>"
      ]
     },
     "execution_count": 31,
     "metadata": {},
     "output_type": "execute_result"
    }
   ],
   "execution_count": 31
  },
  {
   "metadata": {
    "ExecuteTime": {
     "end_time": "2024-11-14T21:53:08.228505800Z",
     "start_time": "2024-11-14T20:20:38.005485Z"
    }
   },
   "cell_type": "code",
   "source": [
    "# Evaluate on Violence test set\n",
    "base_r2plus1d_results_violence = classification_model_r2p1d.evaluate(violence_test_generator)\n",
    "print(f\"R(2+1)D Violence Dataset - Test Loss: {base_r2plus1d_results_violence[0]:.4f}, Test Accuracy: {base_r2plus1d_results_violence[1]:.4f}\")\n",
    "\n",
    "plot_history(history_violence_r2p1d, 'Baseline R(2+1)D on Violence Dataset')\n",
    "\n",
    "# Display confusion matrix\n",
    "display_confusion_matrix(classification_model_r2p1d, violence_test_generator, class_names, 'Baseline R(2+1)D on Violence Dataset')\n"
   ],
   "id": "8ac2c58c9da078c",
   "outputs": [
    {
     "name": "stdout",
     "output_type": "stream",
     "text": [
      "7/7 [==============================] - 4s 499ms/step - loss: 0.7409 - sparse_categorical_accuracy: 0.4643\n",
      "Violence Dataset - Test Loss: 0.7409264445304871, Test Accuracy: 0.4642857015132904\n"
     ]
    }
   ],
   "execution_count": 32
  },
  {
   "metadata": {},
   "cell_type": "markdown",
   "source": "### Train and Evaluate on TikTok Dataset",
   "id": "95335ac8206f3e38"
  },
  {
   "metadata": {
    "ExecuteTime": {
     "end_time": "2024-11-14T21:53:08.228505800Z",
     "start_time": "2024-11-14T20:20:47.440065Z"
    }
   },
   "cell_type": "code",
   "source": [
    "# Train the model on TikTok dataset\n",
    "history_tiktok_r2p1d = classification_model_r2p1d.fit(\n",
    "    tiktok_train_generator,\n",
    "    validation_data=tiktok_val_generator,\n",
    "    epochs=num_epochs\n",
    ")"
   ],
   "id": "5cb854678babee14",
   "outputs": [
    {
     "name": "stdout",
     "output_type": "stream",
     "text": [
      "Classification Model for TikTok Dataset Summary:\n",
      "Model: \"model_9\"\n",
      "__________________________________________________________________________________________________\n",
      " Layer (type)                   Output Shape         Param #     Connected to                     \n",
      "==================================================================================================\n",
      " input_4 (InputLayer)           [(None, 12, 64, 64,  0           []                               \n",
      "                                 3)]                                                              \n",
      "                                                                                                  \n",
      " conv3d_24 (Conv3D)             (None, 12, 32, 32,   9408        ['input_4[0][0]']                \n",
      "                                64)                                                               \n",
      "                                                                                                  \n",
      " batch_normalization (BatchNorm  (None, 12, 32, 32,   256        ['conv3d_24[0][0]']              \n",
      " alization)                     64)                                                               \n",
      "                                                                                                  \n",
      " re_lu (ReLU)                   (None, 12, 32, 32,   0           ['batch_normalization[0][0]']    \n",
      "                                64)                                                               \n",
      "                                                                                                  \n",
      " max_pooling3d_15 (MaxPooling3D  (None, 12, 16, 16,   0          ['re_lu[0][0]']                  \n",
      " )                              64)                                                               \n",
      "                                                                                                  \n",
      " conv3d_25 (Conv3D)             (None, 12, 16, 16,   36864       ['max_pooling3d_15[0][0]']       \n",
      "                                64)                                                               \n",
      "                                                                                                  \n",
      " batch_normalization_1 (BatchNo  (None, 12, 16, 16,   256        ['conv3d_25[0][0]']              \n",
      " rmalization)                   64)                                                               \n",
      "                                                                                                  \n",
      " re_lu_1 (ReLU)                 (None, 12, 16, 16,   0           ['batch_normalization_1[0][0]']  \n",
      "                                64)                                                               \n",
      "                                                                                                  \n",
      " conv3d_26 (Conv3D)             (None, 12, 16, 16,   12288       ['re_lu_1[0][0]']                \n",
      "                                64)                                                               \n",
      "                                                                                                  \n",
      " batch_normalization_2 (BatchNo  (None, 12, 16, 16,   256        ['conv3d_26[0][0]']              \n",
      " rmalization)                   64)                                                               \n",
      "                                                                                                  \n",
      " re_lu_2 (ReLU)                 (None, 12, 16, 16,   0           ['batch_normalization_2[0][0]']  \n",
      "                                64)                                                               \n",
      "                                                                                                  \n",
      " conv3d_27 (Conv3D)             (None, 12, 16, 16,   36864       ['re_lu_2[0][0]']                \n",
      "                                64)                                                               \n",
      "                                                                                                  \n",
      " batch_normalization_3 (BatchNo  (None, 12, 16, 16,   256        ['conv3d_27[0][0]']              \n",
      " rmalization)                   64)                                                               \n",
      "                                                                                                  \n",
      " re_lu_3 (ReLU)                 (None, 12, 16, 16,   0           ['batch_normalization_3[0][0]']  \n",
      "                                64)                                                               \n",
      "                                                                                                  \n",
      " conv3d_28 (Conv3D)             (None, 12, 16, 16,   12288       ['re_lu_3[0][0]']                \n",
      "                                64)                                                               \n",
      "                                                                                                  \n",
      " batch_normalization_4 (BatchNo  (None, 12, 16, 16,   256        ['conv3d_28[0][0]']              \n",
      " rmalization)                   64)                                                               \n",
      "                                                                                                  \n",
      " re_lu_4 (ReLU)                 (None, 12, 16, 16,   0           ['batch_normalization_4[0][0]']  \n",
      "                                64)                                                               \n",
      "                                                                                                  \n",
      " add (Add)                      (None, 12, 16, 16,   0           ['re_lu_4[0][0]',                \n",
      "                                64)                               'max_pooling3d_15[0][0]']       \n",
      "                                                                                                  \n",
      " re_lu_5 (ReLU)                 (None, 12, 16, 16,   0           ['add[0][0]']                    \n",
      "                                64)                                                               \n",
      "                                                                                                  \n",
      " conv3d_29 (Conv3D)             (None, 12, 16, 16,   36864       ['re_lu_5[0][0]']                \n",
      "                                64)                                                               \n",
      "                                                                                                  \n",
      " batch_normalization_5 (BatchNo  (None, 12, 16, 16,   256        ['conv3d_29[0][0]']              \n",
      " rmalization)                   64)                                                               \n",
      "                                                                                                  \n",
      " re_lu_6 (ReLU)                 (None, 12, 16, 16,   0           ['batch_normalization_5[0][0]']  \n",
      "                                64)                                                               \n",
      "                                                                                                  \n",
      " conv3d_30 (Conv3D)             (None, 12, 16, 16,   12288       ['re_lu_6[0][0]']                \n",
      "                                64)                                                               \n",
      "                                                                                                  \n",
      " batch_normalization_6 (BatchNo  (None, 12, 16, 16,   256        ['conv3d_30[0][0]']              \n",
      " rmalization)                   64)                                                               \n",
      "                                                                                                  \n",
      " re_lu_7 (ReLU)                 (None, 12, 16, 16,   0           ['batch_normalization_6[0][0]']  \n",
      "                                64)                                                               \n",
      "                                                                                                  \n",
      " conv3d_31 (Conv3D)             (None, 12, 16, 16,   36864       ['re_lu_7[0][0]']                \n",
      "                                64)                                                               \n",
      "                                                                                                  \n",
      " batch_normalization_7 (BatchNo  (None, 12, 16, 16,   256        ['conv3d_31[0][0]']              \n",
      " rmalization)                   64)                                                               \n",
      "                                                                                                  \n",
      " re_lu_8 (ReLU)                 (None, 12, 16, 16,   0           ['batch_normalization_7[0][0]']  \n",
      "                                64)                                                               \n",
      "                                                                                                  \n",
      " conv3d_32 (Conv3D)             (None, 12, 16, 16,   12288       ['re_lu_8[0][0]']                \n",
      "                                64)                                                               \n",
      "                                                                                                  \n",
      " batch_normalization_8 (BatchNo  (None, 12, 16, 16,   256        ['conv3d_32[0][0]']              \n",
      " rmalization)                   64)                                                               \n",
      "                                                                                                  \n",
      " re_lu_9 (ReLU)                 (None, 12, 16, 16,   0           ['batch_normalization_8[0][0]']  \n",
      "                                64)                                                               \n",
      "                                                                                                  \n",
      " add_1 (Add)                    (None, 12, 16, 16,   0           ['re_lu_9[0][0]',                \n",
      "                                64)                               're_lu_5[0][0]']                \n",
      "                                                                                                  \n",
      " re_lu_10 (ReLU)                (None, 12, 16, 16,   0           ['add_1[0][0]']                  \n",
      "                                64)                                                               \n",
      "                                                                                                  \n",
      " conv3d_33 (Conv3D)             (None, 6, 8, 8, 128  73728       ['re_lu_10[0][0]']               \n",
      "                                )                                                                 \n",
      "                                                                                                  \n",
      " batch_normalization_9 (BatchNo  (None, 6, 8, 8, 128  512        ['conv3d_33[0][0]']              \n",
      " rmalization)                   )                                                                 \n",
      "                                                                                                  \n",
      " re_lu_11 (ReLU)                (None, 6, 8, 8, 128  0           ['batch_normalization_9[0][0]']  \n",
      "                                )                                                                 \n",
      "                                                                                                  \n",
      " conv3d_34 (Conv3D)             (None, 6, 8, 8, 128  49152       ['re_lu_11[0][0]']               \n",
      "                                )                                                                 \n",
      "                                                                                                  \n",
      " batch_normalization_10 (BatchN  (None, 6, 8, 8, 128  512        ['conv3d_34[0][0]']              \n",
      " ormalization)                  )                                                                 \n",
      "                                                                                                  \n",
      " re_lu_12 (ReLU)                (None, 6, 8, 8, 128  0           ['batch_normalization_10[0][0]'] \n",
      "                                )                                                                 \n",
      "                                                                                                  \n",
      " conv3d_35 (Conv3D)             (None, 6, 8, 8, 128  147456      ['re_lu_12[0][0]']               \n",
      "                                )                                                                 \n",
      "                                                                                                  \n",
      " batch_normalization_11 (BatchN  (None, 6, 8, 8, 128  512        ['conv3d_35[0][0]']              \n",
      " ormalization)                  )                                                                 \n",
      "                                                                                                  \n",
      " re_lu_13 (ReLU)                (None, 6, 8, 8, 128  0           ['batch_normalization_11[0][0]'] \n",
      "                                )                                                                 \n",
      "                                                                                                  \n",
      " conv3d_36 (Conv3D)             (None, 6, 8, 8, 128  49152       ['re_lu_13[0][0]']               \n",
      "                                )                                                                 \n",
      "                                                                                                  \n",
      " batch_normalization_12 (BatchN  (None, 6, 8, 8, 128  512        ['conv3d_36[0][0]']              \n",
      " ormalization)                  )                                                                 \n",
      "                                                                                                  \n",
      " conv3d_37 (Conv3D)             (None, 6, 8, 8, 128  8192        ['re_lu_10[0][0]']               \n",
      "                                )                                                                 \n",
      "                                                                                                  \n",
      " re_lu_14 (ReLU)                (None, 6, 8, 8, 128  0           ['batch_normalization_12[0][0]'] \n",
      "                                )                                                                 \n",
      "                                                                                                  \n",
      " batch_normalization_13 (BatchN  (None, 6, 8, 8, 128  512        ['conv3d_37[0][0]']              \n",
      " ormalization)                  )                                                                 \n",
      "                                                                                                  \n",
      " add_2 (Add)                    (None, 6, 8, 8, 128  0           ['re_lu_14[0][0]',               \n",
      "                                )                                 'batch_normalization_13[0][0]'] \n",
      "                                                                                                  \n",
      " re_lu_15 (ReLU)                (None, 6, 8, 8, 128  0           ['add_2[0][0]']                  \n",
      "                                )                                                                 \n",
      "                                                                                                  \n",
      " conv3d_38 (Conv3D)             (None, 6, 8, 8, 128  147456      ['re_lu_15[0][0]']               \n",
      "                                )                                                                 \n",
      "                                                                                                  \n",
      " batch_normalization_14 (BatchN  (None, 6, 8, 8, 128  512        ['conv3d_38[0][0]']              \n",
      " ormalization)                  )                                                                 \n",
      "                                                                                                  \n",
      " re_lu_16 (ReLU)                (None, 6, 8, 8, 128  0           ['batch_normalization_14[0][0]'] \n",
      "                                )                                                                 \n",
      "                                                                                                  \n",
      " conv3d_39 (Conv3D)             (None, 6, 8, 8, 128  49152       ['re_lu_16[0][0]']               \n",
      "                                )                                                                 \n",
      "                                                                                                  \n",
      " batch_normalization_15 (BatchN  (None, 6, 8, 8, 128  512        ['conv3d_39[0][0]']              \n",
      " ormalization)                  )                                                                 \n",
      "                                                                                                  \n",
      " re_lu_17 (ReLU)                (None, 6, 8, 8, 128  0           ['batch_normalization_15[0][0]'] \n",
      "                                )                                                                 \n",
      "                                                                                                  \n",
      " conv3d_40 (Conv3D)             (None, 6, 8, 8, 128  147456      ['re_lu_17[0][0]']               \n",
      "                                )                                                                 \n",
      "                                                                                                  \n",
      " batch_normalization_16 (BatchN  (None, 6, 8, 8, 128  512        ['conv3d_40[0][0]']              \n",
      " ormalization)                  )                                                                 \n",
      "                                                                                                  \n",
      " re_lu_18 (ReLU)                (None, 6, 8, 8, 128  0           ['batch_normalization_16[0][0]'] \n",
      "                                )                                                                 \n",
      "                                                                                                  \n",
      " conv3d_41 (Conv3D)             (None, 6, 8, 8, 128  49152       ['re_lu_18[0][0]']               \n",
      "                                )                                                                 \n",
      "                                                                                                  \n",
      " batch_normalization_17 (BatchN  (None, 6, 8, 8, 128  512        ['conv3d_41[0][0]']              \n",
      " ormalization)                  )                                                                 \n",
      "                                                                                                  \n",
      " re_lu_19 (ReLU)                (None, 6, 8, 8, 128  0           ['batch_normalization_17[0][0]'] \n",
      "                                )                                                                 \n",
      "                                                                                                  \n",
      " add_3 (Add)                    (None, 6, 8, 8, 128  0           ['re_lu_19[0][0]',               \n",
      "                                )                                 're_lu_15[0][0]']               \n",
      "                                                                                                  \n",
      " re_lu_20 (ReLU)                (None, 6, 8, 8, 128  0           ['add_3[0][0]']                  \n",
      "                                )                                                                 \n",
      "                                                                                                  \n",
      " conv3d_42 (Conv3D)             (None, 3, 4, 4, 256  294912      ['re_lu_20[0][0]']               \n",
      "                                )                                                                 \n",
      "                                                                                                  \n",
      " batch_normalization_18 (BatchN  (None, 3, 4, 4, 256  1024       ['conv3d_42[0][0]']              \n",
      " ormalization)                  )                                                                 \n",
      "                                                                                                  \n",
      " re_lu_21 (ReLU)                (None, 3, 4, 4, 256  0           ['batch_normalization_18[0][0]'] \n",
      "                                )                                                                 \n",
      "                                                                                                  \n",
      " conv3d_43 (Conv3D)             (None, 3, 4, 4, 256  196608      ['re_lu_21[0][0]']               \n",
      "                                )                                                                 \n",
      "                                                                                                  \n",
      " batch_normalization_19 (BatchN  (None, 3, 4, 4, 256  1024       ['conv3d_43[0][0]']              \n",
      " ormalization)                  )                                                                 \n",
      "                                                                                                  \n",
      " re_lu_22 (ReLU)                (None, 3, 4, 4, 256  0           ['batch_normalization_19[0][0]'] \n",
      "                                )                                                                 \n",
      "                                                                                                  \n",
      " conv3d_44 (Conv3D)             (None, 3, 4, 4, 256  589824      ['re_lu_22[0][0]']               \n",
      "                                )                                                                 \n",
      "                                                                                                  \n",
      " batch_normalization_20 (BatchN  (None, 3, 4, 4, 256  1024       ['conv3d_44[0][0]']              \n",
      " ormalization)                  )                                                                 \n",
      "                                                                                                  \n",
      " re_lu_23 (ReLU)                (None, 3, 4, 4, 256  0           ['batch_normalization_20[0][0]'] \n",
      "                                )                                                                 \n",
      "                                                                                                  \n",
      " conv3d_45 (Conv3D)             (None, 3, 4, 4, 256  196608      ['re_lu_23[0][0]']               \n",
      "                                )                                                                 \n",
      "                                                                                                  \n",
      " batch_normalization_21 (BatchN  (None, 3, 4, 4, 256  1024       ['conv3d_45[0][0]']              \n",
      " ormalization)                  )                                                                 \n",
      "                                                                                                  \n",
      " conv3d_46 (Conv3D)             (None, 3, 4, 4, 256  32768       ['re_lu_20[0][0]']               \n",
      "                                )                                                                 \n",
      "                                                                                                  \n",
      " re_lu_24 (ReLU)                (None, 3, 4, 4, 256  0           ['batch_normalization_21[0][0]'] \n",
      "                                )                                                                 \n",
      "                                                                                                  \n",
      " batch_normalization_22 (BatchN  (None, 3, 4, 4, 256  1024       ['conv3d_46[0][0]']              \n",
      " ormalization)                  )                                                                 \n",
      "                                                                                                  \n",
      " add_4 (Add)                    (None, 3, 4, 4, 256  0           ['re_lu_24[0][0]',               \n",
      "                                )                                 'batch_normalization_22[0][0]'] \n",
      "                                                                                                  \n",
      " re_lu_25 (ReLU)                (None, 3, 4, 4, 256  0           ['add_4[0][0]']                  \n",
      "                                )                                                                 \n",
      "                                                                                                  \n",
      " conv3d_47 (Conv3D)             (None, 3, 4, 4, 256  589824      ['re_lu_25[0][0]']               \n",
      "                                )                                                                 \n",
      "                                                                                                  \n",
      " batch_normalization_23 (BatchN  (None, 3, 4, 4, 256  1024       ['conv3d_47[0][0]']              \n",
      " ormalization)                  )                                                                 \n",
      "                                                                                                  \n",
      " re_lu_26 (ReLU)                (None, 3, 4, 4, 256  0           ['batch_normalization_23[0][0]'] \n",
      "                                )                                                                 \n",
      "                                                                                                  \n",
      " conv3d_48 (Conv3D)             (None, 3, 4, 4, 256  196608      ['re_lu_26[0][0]']               \n",
      "                                )                                                                 \n",
      "                                                                                                  \n",
      " batch_normalization_24 (BatchN  (None, 3, 4, 4, 256  1024       ['conv3d_48[0][0]']              \n",
      " ormalization)                  )                                                                 \n",
      "                                                                                                  \n",
      " re_lu_27 (ReLU)                (None, 3, 4, 4, 256  0           ['batch_normalization_24[0][0]'] \n",
      "                                )                                                                 \n",
      "                                                                                                  \n",
      " conv3d_49 (Conv3D)             (None, 3, 4, 4, 256  589824      ['re_lu_27[0][0]']               \n",
      "                                )                                                                 \n",
      "                                                                                                  \n",
      " batch_normalization_25 (BatchN  (None, 3, 4, 4, 256  1024       ['conv3d_49[0][0]']              \n",
      " ormalization)                  )                                                                 \n",
      "                                                                                                  \n",
      " re_lu_28 (ReLU)                (None, 3, 4, 4, 256  0           ['batch_normalization_25[0][0]'] \n",
      "                                )                                                                 \n",
      "                                                                                                  \n",
      " conv3d_50 (Conv3D)             (None, 3, 4, 4, 256  196608      ['re_lu_28[0][0]']               \n",
      "                                )                                                                 \n",
      "                                                                                                  \n",
      " batch_normalization_26 (BatchN  (None, 3, 4, 4, 256  1024       ['conv3d_50[0][0]']              \n",
      " ormalization)                  )                                                                 \n",
      "                                                                                                  \n",
      " re_lu_29 (ReLU)                (None, 3, 4, 4, 256  0           ['batch_normalization_26[0][0]'] \n",
      "                                )                                                                 \n",
      "                                                                                                  \n",
      " add_5 (Add)                    (None, 3, 4, 4, 256  0           ['re_lu_29[0][0]',               \n",
      "                                )                                 're_lu_25[0][0]']               \n",
      "                                                                                                  \n",
      " re_lu_30 (ReLU)                (None, 3, 4, 4, 256  0           ['add_5[0][0]']                  \n",
      "                                )                                                                 \n",
      "                                                                                                  \n",
      " conv3d_51 (Conv3D)             (None, 2, 2, 2, 512  1179648     ['re_lu_30[0][0]']               \n",
      "                                )                                                                 \n",
      "                                                                                                  \n",
      " batch_normalization_27 (BatchN  (None, 2, 2, 2, 512  2048       ['conv3d_51[0][0]']              \n",
      " ormalization)                  )                                                                 \n",
      "                                                                                                  \n",
      " re_lu_31 (ReLU)                (None, 2, 2, 2, 512  0           ['batch_normalization_27[0][0]'] \n",
      "                                )                                                                 \n",
      "                                                                                                  \n",
      " conv3d_52 (Conv3D)             (None, 2, 2, 2, 512  786432      ['re_lu_31[0][0]']               \n",
      "                                )                                                                 \n",
      "                                                                                                  \n",
      " batch_normalization_28 (BatchN  (None, 2, 2, 2, 512  2048       ['conv3d_52[0][0]']              \n",
      " ormalization)                  )                                                                 \n",
      "                                                                                                  \n",
      " re_lu_32 (ReLU)                (None, 2, 2, 2, 512  0           ['batch_normalization_28[0][0]'] \n",
      "                                )                                                                 \n",
      "                                                                                                  \n",
      " conv3d_53 (Conv3D)             (None, 2, 2, 2, 512  2359296     ['re_lu_32[0][0]']               \n",
      "                                )                                                                 \n",
      "                                                                                                  \n",
      " batch_normalization_29 (BatchN  (None, 2, 2, 2, 512  2048       ['conv3d_53[0][0]']              \n",
      " ormalization)                  )                                                                 \n",
      "                                                                                                  \n",
      " re_lu_33 (ReLU)                (None, 2, 2, 2, 512  0           ['batch_normalization_29[0][0]'] \n",
      "                                )                                                                 \n",
      "                                                                                                  \n",
      " conv3d_54 (Conv3D)             (None, 2, 2, 2, 512  786432      ['re_lu_33[0][0]']               \n",
      "                                )                                                                 \n",
      "                                                                                                  \n",
      " batch_normalization_30 (BatchN  (None, 2, 2, 2, 512  2048       ['conv3d_54[0][0]']              \n",
      " ormalization)                  )                                                                 \n",
      "                                                                                                  \n",
      " conv3d_55 (Conv3D)             (None, 2, 2, 2, 512  131072      ['re_lu_30[0][0]']               \n",
      "                                )                                                                 \n",
      "                                                                                                  \n",
      " re_lu_34 (ReLU)                (None, 2, 2, 2, 512  0           ['batch_normalization_30[0][0]'] \n",
      "                                )                                                                 \n",
      "                                                                                                  \n",
      " batch_normalization_31 (BatchN  (None, 2, 2, 2, 512  2048       ['conv3d_55[0][0]']              \n",
      " ormalization)                  )                                                                 \n",
      "                                                                                                  \n",
      " add_6 (Add)                    (None, 2, 2, 2, 512  0           ['re_lu_34[0][0]',               \n",
      "                                )                                 'batch_normalization_31[0][0]'] \n",
      "                                                                                                  \n",
      " re_lu_35 (ReLU)                (None, 2, 2, 2, 512  0           ['add_6[0][0]']                  \n",
      "                                )                                                                 \n",
      "                                                                                                  \n",
      " conv3d_56 (Conv3D)             (None, 2, 2, 2, 512  2359296     ['re_lu_35[0][0]']               \n",
      "                                )                                                                 \n",
      "                                                                                                  \n",
      " batch_normalization_32 (BatchN  (None, 2, 2, 2, 512  2048       ['conv3d_56[0][0]']              \n",
      " ormalization)                  )                                                                 \n",
      "                                                                                                  \n",
      " re_lu_36 (ReLU)                (None, 2, 2, 2, 512  0           ['batch_normalization_32[0][0]'] \n",
      "                                )                                                                 \n",
      "                                                                                                  \n",
      " conv3d_57 (Conv3D)             (None, 2, 2, 2, 512  786432      ['re_lu_36[0][0]']               \n",
      "                                )                                                                 \n",
      "                                                                                                  \n",
      " batch_normalization_33 (BatchN  (None, 2, 2, 2, 512  2048       ['conv3d_57[0][0]']              \n",
      " ormalization)                  )                                                                 \n",
      "                                                                                                  \n",
      " re_lu_37 (ReLU)                (None, 2, 2, 2, 512  0           ['batch_normalization_33[0][0]'] \n",
      "                                )                                                                 \n",
      "                                                                                                  \n",
      " conv3d_58 (Conv3D)             (None, 2, 2, 2, 512  2359296     ['re_lu_37[0][0]']               \n",
      "                                )                                                                 \n",
      "                                                                                                  \n",
      " batch_normalization_34 (BatchN  (None, 2, 2, 2, 512  2048       ['conv3d_58[0][0]']              \n",
      " ormalization)                  )                                                                 \n",
      "                                                                                                  \n",
      " re_lu_38 (ReLU)                (None, 2, 2, 2, 512  0           ['batch_normalization_34[0][0]'] \n",
      "                                )                                                                 \n",
      "                                                                                                  \n",
      " conv3d_59 (Conv3D)             (None, 2, 2, 2, 512  786432      ['re_lu_38[0][0]']               \n",
      "                                )                                                                 \n",
      "                                                                                                  \n",
      " batch_normalization_35 (BatchN  (None, 2, 2, 2, 512  2048       ['conv3d_59[0][0]']              \n",
      " ormalization)                  )                                                                 \n",
      "                                                                                                  \n",
      " re_lu_39 (ReLU)                (None, 2, 2, 2, 512  0           ['batch_normalization_35[0][0]'] \n",
      "                                )                                                                 \n",
      "                                                                                                  \n",
      " add_7 (Add)                    (None, 2, 2, 2, 512  0           ['re_lu_39[0][0]',               \n",
      "                                )                                 're_lu_35[0][0]']               \n",
      "                                                                                                  \n",
      " re_lu_40 (ReLU)                (None, 2, 2, 2, 512  0           ['add_7[0][0]']                  \n",
      "                                )                                                                 \n",
      "                                                                                                  \n",
      " global_average_pooling3d (Glob  (None, 512)         0           ['re_lu_40[0][0]']               \n",
      " alAveragePooling3D)                                                                              \n",
      "                                                                                                  \n",
      " dense_12 (Dense)               (None, 512)          262656      ['global_average_pooling3d[0][0]'\n",
      "                                                                 ]                                \n",
      "                                                                                                  \n",
      " dense_13 (Dense)               (None, 2)            1026        ['dense_12[0][0]']               \n",
      "                                                                                                  \n",
      " dense_15 (Dense)               (None, 2)            6           ['dense_13[0][0]']               \n",
      "                                                                                                  \n",
      "==================================================================================================\n",
      "Total params: 15,643,080\n",
      "Trainable params: 6\n",
      "Non-trainable params: 15,643,074\n",
      "__________________________________________________________________________________________________\n"
     ]
    }
   ],
   "execution_count": 33
  },
  {
   "metadata": {},
   "cell_type": "code",
   "outputs": [],
   "execution_count": null,
   "source": [
    "# Evaluate on TikTok test set\n",
    "base_r2plus1d_results_tiktok = classification_model_r2p1d.evaluate(tiktok_test_generator)\n",
    "print(f\"R(2+1)D TikTok Dataset - Test Loss: {base_r2plus1d_results_tiktok[0]:.4f}, Test Accuracy: {base_r2plus1d_results_tiktok[1]:.4f}\")\n",
    "\n",
    "plot_history(history_tiktok_r2p1d, 'Baseline R(2+1)D on TikTok Dataset')\n",
    "\n",
    "# Display confusion matrix\n",
    "display_confusion_matrix(classification_model_r2p1d, tiktok_test_generator, class_names, 'Baseline R(2+1)D on TikTok Dataset')\n"
   ],
   "id": "52d9fefc82b953a"
  },
  {
   "metadata": {},
   "cell_type": "markdown",
   "source": "### MSupCL with R(2+1)D-18 Model",
   "id": "abf1646e53b4cf0a"
  },
  {
   "metadata": {
    "ExecuteTime": {
     "end_time": "2024-11-14T21:53:08.229506700Z",
     "start_time": "2024-11-14T20:20:54.358600Z"
    }
   },
   "cell_type": "code",
   "source": [
    "# Load the MSupCL model with R(2+1)D backbone\n",
    "msupcl_model_r2p1d = load_r2plus1d_model(input_shape=input_shape, feature_dim=feature_dim, include_top=False)\n",
    "print(\"MSupCL Model with R(2+1)D Backbone Summary:\")\n",
    "msupcl_model_r2p1d.summary()\n"
   ],
   "id": "3f84132d8ec1847b",
   "outputs": [
    {
     "name": "stdout",
     "output_type": "stream",
     "text": [
      "MSupCL Model Summary:\n",
      "Model: \"model_10\"\n",
      "__________________________________________________________________________________________________\n",
      " Layer (type)                   Output Shape         Param #     Connected to                     \n",
      "==================================================================================================\n",
      " input_5 (InputLayer)           [(None, 12, 64, 64,  0           []                               \n",
      "                                 3)]                                                              \n",
      "                                                                                                  \n",
      " conv3d_60 (Conv3D)             (None, 12, 32, 32,   9408        ['input_5[0][0]']                \n",
      "                                64)                                                               \n",
      "                                                                                                  \n",
      " batch_normalization_36 (BatchN  (None, 12, 32, 32,   256        ['conv3d_60[0][0]']              \n",
      " ormalization)                  64)                                                               \n",
      "                                                                                                  \n",
      " re_lu_41 (ReLU)                (None, 12, 32, 32,   0           ['batch_normalization_36[0][0]'] \n",
      "                                64)                                                               \n",
      "                                                                                                  \n",
      " max_pooling3d_16 (MaxPooling3D  (None, 12, 16, 16,   0          ['re_lu_41[0][0]']               \n",
      " )                              64)                                                               \n",
      "                                                                                                  \n",
      " conv3d_61 (Conv3D)             (None, 12, 16, 16,   36864       ['max_pooling3d_16[0][0]']       \n",
      "                                64)                                                               \n",
      "                                                                                                  \n",
      " batch_normalization_37 (BatchN  (None, 12, 16, 16,   256        ['conv3d_61[0][0]']              \n",
      " ormalization)                  64)                                                               \n",
      "                                                                                                  \n",
      " re_lu_42 (ReLU)                (None, 12, 16, 16,   0           ['batch_normalization_37[0][0]'] \n",
      "                                64)                                                               \n",
      "                                                                                                  \n",
      " conv3d_62 (Conv3D)             (None, 12, 16, 16,   12288       ['re_lu_42[0][0]']               \n",
      "                                64)                                                               \n",
      "                                                                                                  \n",
      " batch_normalization_38 (BatchN  (None, 12, 16, 16,   256        ['conv3d_62[0][0]']              \n",
      " ormalization)                  64)                                                               \n",
      "                                                                                                  \n",
      " re_lu_43 (ReLU)                (None, 12, 16, 16,   0           ['batch_normalization_38[0][0]'] \n",
      "                                64)                                                               \n",
      "                                                                                                  \n",
      " conv3d_63 (Conv3D)             (None, 12, 16, 16,   36864       ['re_lu_43[0][0]']               \n",
      "                                64)                                                               \n",
      "                                                                                                  \n",
      " batch_normalization_39 (BatchN  (None, 12, 16, 16,   256        ['conv3d_63[0][0]']              \n",
      " ormalization)                  64)                                                               \n",
      "                                                                                                  \n",
      " re_lu_44 (ReLU)                (None, 12, 16, 16,   0           ['batch_normalization_39[0][0]'] \n",
      "                                64)                                                               \n",
      "                                                                                                  \n",
      " conv3d_64 (Conv3D)             (None, 12, 16, 16,   12288       ['re_lu_44[0][0]']               \n",
      "                                64)                                                               \n",
      "                                                                                                  \n",
      " batch_normalization_40 (BatchN  (None, 12, 16, 16,   256        ['conv3d_64[0][0]']              \n",
      " ormalization)                  64)                                                               \n",
      "                                                                                                  \n",
      " re_lu_45 (ReLU)                (None, 12, 16, 16,   0           ['batch_normalization_40[0][0]'] \n",
      "                                64)                                                               \n",
      "                                                                                                  \n",
      " add_8 (Add)                    (None, 12, 16, 16,   0           ['re_lu_45[0][0]',               \n",
      "                                64)                               'max_pooling3d_16[0][0]']       \n",
      "                                                                                                  \n",
      " re_lu_46 (ReLU)                (None, 12, 16, 16,   0           ['add_8[0][0]']                  \n",
      "                                64)                                                               \n",
      "                                                                                                  \n",
      " conv3d_65 (Conv3D)             (None, 12, 16, 16,   36864       ['re_lu_46[0][0]']               \n",
      "                                64)                                                               \n",
      "                                                                                                  \n",
      " batch_normalization_41 (BatchN  (None, 12, 16, 16,   256        ['conv3d_65[0][0]']              \n",
      " ormalization)                  64)                                                               \n",
      "                                                                                                  \n",
      " re_lu_47 (ReLU)                (None, 12, 16, 16,   0           ['batch_normalization_41[0][0]'] \n",
      "                                64)                                                               \n",
      "                                                                                                  \n",
      " conv3d_66 (Conv3D)             (None, 12, 16, 16,   12288       ['re_lu_47[0][0]']               \n",
      "                                64)                                                               \n",
      "                                                                                                  \n",
      " batch_normalization_42 (BatchN  (None, 12, 16, 16,   256        ['conv3d_66[0][0]']              \n",
      " ormalization)                  64)                                                               \n",
      "                                                                                                  \n",
      " re_lu_48 (ReLU)                (None, 12, 16, 16,   0           ['batch_normalization_42[0][0]'] \n",
      "                                64)                                                               \n",
      "                                                                                                  \n",
      " conv3d_67 (Conv3D)             (None, 12, 16, 16,   36864       ['re_lu_48[0][0]']               \n",
      "                                64)                                                               \n",
      "                                                                                                  \n",
      " batch_normalization_43 (BatchN  (None, 12, 16, 16,   256        ['conv3d_67[0][0]']              \n",
      " ormalization)                  64)                                                               \n",
      "                                                                                                  \n",
      " re_lu_49 (ReLU)                (None, 12, 16, 16,   0           ['batch_normalization_43[0][0]'] \n",
      "                                64)                                                               \n",
      "                                                                                                  \n",
      " conv3d_68 (Conv3D)             (None, 12, 16, 16,   12288       ['re_lu_49[0][0]']               \n",
      "                                64)                                                               \n",
      "                                                                                                  \n",
      " batch_normalization_44 (BatchN  (None, 12, 16, 16,   256        ['conv3d_68[0][0]']              \n",
      " ormalization)                  64)                                                               \n",
      "                                                                                                  \n",
      " re_lu_50 (ReLU)                (None, 12, 16, 16,   0           ['batch_normalization_44[0][0]'] \n",
      "                                64)                                                               \n",
      "                                                                                                  \n",
      " add_9 (Add)                    (None, 12, 16, 16,   0           ['re_lu_50[0][0]',               \n",
      "                                64)                               're_lu_46[0][0]']               \n",
      "                                                                                                  \n",
      " re_lu_51 (ReLU)                (None, 12, 16, 16,   0           ['add_9[0][0]']                  \n",
      "                                64)                                                               \n",
      "                                                                                                  \n",
      " conv3d_69 (Conv3D)             (None, 6, 8, 8, 128  73728       ['re_lu_51[0][0]']               \n",
      "                                )                                                                 \n",
      "                                                                                                  \n",
      " batch_normalization_45 (BatchN  (None, 6, 8, 8, 128  512        ['conv3d_69[0][0]']              \n",
      " ormalization)                  )                                                                 \n",
      "                                                                                                  \n",
      " re_lu_52 (ReLU)                (None, 6, 8, 8, 128  0           ['batch_normalization_45[0][0]'] \n",
      "                                )                                                                 \n",
      "                                                                                                  \n",
      " conv3d_70 (Conv3D)             (None, 6, 8, 8, 128  49152       ['re_lu_52[0][0]']               \n",
      "                                )                                                                 \n",
      "                                                                                                  \n",
      " batch_normalization_46 (BatchN  (None, 6, 8, 8, 128  512        ['conv3d_70[0][0]']              \n",
      " ormalization)                  )                                                                 \n",
      "                                                                                                  \n",
      " re_lu_53 (ReLU)                (None, 6, 8, 8, 128  0           ['batch_normalization_46[0][0]'] \n",
      "                                )                                                                 \n",
      "                                                                                                  \n",
      " conv3d_71 (Conv3D)             (None, 6, 8, 8, 128  147456      ['re_lu_53[0][0]']               \n",
      "                                )                                                                 \n",
      "                                                                                                  \n",
      " batch_normalization_47 (BatchN  (None, 6, 8, 8, 128  512        ['conv3d_71[0][0]']              \n",
      " ormalization)                  )                                                                 \n",
      "                                                                                                  \n",
      " re_lu_54 (ReLU)                (None, 6, 8, 8, 128  0           ['batch_normalization_47[0][0]'] \n",
      "                                )                                                                 \n",
      "                                                                                                  \n",
      " conv3d_72 (Conv3D)             (None, 6, 8, 8, 128  49152       ['re_lu_54[0][0]']               \n",
      "                                )                                                                 \n",
      "                                                                                                  \n",
      " batch_normalization_48 (BatchN  (None, 6, 8, 8, 128  512        ['conv3d_72[0][0]']              \n",
      " ormalization)                  )                                                                 \n",
      "                                                                                                  \n",
      " conv3d_73 (Conv3D)             (None, 6, 8, 8, 128  8192        ['re_lu_51[0][0]']               \n",
      "                                )                                                                 \n",
      "                                                                                                  \n",
      " re_lu_55 (ReLU)                (None, 6, 8, 8, 128  0           ['batch_normalization_48[0][0]'] \n",
      "                                )                                                                 \n",
      "                                                                                                  \n",
      " batch_normalization_49 (BatchN  (None, 6, 8, 8, 128  512        ['conv3d_73[0][0]']              \n",
      " ormalization)                  )                                                                 \n",
      "                                                                                                  \n",
      " add_10 (Add)                   (None, 6, 8, 8, 128  0           ['re_lu_55[0][0]',               \n",
      "                                )                                 'batch_normalization_49[0][0]'] \n",
      "                                                                                                  \n",
      " re_lu_56 (ReLU)                (None, 6, 8, 8, 128  0           ['add_10[0][0]']                 \n",
      "                                )                                                                 \n",
      "                                                                                                  \n",
      " conv3d_74 (Conv3D)             (None, 6, 8, 8, 128  147456      ['re_lu_56[0][0]']               \n",
      "                                )                                                                 \n",
      "                                                                                                  \n",
      " batch_normalization_50 (BatchN  (None, 6, 8, 8, 128  512        ['conv3d_74[0][0]']              \n",
      " ormalization)                  )                                                                 \n",
      "                                                                                                  \n",
      " re_lu_57 (ReLU)                (None, 6, 8, 8, 128  0           ['batch_normalization_50[0][0]'] \n",
      "                                )                                                                 \n",
      "                                                                                                  \n",
      " conv3d_75 (Conv3D)             (None, 6, 8, 8, 128  49152       ['re_lu_57[0][0]']               \n",
      "                                )                                                                 \n",
      "                                                                                                  \n",
      " batch_normalization_51 (BatchN  (None, 6, 8, 8, 128  512        ['conv3d_75[0][0]']              \n",
      " ormalization)                  )                                                                 \n",
      "                                                                                                  \n",
      " re_lu_58 (ReLU)                (None, 6, 8, 8, 128  0           ['batch_normalization_51[0][0]'] \n",
      "                                )                                                                 \n",
      "                                                                                                  \n",
      " conv3d_76 (Conv3D)             (None, 6, 8, 8, 128  147456      ['re_lu_58[0][0]']               \n",
      "                                )                                                                 \n",
      "                                                                                                  \n",
      " batch_normalization_52 (BatchN  (None, 6, 8, 8, 128  512        ['conv3d_76[0][0]']              \n",
      " ormalization)                  )                                                                 \n",
      "                                                                                                  \n",
      " re_lu_59 (ReLU)                (None, 6, 8, 8, 128  0           ['batch_normalization_52[0][0]'] \n",
      "                                )                                                                 \n",
      "                                                                                                  \n",
      " conv3d_77 (Conv3D)             (None, 6, 8, 8, 128  49152       ['re_lu_59[0][0]']               \n",
      "                                )                                                                 \n",
      "                                                                                                  \n",
      " batch_normalization_53 (BatchN  (None, 6, 8, 8, 128  512        ['conv3d_77[0][0]']              \n",
      " ormalization)                  )                                                                 \n",
      "                                                                                                  \n",
      " re_lu_60 (ReLU)                (None, 6, 8, 8, 128  0           ['batch_normalization_53[0][0]'] \n",
      "                                )                                                                 \n",
      "                                                                                                  \n",
      " add_11 (Add)                   (None, 6, 8, 8, 128  0           ['re_lu_60[0][0]',               \n",
      "                                )                                 're_lu_56[0][0]']               \n",
      "                                                                                                  \n",
      " re_lu_61 (ReLU)                (None, 6, 8, 8, 128  0           ['add_11[0][0]']                 \n",
      "                                )                                                                 \n",
      "                                                                                                  \n",
      " conv3d_78 (Conv3D)             (None, 3, 4, 4, 256  294912      ['re_lu_61[0][0]']               \n",
      "                                )                                                                 \n",
      "                                                                                                  \n",
      " batch_normalization_54 (BatchN  (None, 3, 4, 4, 256  1024       ['conv3d_78[0][0]']              \n",
      " ormalization)                  )                                                                 \n",
      "                                                                                                  \n",
      " re_lu_62 (ReLU)                (None, 3, 4, 4, 256  0           ['batch_normalization_54[0][0]'] \n",
      "                                )                                                                 \n",
      "                                                                                                  \n",
      " conv3d_79 (Conv3D)             (None, 3, 4, 4, 256  196608      ['re_lu_62[0][0]']               \n",
      "                                )                                                                 \n",
      "                                                                                                  \n",
      " batch_normalization_55 (BatchN  (None, 3, 4, 4, 256  1024       ['conv3d_79[0][0]']              \n",
      " ormalization)                  )                                                                 \n",
      "                                                                                                  \n",
      " re_lu_63 (ReLU)                (None, 3, 4, 4, 256  0           ['batch_normalization_55[0][0]'] \n",
      "                                )                                                                 \n",
      "                                                                                                  \n",
      " conv3d_80 (Conv3D)             (None, 3, 4, 4, 256  589824      ['re_lu_63[0][0]']               \n",
      "                                )                                                                 \n",
      "                                                                                                  \n",
      " batch_normalization_56 (BatchN  (None, 3, 4, 4, 256  1024       ['conv3d_80[0][0]']              \n",
      " ormalization)                  )                                                                 \n",
      "                                                                                                  \n",
      " re_lu_64 (ReLU)                (None, 3, 4, 4, 256  0           ['batch_normalization_56[0][0]'] \n",
      "                                )                                                                 \n",
      "                                                                                                  \n",
      " conv3d_81 (Conv3D)             (None, 3, 4, 4, 256  196608      ['re_lu_64[0][0]']               \n",
      "                                )                                                                 \n",
      "                                                                                                  \n",
      " batch_normalization_57 (BatchN  (None, 3, 4, 4, 256  1024       ['conv3d_81[0][0]']              \n",
      " ormalization)                  )                                                                 \n",
      "                                                                                                  \n",
      " conv3d_82 (Conv3D)             (None, 3, 4, 4, 256  32768       ['re_lu_61[0][0]']               \n",
      "                                )                                                                 \n",
      "                                                                                                  \n",
      " re_lu_65 (ReLU)                (None, 3, 4, 4, 256  0           ['batch_normalization_57[0][0]'] \n",
      "                                )                                                                 \n",
      "                                                                                                  \n",
      " batch_normalization_58 (BatchN  (None, 3, 4, 4, 256  1024       ['conv3d_82[0][0]']              \n",
      " ormalization)                  )                                                                 \n",
      "                                                                                                  \n",
      " add_12 (Add)                   (None, 3, 4, 4, 256  0           ['re_lu_65[0][0]',               \n",
      "                                )                                 'batch_normalization_58[0][0]'] \n",
      "                                                                                                  \n",
      " re_lu_66 (ReLU)                (None, 3, 4, 4, 256  0           ['add_12[0][0]']                 \n",
      "                                )                                                                 \n",
      "                                                                                                  \n",
      " conv3d_83 (Conv3D)             (None, 3, 4, 4, 256  589824      ['re_lu_66[0][0]']               \n",
      "                                )                                                                 \n",
      "                                                                                                  \n",
      " batch_normalization_59 (BatchN  (None, 3, 4, 4, 256  1024       ['conv3d_83[0][0]']              \n",
      " ormalization)                  )                                                                 \n",
      "                                                                                                  \n",
      " re_lu_67 (ReLU)                (None, 3, 4, 4, 256  0           ['batch_normalization_59[0][0]'] \n",
      "                                )                                                                 \n",
      "                                                                                                  \n",
      " conv3d_84 (Conv3D)             (None, 3, 4, 4, 256  196608      ['re_lu_67[0][0]']               \n",
      "                                )                                                                 \n",
      "                                                                                                  \n",
      " batch_normalization_60 (BatchN  (None, 3, 4, 4, 256  1024       ['conv3d_84[0][0]']              \n",
      " ormalization)                  )                                                                 \n",
      "                                                                                                  \n",
      " re_lu_68 (ReLU)                (None, 3, 4, 4, 256  0           ['batch_normalization_60[0][0]'] \n",
      "                                )                                                                 \n",
      "                                                                                                  \n",
      " conv3d_85 (Conv3D)             (None, 3, 4, 4, 256  589824      ['re_lu_68[0][0]']               \n",
      "                                )                                                                 \n",
      "                                                                                                  \n",
      " batch_normalization_61 (BatchN  (None, 3, 4, 4, 256  1024       ['conv3d_85[0][0]']              \n",
      " ormalization)                  )                                                                 \n",
      "                                                                                                  \n",
      " re_lu_69 (ReLU)                (None, 3, 4, 4, 256  0           ['batch_normalization_61[0][0]'] \n",
      "                                )                                                                 \n",
      "                                                                                                  \n",
      " conv3d_86 (Conv3D)             (None, 3, 4, 4, 256  196608      ['re_lu_69[0][0]']               \n",
      "                                )                                                                 \n",
      "                                                                                                  \n",
      " batch_normalization_62 (BatchN  (None, 3, 4, 4, 256  1024       ['conv3d_86[0][0]']              \n",
      " ormalization)                  )                                                                 \n",
      "                                                                                                  \n",
      " re_lu_70 (ReLU)                (None, 3, 4, 4, 256  0           ['batch_normalization_62[0][0]'] \n",
      "                                )                                                                 \n",
      "                                                                                                  \n",
      " add_13 (Add)                   (None, 3, 4, 4, 256  0           ['re_lu_70[0][0]',               \n",
      "                                )                                 're_lu_66[0][0]']               \n",
      "                                                                                                  \n",
      " re_lu_71 (ReLU)                (None, 3, 4, 4, 256  0           ['add_13[0][0]']                 \n",
      "                                )                                                                 \n",
      "                                                                                                  \n",
      " conv3d_87 (Conv3D)             (None, 2, 2, 2, 512  1179648     ['re_lu_71[0][0]']               \n",
      "                                )                                                                 \n",
      "                                                                                                  \n",
      " batch_normalization_63 (BatchN  (None, 2, 2, 2, 512  2048       ['conv3d_87[0][0]']              \n",
      " ormalization)                  )                                                                 \n",
      "                                                                                                  \n",
      " re_lu_72 (ReLU)                (None, 2, 2, 2, 512  0           ['batch_normalization_63[0][0]'] \n",
      "                                )                                                                 \n",
      "                                                                                                  \n",
      " conv3d_88 (Conv3D)             (None, 2, 2, 2, 512  786432      ['re_lu_72[0][0]']               \n",
      "                                )                                                                 \n",
      "                                                                                                  \n",
      " batch_normalization_64 (BatchN  (None, 2, 2, 2, 512  2048       ['conv3d_88[0][0]']              \n",
      " ormalization)                  )                                                                 \n",
      "                                                                                                  \n",
      " re_lu_73 (ReLU)                (None, 2, 2, 2, 512  0           ['batch_normalization_64[0][0]'] \n",
      "                                )                                                                 \n",
      "                                                                                                  \n",
      " conv3d_89 (Conv3D)             (None, 2, 2, 2, 512  2359296     ['re_lu_73[0][0]']               \n",
      "                                )                                                                 \n",
      "                                                                                                  \n",
      " batch_normalization_65 (BatchN  (None, 2, 2, 2, 512  2048       ['conv3d_89[0][0]']              \n",
      " ormalization)                  )                                                                 \n",
      "                                                                                                  \n",
      " re_lu_74 (ReLU)                (None, 2, 2, 2, 512  0           ['batch_normalization_65[0][0]'] \n",
      "                                )                                                                 \n",
      "                                                                                                  \n",
      " conv3d_90 (Conv3D)             (None, 2, 2, 2, 512  786432      ['re_lu_74[0][0]']               \n",
      "                                )                                                                 \n",
      "                                                                                                  \n",
      " batch_normalization_66 (BatchN  (None, 2, 2, 2, 512  2048       ['conv3d_90[0][0]']              \n",
      " ormalization)                  )                                                                 \n",
      "                                                                                                  \n",
      " conv3d_91 (Conv3D)             (None, 2, 2, 2, 512  131072      ['re_lu_71[0][0]']               \n",
      "                                )                                                                 \n",
      "                                                                                                  \n",
      " re_lu_75 (ReLU)                (None, 2, 2, 2, 512  0           ['batch_normalization_66[0][0]'] \n",
      "                                )                                                                 \n",
      "                                                                                                  \n",
      " batch_normalization_67 (BatchN  (None, 2, 2, 2, 512  2048       ['conv3d_91[0][0]']              \n",
      " ormalization)                  )                                                                 \n",
      "                                                                                                  \n",
      " add_14 (Add)                   (None, 2, 2, 2, 512  0           ['re_lu_75[0][0]',               \n",
      "                                )                                 'batch_normalization_67[0][0]'] \n",
      "                                                                                                  \n",
      " re_lu_76 (ReLU)                (None, 2, 2, 2, 512  0           ['add_14[0][0]']                 \n",
      "                                )                                                                 \n",
      "                                                                                                  \n",
      " conv3d_92 (Conv3D)             (None, 2, 2, 2, 512  2359296     ['re_lu_76[0][0]']               \n",
      "                                )                                                                 \n",
      "                                                                                                  \n",
      " batch_normalization_68 (BatchN  (None, 2, 2, 2, 512  2048       ['conv3d_92[0][0]']              \n",
      " ormalization)                  )                                                                 \n",
      "                                                                                                  \n",
      " re_lu_77 (ReLU)                (None, 2, 2, 2, 512  0           ['batch_normalization_68[0][0]'] \n",
      "                                )                                                                 \n",
      "                                                                                                  \n",
      " conv3d_93 (Conv3D)             (None, 2, 2, 2, 512  786432      ['re_lu_77[0][0]']               \n",
      "                                )                                                                 \n",
      "                                                                                                  \n",
      " batch_normalization_69 (BatchN  (None, 2, 2, 2, 512  2048       ['conv3d_93[0][0]']              \n",
      " ormalization)                  )                                                                 \n",
      "                                                                                                  \n",
      " re_lu_78 (ReLU)                (None, 2, 2, 2, 512  0           ['batch_normalization_69[0][0]'] \n",
      "                                )                                                                 \n",
      "                                                                                                  \n",
      " conv3d_94 (Conv3D)             (None, 2, 2, 2, 512  2359296     ['re_lu_78[0][0]']               \n",
      "                                )                                                                 \n",
      "                                                                                                  \n",
      " batch_normalization_70 (BatchN  (None, 2, 2, 2, 512  2048       ['conv3d_94[0][0]']              \n",
      " ormalization)                  )                                                                 \n",
      "                                                                                                  \n",
      " re_lu_79 (ReLU)                (None, 2, 2, 2, 512  0           ['batch_normalization_70[0][0]'] \n",
      "                                )                                                                 \n",
      "                                                                                                  \n",
      " conv3d_95 (Conv3D)             (None, 2, 2, 2, 512  786432      ['re_lu_79[0][0]']               \n",
      "                                )                                                                 \n",
      "                                                                                                  \n",
      " batch_normalization_71 (BatchN  (None, 2, 2, 2, 512  2048       ['conv3d_95[0][0]']              \n",
      " ormalization)                  )                                                                 \n",
      "                                                                                                  \n",
      " re_lu_80 (ReLU)                (None, 2, 2, 2, 512  0           ['batch_normalization_71[0][0]'] \n",
      "                                )                                                                 \n",
      "                                                                                                  \n",
      " add_15 (Add)                   (None, 2, 2, 2, 512  0           ['re_lu_80[0][0]',               \n",
      "                                )                                 're_lu_76[0][0]']               \n",
      "                                                                                                  \n",
      " re_lu_81 (ReLU)                (None, 2, 2, 2, 512  0           ['add_15[0][0]']                 \n",
      "                                )                                                                 \n",
      "                                                                                                  \n",
      " global_average_pooling3d_1 (Gl  (None, 512)         0           ['re_lu_81[0][0]']               \n",
      " obalAveragePooling3D)                                                                            \n",
      "                                                                                                  \n",
      " dense_16 (Dense)               (None, 512)          262656      ['global_average_pooling3d_1[0][0\n",
      "                                                                 ]']                              \n",
      "                                                                                                  \n",
      "==================================================================================================\n",
      "Total params: 15,642,048\n",
      "Trainable params: 15,624,768\n",
      "Non-trainable params: 17,280\n",
      "__________________________________________________________________________________________________\n"
     ]
    }
   ],
   "execution_count": 34
  },
  {
   "metadata": {
    "ExecuteTime": {
     "end_time": "2024-11-14T21:53:08.229506700Z",
     "start_time": "2024-11-14T20:21:20.552847Z"
    }
   },
   "cell_type": "code",
   "source": [
    "# Train MSupCL model\n",
    "train_msupcl_model(msupcl_model_r2p1d, paired_train_generator, epochs=num_epochs, temperature=temperature)\n"
   ],
   "id": "74c2c5087d89f933",
   "outputs": [
    {
     "name": "stdout",
     "output_type": "stream",
     "text": [
      "Epoch 1/3\n",
      "Training Loss: 7.4534\n",
      "Epoch 2/3\n",
      "Training Loss: 7.3422\n",
      "Epoch 3/3\n"
     ]
    },
    {
     "ename": "KeyboardInterrupt",
     "evalue": "",
     "output_type": "error",
     "traceback": [
      "\u001B[1;31m---------------------------------------------------------------------------\u001B[0m",
      "\u001B[1;31mKeyboardInterrupt\u001B[0m                         Traceback (most recent call last)",
      "\u001B[1;32m~\\AppData\\Local\\Temp\\ipykernel_32160\\3183877904.py\u001B[0m in \u001B[0;36m?\u001B[1;34m()\u001B[0m\n\u001B[1;32m----> 1\u001B[1;33m \u001B[0mtrain_msupcl_model\u001B[0m\u001B[1;33m(\u001B[0m\u001B[0mmsupcl_model\u001B[0m\u001B[1;33m,\u001B[0m \u001B[0mmsupcl_train_generator\u001B[0m\u001B[1;33m,\u001B[0m \u001B[0mepochs\u001B[0m\u001B[1;33m=\u001B[0m\u001B[0mnum_epochs\u001B[0m\u001B[1;33m,\u001B[0m \u001B[0mtemperature\u001B[0m\u001B[1;33m=\u001B[0m\u001B[0mtemperature\u001B[0m\u001B[1;33m)\u001B[0m\u001B[1;33m\u001B[0m\u001B[1;33m\u001B[0m\u001B[0m\n\u001B[0m",
      "\u001B[1;32mF:\\study\\CSi\\2024fall\\5341\\project\\Autism-Diagnosis-Transfer-Learning\\model_train.py\u001B[0m in \u001B[0;36m?\u001B[1;34m(model, train_generator, epochs, temperature)\u001B[0m\n\u001B[0;32m     92\u001B[0m         \u001B[1;32mfor\u001B[0m \u001B[0mstep\u001B[0m \u001B[1;32min\u001B[0m \u001B[0mrange\u001B[0m\u001B[1;33m(\u001B[0m\u001B[0mlen\u001B[0m\u001B[1;33m(\u001B[0m\u001B[0mtrain_generator\u001B[0m\u001B[1;33m)\u001B[0m\u001B[1;33m)\u001B[0m\u001B[1;33m:\u001B[0m\u001B[1;33m\u001B[0m\u001B[1;33m\u001B[0m\u001B[0m\n\u001B[0;32m     93\u001B[0m             \u001B[0mX_batch\u001B[0m\u001B[1;33m,\u001B[0m \u001B[0my_batch\u001B[0m\u001B[1;33m,\u001B[0m \u001B[0mdataset_ids\u001B[0m \u001B[1;33m=\u001B[0m \u001B[0mtrain_generator\u001B[0m\u001B[1;33m[\u001B[0m\u001B[0mstep\u001B[0m\u001B[1;33m]\u001B[0m\u001B[1;33m\u001B[0m\u001B[1;33m\u001B[0m\u001B[0m\n\u001B[0;32m     94\u001B[0m             \u001B[1;32mwith\u001B[0m \u001B[0mtf\u001B[0m\u001B[1;33m.\u001B[0m\u001B[0mGradientTape\u001B[0m\u001B[1;33m(\u001B[0m\u001B[1;33m)\u001B[0m \u001B[1;32mas\u001B[0m \u001B[0mtape\u001B[0m\u001B[1;33m:\u001B[0m\u001B[1;33m\u001B[0m\u001B[1;33m\u001B[0m\u001B[0m\n\u001B[0;32m     95\u001B[0m                 \u001B[0mfeatures\u001B[0m \u001B[1;33m=\u001B[0m \u001B[0mmodel\u001B[0m\u001B[1;33m(\u001B[0m\u001B[0mX_batch\u001B[0m\u001B[1;33m,\u001B[0m \u001B[0mtraining\u001B[0m\u001B[1;33m=\u001B[0m\u001B[1;32mTrue\u001B[0m\u001B[1;33m)\u001B[0m\u001B[1;33m\u001B[0m\u001B[1;33m\u001B[0m\u001B[0m\n\u001B[1;32m---> 96\u001B[1;33m                 \u001B[0mloss\u001B[0m \u001B[1;33m=\u001B[0m \u001B[0msupervised_contrastive_loss\u001B[0m\u001B[1;33m(\u001B[0m\u001B[0my_batch\u001B[0m\u001B[1;33m,\u001B[0m \u001B[0mfeatures\u001B[0m\u001B[1;33m,\u001B[0m \u001B[0mdataset_ids\u001B[0m\u001B[1;33m,\u001B[0m \u001B[0mtemperature\u001B[0m\u001B[1;33m)\u001B[0m\u001B[1;33m\u001B[0m\u001B[1;33m\u001B[0m\u001B[0m\n\u001B[0m\u001B[0;32m     97\u001B[0m             \u001B[0mgradients\u001B[0m \u001B[1;33m=\u001B[0m \u001B[0mtape\u001B[0m\u001B[1;33m.\u001B[0m\u001B[0mgradient\u001B[0m\u001B[1;33m(\u001B[0m\u001B[0mloss\u001B[0m\u001B[1;33m,\u001B[0m \u001B[0mmodel\u001B[0m\u001B[1;33m.\u001B[0m\u001B[0mtrainable_variables\u001B[0m\u001B[1;33m)\u001B[0m\u001B[1;33m\u001B[0m\u001B[1;33m\u001B[0m\u001B[0m\n\u001B[0;32m     98\u001B[0m             \u001B[0moptimizer\u001B[0m\u001B[1;33m.\u001B[0m\u001B[0mapply_gradients\u001B[0m\u001B[1;33m(\u001B[0m\u001B[0mzip\u001B[0m\u001B[1;33m(\u001B[0m\u001B[0mgradients\u001B[0m\u001B[1;33m,\u001B[0m \u001B[0mmodel\u001B[0m\u001B[1;33m.\u001B[0m\u001B[0mtrainable_variables\u001B[0m\u001B[1;33m)\u001B[0m\u001B[1;33m)\u001B[0m\u001B[1;33m\u001B[0m\u001B[1;33m\u001B[0m\u001B[0m\n\u001B[0;32m     99\u001B[0m             \u001B[0mepoch_loss_avg\u001B[0m\u001B[1;33m.\u001B[0m\u001B[0mupdate_state\u001B[0m\u001B[1;33m(\u001B[0m\u001B[0mloss\u001B[0m\u001B[1;33m)\u001B[0m\u001B[1;33m\u001B[0m\u001B[1;33m\u001B[0m\u001B[0m\n",
      "\u001B[1;32m~\\anaconda3\\envs\\CSI5341\\lib\\site-packages\\keras\\utils\\traceback_utils.py\u001B[0m in \u001B[0;36m?\u001B[1;34m(*args, **kwargs)\u001B[0m\n\u001B[0;32m     68\u001B[0m             \u001B[1;31m# To get the full stack trace, call:\u001B[0m\u001B[1;33m\u001B[0m\u001B[1;33m\u001B[0m\u001B[0m\n\u001B[0;32m     69\u001B[0m             \u001B[1;31m# `tf.debugging.disable_traceback_filtering()`\u001B[0m\u001B[1;33m\u001B[0m\u001B[1;33m\u001B[0m\u001B[0m\n\u001B[0;32m     70\u001B[0m             \u001B[1;32mraise\u001B[0m \u001B[0me\u001B[0m\u001B[1;33m.\u001B[0m\u001B[0mwith_traceback\u001B[0m\u001B[1;33m(\u001B[0m\u001B[0mfiltered_tb\u001B[0m\u001B[1;33m)\u001B[0m \u001B[1;32mfrom\u001B[0m \u001B[1;32mNone\u001B[0m\u001B[1;33m\u001B[0m\u001B[1;33m\u001B[0m\u001B[0m\n\u001B[0;32m     71\u001B[0m         \u001B[1;32mfinally\u001B[0m\u001B[1;33m:\u001B[0m\u001B[1;33m\u001B[0m\u001B[1;33m\u001B[0m\u001B[0m\n\u001B[1;32m---> 72\u001B[1;33m             \u001B[1;32mdel\u001B[0m \u001B[0mfiltered_tb\u001B[0m\u001B[1;33m\u001B[0m\u001B[1;33m\u001B[0m\u001B[0m\n\u001B[0m",
      "\u001B[1;32m~\\anaconda3\\envs\\CSI5341\\lib\\site-packages\\keras\\engine\\training.py\u001B[0m in \u001B[0;36m?\u001B[1;34m(self, *args, **kwargs)\u001B[0m\n\u001B[0;32m    553\u001B[0m                 \u001B[0msuper\u001B[0m\u001B[1;33m(\u001B[0m\u001B[1;33m)\u001B[0m\u001B[1;33m.\u001B[0m\u001B[0m__call__\u001B[0m\u001B[1;33m(\u001B[0m\u001B[0minputs\u001B[0m\u001B[1;33m,\u001B[0m \u001B[1;33m*\u001B[0m\u001B[0mcopied_args\u001B[0m\u001B[1;33m,\u001B[0m \u001B[1;33m**\u001B[0m\u001B[0mcopied_kwargs\u001B[0m\u001B[1;33m)\u001B[0m\u001B[1;33m\u001B[0m\u001B[1;33m\u001B[0m\u001B[0m\n\u001B[0;32m    554\u001B[0m \u001B[1;33m\u001B[0m\u001B[0m\n\u001B[0;32m    555\u001B[0m             \u001B[0mlayout_map_lib\u001B[0m\u001B[1;33m.\u001B[0m\u001B[0m_map_subclass_model_variable\u001B[0m\u001B[1;33m(\u001B[0m\u001B[0mself\u001B[0m\u001B[1;33m,\u001B[0m \u001B[0mself\u001B[0m\u001B[1;33m.\u001B[0m\u001B[0m_layout_map\u001B[0m\u001B[1;33m)\u001B[0m\u001B[1;33m\u001B[0m\u001B[1;33m\u001B[0m\u001B[0m\n\u001B[0;32m    556\u001B[0m \u001B[1;33m\u001B[0m\u001B[0m\n\u001B[1;32m--> 557\u001B[1;33m         \u001B[1;32mreturn\u001B[0m \u001B[0msuper\u001B[0m\u001B[1;33m(\u001B[0m\u001B[1;33m)\u001B[0m\u001B[1;33m.\u001B[0m\u001B[0m__call__\u001B[0m\u001B[1;33m(\u001B[0m\u001B[1;33m*\u001B[0m\u001B[0margs\u001B[0m\u001B[1;33m,\u001B[0m \u001B[1;33m**\u001B[0m\u001B[0mkwargs\u001B[0m\u001B[1;33m)\u001B[0m\u001B[1;33m\u001B[0m\u001B[1;33m\u001B[0m\u001B[0m\n\u001B[0m",
      "\u001B[1;32m~\\anaconda3\\envs\\CSI5341\\lib\\site-packages\\keras\\utils\\traceback_utils.py\u001B[0m in \u001B[0;36m?\u001B[1;34m(*args, **kwargs)\u001B[0m\n\u001B[0;32m     68\u001B[0m             \u001B[1;31m# To get the full stack trace, call:\u001B[0m\u001B[1;33m\u001B[0m\u001B[1;33m\u001B[0m\u001B[0m\n\u001B[0;32m     69\u001B[0m             \u001B[1;31m# `tf.debugging.disable_traceback_filtering()`\u001B[0m\u001B[1;33m\u001B[0m\u001B[1;33m\u001B[0m\u001B[0m\n\u001B[0;32m     70\u001B[0m             \u001B[1;32mraise\u001B[0m \u001B[0me\u001B[0m\u001B[1;33m.\u001B[0m\u001B[0mwith_traceback\u001B[0m\u001B[1;33m(\u001B[0m\u001B[0mfiltered_tb\u001B[0m\u001B[1;33m)\u001B[0m \u001B[1;32mfrom\u001B[0m \u001B[1;32mNone\u001B[0m\u001B[1;33m\u001B[0m\u001B[1;33m\u001B[0m\u001B[0m\n\u001B[0;32m     71\u001B[0m         \u001B[1;32mfinally\u001B[0m\u001B[1;33m:\u001B[0m\u001B[1;33m\u001B[0m\u001B[1;33m\u001B[0m\u001B[0m\n\u001B[1;32m---> 72\u001B[1;33m             \u001B[1;32mdel\u001B[0m \u001B[0mfiltered_tb\u001B[0m\u001B[1;33m\u001B[0m\u001B[1;33m\u001B[0m\u001B[0m\n\u001B[0m",
      "\u001B[1;32m~\\anaconda3\\envs\\CSI5341\\lib\\site-packages\\keras\\engine\\base_layer.py\u001B[0m in \u001B[0;36m?\u001B[1;34m(self, *args, **kwargs)\u001B[0m\n\u001B[0;32m   1104\u001B[0m                     )\n\u001B[0;32m   1105\u001B[0m                 \u001B[1;32mif\u001B[0m \u001B[0mself\u001B[0m\u001B[1;33m.\u001B[0m\u001B[0m_saved_model_inputs_spec\u001B[0m \u001B[1;32mis\u001B[0m \u001B[1;32mNone\u001B[0m\u001B[1;33m:\u001B[0m\u001B[1;33m\u001B[0m\u001B[1;33m\u001B[0m\u001B[0m\n\u001B[0;32m   1106\u001B[0m                     \u001B[0mself\u001B[0m\u001B[1;33m.\u001B[0m\u001B[0m_set_save_spec\u001B[0m\u001B[1;33m(\u001B[0m\u001B[0minputs\u001B[0m\u001B[1;33m,\u001B[0m \u001B[0margs\u001B[0m\u001B[1;33m,\u001B[0m \u001B[0mkwargs\u001B[0m\u001B[1;33m)\u001B[0m\u001B[1;33m\u001B[0m\u001B[1;33m\u001B[0m\u001B[0m\n\u001B[0;32m   1107\u001B[0m \u001B[1;33m\u001B[0m\u001B[0m\n\u001B[1;32m-> 1108\u001B[1;33m                 \u001B[1;32mreturn\u001B[0m \u001B[0moutputs\u001B[0m\u001B[1;33m\u001B[0m\u001B[1;33m\u001B[0m\u001B[0m\n\u001B[0m",
      "\u001B[1;32m~\\anaconda3\\envs\\CSI5341\\lib\\site-packages\\keras\\utils\\traceback_utils.py\u001B[0m in \u001B[0;36m?\u001B[1;34m(*args, **kwargs)\u001B[0m\n\u001B[0;32m    154\u001B[0m                 \u001B[0mnew_e\u001B[0m \u001B[1;33m=\u001B[0m \u001B[0me\u001B[0m\u001B[1;33m\u001B[0m\u001B[1;33m\u001B[0m\u001B[0m\n\u001B[0;32m    155\u001B[0m             \u001B[1;32mraise\u001B[0m \u001B[0mnew_e\u001B[0m\u001B[1;33m.\u001B[0m\u001B[0mwith_traceback\u001B[0m\u001B[1;33m(\u001B[0m\u001B[0me\u001B[0m\u001B[1;33m.\u001B[0m\u001B[0m__traceback__\u001B[0m\u001B[1;33m)\u001B[0m \u001B[1;32mfrom\u001B[0m \u001B[1;32mNone\u001B[0m\u001B[1;33m\u001B[0m\u001B[1;33m\u001B[0m\u001B[0m\n\u001B[0;32m    156\u001B[0m         \u001B[1;32mfinally\u001B[0m\u001B[1;33m:\u001B[0m\u001B[1;33m\u001B[0m\u001B[1;33m\u001B[0m\u001B[0m\n\u001B[0;32m    157\u001B[0m             \u001B[1;32mdel\u001B[0m \u001B[0msignature\u001B[0m\u001B[1;33m\u001B[0m\u001B[1;33m\u001B[0m\u001B[0m\n\u001B[1;32m--> 158\u001B[1;33m             \u001B[1;32mdel\u001B[0m \u001B[0mbound_signature\u001B[0m\u001B[1;33m\u001B[0m\u001B[1;33m\u001B[0m\u001B[0m\n\u001B[0m",
      "\u001B[1;32m~\\anaconda3\\envs\\CSI5341\\lib\\site-packages\\keras\\engine\\functional.py\u001B[0m in \u001B[0;36m?\u001B[1;34m(self, inputs, training, mask)\u001B[0m\n\u001B[0;32m    506\u001B[0m         \u001B[0mReturns\u001B[0m\u001B[1;33m:\u001B[0m\u001B[1;33m\u001B[0m\u001B[1;33m\u001B[0m\u001B[0m\n\u001B[0;32m    507\u001B[0m             \u001B[0mA\u001B[0m \u001B[0mtensor\u001B[0m \u001B[1;32mif\u001B[0m \u001B[0mthere\u001B[0m \u001B[1;32mis\u001B[0m \u001B[0ma\u001B[0m \u001B[0msingle\u001B[0m \u001B[0moutput\u001B[0m\u001B[1;33m,\u001B[0m \u001B[1;32mor\u001B[0m\u001B[1;33m\u001B[0m\u001B[1;33m\u001B[0m\u001B[0m\n\u001B[0;32m    508\u001B[0m             \u001B[0ma\u001B[0m \u001B[0mlist\u001B[0m \u001B[0mof\u001B[0m \u001B[0mtensors\u001B[0m \u001B[1;32mif\u001B[0m \u001B[0mthere\u001B[0m \u001B[0mare\u001B[0m \u001B[0mmore\u001B[0m \u001B[0mthan\u001B[0m \u001B[0mone\u001B[0m \u001B[0moutputs\u001B[0m\u001B[1;33m.\u001B[0m\u001B[1;33m\u001B[0m\u001B[1;33m\u001B[0m\u001B[0m\n\u001B[0;32m    509\u001B[0m         \"\"\"\n\u001B[1;32m--> 510\u001B[1;33m         \u001B[1;32mreturn\u001B[0m \u001B[0mself\u001B[0m\u001B[1;33m.\u001B[0m\u001B[0m_run_internal_graph\u001B[0m\u001B[1;33m(\u001B[0m\u001B[0minputs\u001B[0m\u001B[1;33m,\u001B[0m \u001B[0mtraining\u001B[0m\u001B[1;33m=\u001B[0m\u001B[0mtraining\u001B[0m\u001B[1;33m,\u001B[0m \u001B[0mmask\u001B[0m\u001B[1;33m=\u001B[0m\u001B[0mmask\u001B[0m\u001B[1;33m)\u001B[0m\u001B[1;33m\u001B[0m\u001B[1;33m\u001B[0m\u001B[0m\n\u001B[0m",
      "\u001B[1;32m~\\anaconda3\\envs\\CSI5341\\lib\\site-packages\\keras\\engine\\functional.py\u001B[0m in \u001B[0;36m?\u001B[1;34m(self, inputs, training, mask)\u001B[0m\n\u001B[0;32m    663\u001B[0m                 \u001B[1;32mif\u001B[0m \u001B[0many\u001B[0m\u001B[1;33m(\u001B[0m\u001B[0mt_id\u001B[0m \u001B[1;32mnot\u001B[0m \u001B[1;32min\u001B[0m \u001B[0mtensor_dict\u001B[0m \u001B[1;32mfor\u001B[0m \u001B[0mt_id\u001B[0m \u001B[1;32min\u001B[0m \u001B[0mnode\u001B[0m\u001B[1;33m.\u001B[0m\u001B[0mflat_input_ids\u001B[0m\u001B[1;33m)\u001B[0m\u001B[1;33m:\u001B[0m\u001B[1;33m\u001B[0m\u001B[1;33m\u001B[0m\u001B[0m\n\u001B[0;32m    664\u001B[0m                     \u001B[1;32mcontinue\u001B[0m  \u001B[1;31m# Node is not computable, try skipping.\u001B[0m\u001B[1;33m\u001B[0m\u001B[1;33m\u001B[0m\u001B[0m\n\u001B[0;32m    665\u001B[0m \u001B[1;33m\u001B[0m\u001B[0m\n\u001B[0;32m    666\u001B[0m                 \u001B[0margs\u001B[0m\u001B[1;33m,\u001B[0m \u001B[0mkwargs\u001B[0m \u001B[1;33m=\u001B[0m \u001B[0mnode\u001B[0m\u001B[1;33m.\u001B[0m\u001B[0mmap_arguments\u001B[0m\u001B[1;33m(\u001B[0m\u001B[0mtensor_dict\u001B[0m\u001B[1;33m)\u001B[0m\u001B[1;33m\u001B[0m\u001B[1;33m\u001B[0m\u001B[0m\n\u001B[1;32m--> 667\u001B[1;33m                 \u001B[0moutputs\u001B[0m \u001B[1;33m=\u001B[0m \u001B[0mnode\u001B[0m\u001B[1;33m.\u001B[0m\u001B[0mlayer\u001B[0m\u001B[1;33m(\u001B[0m\u001B[1;33m*\u001B[0m\u001B[0margs\u001B[0m\u001B[1;33m,\u001B[0m \u001B[1;33m**\u001B[0m\u001B[0mkwargs\u001B[0m\u001B[1;33m)\u001B[0m\u001B[1;33m\u001B[0m\u001B[1;33m\u001B[0m\u001B[0m\n\u001B[0m\u001B[0;32m    668\u001B[0m \u001B[1;33m\u001B[0m\u001B[0m\n\u001B[0;32m    669\u001B[0m                 \u001B[1;31m# Update tensor_dict.\u001B[0m\u001B[1;33m\u001B[0m\u001B[1;33m\u001B[0m\u001B[0m\n\u001B[0;32m    670\u001B[0m                 for x_id, y in zip(\n",
      "\u001B[1;32m~\\anaconda3\\envs\\CSI5341\\lib\\site-packages\\keras\\utils\\traceback_utils.py\u001B[0m in \u001B[0;36m?\u001B[1;34m(*args, **kwargs)\u001B[0m\n\u001B[0;32m     68\u001B[0m             \u001B[1;31m# To get the full stack trace, call:\u001B[0m\u001B[1;33m\u001B[0m\u001B[1;33m\u001B[0m\u001B[0m\n\u001B[0;32m     69\u001B[0m             \u001B[1;31m# `tf.debugging.disable_traceback_filtering()`\u001B[0m\u001B[1;33m\u001B[0m\u001B[1;33m\u001B[0m\u001B[0m\n\u001B[0;32m     70\u001B[0m             \u001B[1;32mraise\u001B[0m \u001B[0me\u001B[0m\u001B[1;33m.\u001B[0m\u001B[0mwith_traceback\u001B[0m\u001B[1;33m(\u001B[0m\u001B[0mfiltered_tb\u001B[0m\u001B[1;33m)\u001B[0m \u001B[1;32mfrom\u001B[0m \u001B[1;32mNone\u001B[0m\u001B[1;33m\u001B[0m\u001B[1;33m\u001B[0m\u001B[0m\n\u001B[0;32m     71\u001B[0m         \u001B[1;32mfinally\u001B[0m\u001B[1;33m:\u001B[0m\u001B[1;33m\u001B[0m\u001B[1;33m\u001B[0m\u001B[0m\n\u001B[1;32m---> 72\u001B[1;33m             \u001B[1;32mdel\u001B[0m \u001B[0mfiltered_tb\u001B[0m\u001B[1;33m\u001B[0m\u001B[1;33m\u001B[0m\u001B[0m\n\u001B[0m",
      "\u001B[1;32m~\\anaconda3\\envs\\CSI5341\\lib\\site-packages\\keras\\engine\\base_layer.py\u001B[0m in \u001B[0;36m?\u001B[1;34m(self, *args, **kwargs)\u001B[0m\n\u001B[0;32m   1104\u001B[0m                     )\n\u001B[0;32m   1105\u001B[0m                 \u001B[1;32mif\u001B[0m \u001B[0mself\u001B[0m\u001B[1;33m.\u001B[0m\u001B[0m_saved_model_inputs_spec\u001B[0m \u001B[1;32mis\u001B[0m \u001B[1;32mNone\u001B[0m\u001B[1;33m:\u001B[0m\u001B[1;33m\u001B[0m\u001B[1;33m\u001B[0m\u001B[0m\n\u001B[0;32m   1106\u001B[0m                     \u001B[0mself\u001B[0m\u001B[1;33m.\u001B[0m\u001B[0m_set_save_spec\u001B[0m\u001B[1;33m(\u001B[0m\u001B[0minputs\u001B[0m\u001B[1;33m,\u001B[0m \u001B[0margs\u001B[0m\u001B[1;33m,\u001B[0m \u001B[0mkwargs\u001B[0m\u001B[1;33m)\u001B[0m\u001B[1;33m\u001B[0m\u001B[1;33m\u001B[0m\u001B[0m\n\u001B[0;32m   1107\u001B[0m \u001B[1;33m\u001B[0m\u001B[0m\n\u001B[1;32m-> 1108\u001B[1;33m                 \u001B[1;32mreturn\u001B[0m \u001B[0moutputs\u001B[0m\u001B[1;33m\u001B[0m\u001B[1;33m\u001B[0m\u001B[0m\n\u001B[0m",
      "\u001B[1;32m~\\anaconda3\\envs\\CSI5341\\lib\\site-packages\\keras\\utils\\traceback_utils.py\u001B[0m in \u001B[0;36m?\u001B[1;34m(*args, **kwargs)\u001B[0m\n\u001B[0;32m    154\u001B[0m                 \u001B[0mnew_e\u001B[0m \u001B[1;33m=\u001B[0m \u001B[0me\u001B[0m\u001B[1;33m\u001B[0m\u001B[1;33m\u001B[0m\u001B[0m\n\u001B[0;32m    155\u001B[0m             \u001B[1;32mraise\u001B[0m \u001B[0mnew_e\u001B[0m\u001B[1;33m.\u001B[0m\u001B[0mwith_traceback\u001B[0m\u001B[1;33m(\u001B[0m\u001B[0me\u001B[0m\u001B[1;33m.\u001B[0m\u001B[0m__traceback__\u001B[0m\u001B[1;33m)\u001B[0m \u001B[1;32mfrom\u001B[0m \u001B[1;32mNone\u001B[0m\u001B[1;33m\u001B[0m\u001B[1;33m\u001B[0m\u001B[0m\n\u001B[0;32m    156\u001B[0m         \u001B[1;32mfinally\u001B[0m\u001B[1;33m:\u001B[0m\u001B[1;33m\u001B[0m\u001B[1;33m\u001B[0m\u001B[0m\n\u001B[0;32m    157\u001B[0m             \u001B[1;32mdel\u001B[0m \u001B[0msignature\u001B[0m\u001B[1;33m\u001B[0m\u001B[1;33m\u001B[0m\u001B[0m\n\u001B[1;32m--> 158\u001B[1;33m             \u001B[1;32mdel\u001B[0m \u001B[0mbound_signature\u001B[0m\u001B[1;33m\u001B[0m\u001B[1;33m\u001B[0m\u001B[0m\n\u001B[0m",
      "\u001B[1;32m~\\anaconda3\\envs\\CSI5341\\lib\\site-packages\\keras\\layers\\activation\\relu.py\u001B[0m in \u001B[0;36m?\u001B[1;34m(self, inputs)\u001B[0m\n\u001B[0;32m    102\u001B[0m     \u001B[1;32mdef\u001B[0m \u001B[0mcall\u001B[0m\u001B[1;33m(\u001B[0m\u001B[0mself\u001B[0m\u001B[1;33m,\u001B[0m \u001B[0minputs\u001B[0m\u001B[1;33m)\u001B[0m\u001B[1;33m:\u001B[0m\u001B[1;33m\u001B[0m\u001B[1;33m\u001B[0m\u001B[0m\n\u001B[0;32m    103\u001B[0m         \u001B[1;31m# alpha is used for leaky relu slope in activations instead of\u001B[0m\u001B[1;33m\u001B[0m\u001B[1;33m\u001B[0m\u001B[0m\n\u001B[0;32m    104\u001B[0m         \u001B[1;31m# negative_slope.\u001B[0m\u001B[1;33m\u001B[0m\u001B[1;33m\u001B[0m\u001B[0m\n\u001B[1;32m--> 105\u001B[1;33m         return backend.relu(\n\u001B[0m\u001B[0;32m    106\u001B[0m             \u001B[0minputs\u001B[0m\u001B[1;33m,\u001B[0m\u001B[1;33m\u001B[0m\u001B[1;33m\u001B[0m\u001B[0m\n\u001B[0;32m    107\u001B[0m             \u001B[0malpha\u001B[0m\u001B[1;33m=\u001B[0m\u001B[0mself\u001B[0m\u001B[1;33m.\u001B[0m\u001B[0mnegative_slope\u001B[0m\u001B[1;33m,\u001B[0m\u001B[1;33m\u001B[0m\u001B[1;33m\u001B[0m\u001B[0m\n\u001B[0;32m    108\u001B[0m             \u001B[0mmax_value\u001B[0m\u001B[1;33m=\u001B[0m\u001B[0mself\u001B[0m\u001B[1;33m.\u001B[0m\u001B[0mmax_value\u001B[0m\u001B[1;33m,\u001B[0m\u001B[1;33m\u001B[0m\u001B[1;33m\u001B[0m\u001B[0m\n",
      "\u001B[1;32m~\\anaconda3\\envs\\CSI5341\\lib\\site-packages\\tensorflow\\python\\util\\traceback_utils.py\u001B[0m in \u001B[0;36m?\u001B[1;34m(*args, **kwargs)\u001B[0m\n\u001B[0;32m    151\u001B[0m     \u001B[1;32mexcept\u001B[0m \u001B[0mException\u001B[0m \u001B[1;32mas\u001B[0m \u001B[0me\u001B[0m\u001B[1;33m:\u001B[0m\u001B[1;33m\u001B[0m\u001B[1;33m\u001B[0m\u001B[0m\n\u001B[0;32m    152\u001B[0m       \u001B[0mfiltered_tb\u001B[0m \u001B[1;33m=\u001B[0m \u001B[0m_process_traceback_frames\u001B[0m\u001B[1;33m(\u001B[0m\u001B[0me\u001B[0m\u001B[1;33m.\u001B[0m\u001B[0m__traceback__\u001B[0m\u001B[1;33m)\u001B[0m\u001B[1;33m\u001B[0m\u001B[1;33m\u001B[0m\u001B[0m\n\u001B[0;32m    153\u001B[0m       \u001B[1;32mraise\u001B[0m \u001B[0me\u001B[0m\u001B[1;33m.\u001B[0m\u001B[0mwith_traceback\u001B[0m\u001B[1;33m(\u001B[0m\u001B[0mfiltered_tb\u001B[0m\u001B[1;33m)\u001B[0m \u001B[1;32mfrom\u001B[0m \u001B[1;32mNone\u001B[0m\u001B[1;33m\u001B[0m\u001B[1;33m\u001B[0m\u001B[0m\n\u001B[0;32m    154\u001B[0m     \u001B[1;32mfinally\u001B[0m\u001B[1;33m:\u001B[0m\u001B[1;33m\u001B[0m\u001B[1;33m\u001B[0m\u001B[0m\n\u001B[1;32m--> 155\u001B[1;33m       \u001B[1;32mdel\u001B[0m \u001B[0mfiltered_tb\u001B[0m\u001B[1;33m\u001B[0m\u001B[1;33m\u001B[0m\u001B[0m\n\u001B[0m",
      "\u001B[1;32m~\\anaconda3\\envs\\CSI5341\\lib\\site-packages\\tensorflow\\python\\util\\dispatch.py\u001B[0m in \u001B[0;36m?\u001B[1;34m(*args, **kwargs)\u001B[0m\n\u001B[0;32m   1180\u001B[0m         \u001B[0mresult\u001B[0m \u001B[1;33m=\u001B[0m \u001B[0mdispatch\u001B[0m\u001B[1;33m(\u001B[0m\u001B[0mop_dispatch_handler\u001B[0m\u001B[1;33m,\u001B[0m \u001B[0margs\u001B[0m\u001B[1;33m,\u001B[0m \u001B[0mkwargs\u001B[0m\u001B[1;33m)\u001B[0m\u001B[1;33m\u001B[0m\u001B[1;33m\u001B[0m\u001B[0m\n\u001B[0;32m   1181\u001B[0m         \u001B[1;32mif\u001B[0m \u001B[0mresult\u001B[0m \u001B[1;32mis\u001B[0m \u001B[1;32mnot\u001B[0m \u001B[0mOpDispatcher\u001B[0m\u001B[1;33m.\u001B[0m\u001B[0mNOT_SUPPORTED\u001B[0m\u001B[1;33m:\u001B[0m\u001B[1;33m\u001B[0m\u001B[1;33m\u001B[0m\u001B[0m\n\u001B[0;32m   1182\u001B[0m           \u001B[1;32mreturn\u001B[0m \u001B[0mresult\u001B[0m\u001B[1;33m\u001B[0m\u001B[1;33m\u001B[0m\u001B[0m\n\u001B[0;32m   1183\u001B[0m         \u001B[1;32melse\u001B[0m\u001B[1;33m:\u001B[0m\u001B[1;33m\u001B[0m\u001B[1;33m\u001B[0m\u001B[0m\n\u001B[1;32m-> 1184\u001B[1;33m           \u001B[1;32mraise\u001B[0m\u001B[1;33m\u001B[0m\u001B[1;33m\u001B[0m\u001B[0m\n\u001B[0m",
      "\u001B[1;32m~\\anaconda3\\envs\\CSI5341\\lib\\site-packages\\keras\\backend.py\u001B[0m in \u001B[0;36m?\u001B[1;34m(x, alpha, max_value, threshold)\u001B[0m\n\u001B[0;32m   5362\u001B[0m         \u001B[1;31m# if no threshold, then can use nn.relu6 native TF op for performance\u001B[0m\u001B[1;33m\u001B[0m\u001B[1;33m\u001B[0m\u001B[0m\n\u001B[0;32m   5363\u001B[0m         \u001B[0mx\u001B[0m \u001B[1;33m=\u001B[0m \u001B[0mtf\u001B[0m\u001B[1;33m.\u001B[0m\u001B[0mnn\u001B[0m\u001B[1;33m.\u001B[0m\u001B[0mrelu6\u001B[0m\u001B[1;33m(\u001B[0m\u001B[0mx\u001B[0m\u001B[1;33m)\u001B[0m\u001B[1;33m\u001B[0m\u001B[1;33m\u001B[0m\u001B[0m\n\u001B[0;32m   5364\u001B[0m         \u001B[0mclip_max\u001B[0m \u001B[1;33m=\u001B[0m \u001B[1;32mFalse\u001B[0m\u001B[1;33m\u001B[0m\u001B[1;33m\u001B[0m\u001B[0m\n\u001B[0;32m   5365\u001B[0m     \u001B[1;32melse\u001B[0m\u001B[1;33m:\u001B[0m\u001B[1;33m\u001B[0m\u001B[1;33m\u001B[0m\u001B[0m\n\u001B[1;32m-> 5366\u001B[1;33m         \u001B[0mx\u001B[0m \u001B[1;33m=\u001B[0m \u001B[0mtf\u001B[0m\u001B[1;33m.\u001B[0m\u001B[0mnn\u001B[0m\u001B[1;33m.\u001B[0m\u001B[0mrelu\u001B[0m\u001B[1;33m(\u001B[0m\u001B[0mx\u001B[0m\u001B[1;33m)\u001B[0m\u001B[1;33m\u001B[0m\u001B[1;33m\u001B[0m\u001B[0m\n\u001B[0m\u001B[0;32m   5367\u001B[0m \u001B[1;33m\u001B[0m\u001B[0m\n\u001B[0;32m   5368\u001B[0m     \u001B[1;32mif\u001B[0m \u001B[0mclip_max\u001B[0m\u001B[1;33m:\u001B[0m\u001B[1;33m\u001B[0m\u001B[1;33m\u001B[0m\u001B[0m\n\u001B[0;32m   5369\u001B[0m         \u001B[0mmax_value\u001B[0m \u001B[1;33m=\u001B[0m \u001B[0m_constant_to_tensor\u001B[0m\u001B[1;33m(\u001B[0m\u001B[0mmax_value\u001B[0m\u001B[1;33m,\u001B[0m \u001B[0mx\u001B[0m\u001B[1;33m.\u001B[0m\u001B[0mdtype\u001B[0m\u001B[1;33m.\u001B[0m\u001B[0mbase_dtype\u001B[0m\u001B[1;33m)\u001B[0m\u001B[1;33m\u001B[0m\u001B[1;33m\u001B[0m\u001B[0m\n",
      "\u001B[1;32m~\\anaconda3\\envs\\CSI5341\\lib\\site-packages\\tensorflow\\python\\ops\\gen_nn_ops.py\u001B[0m in \u001B[0;36m?\u001B[1;34m(features, name)\u001B[0m\n\u001B[0;32m  10712\u001B[0m       \u001B[1;32mreturn\u001B[0m \u001B[0m_result\u001B[0m\u001B[1;33m\u001B[0m\u001B[1;33m\u001B[0m\u001B[0m\n\u001B[0;32m  10713\u001B[0m     \u001B[1;32mexcept\u001B[0m \u001B[0m_core\u001B[0m\u001B[1;33m.\u001B[0m\u001B[0m_NotOkStatusException\u001B[0m \u001B[1;32mas\u001B[0m \u001B[0me\u001B[0m\u001B[1;33m:\u001B[0m\u001B[1;33m\u001B[0m\u001B[1;33m\u001B[0m\u001B[0m\n\u001B[0;32m  10714\u001B[0m       \u001B[0m_ops\u001B[0m\u001B[1;33m.\u001B[0m\u001B[0mraise_from_not_ok_status\u001B[0m\u001B[1;33m(\u001B[0m\u001B[0me\u001B[0m\u001B[1;33m,\u001B[0m \u001B[0mname\u001B[0m\u001B[1;33m)\u001B[0m\u001B[1;33m\u001B[0m\u001B[1;33m\u001B[0m\u001B[0m\n\u001B[0;32m  10715\u001B[0m     \u001B[1;32mexcept\u001B[0m \u001B[0m_core\u001B[0m\u001B[1;33m.\u001B[0m\u001B[0m_FallbackException\u001B[0m\u001B[1;33m:\u001B[0m\u001B[1;33m\u001B[0m\u001B[1;33m\u001B[0m\u001B[0m\n\u001B[1;32m> 10716\u001B[1;33m       \u001B[1;32mpass\u001B[0m\u001B[1;33m\u001B[0m\u001B[1;33m\u001B[0m\u001B[0m\n\u001B[0m\u001B[0;32m  10717\u001B[0m     \u001B[1;32mtry\u001B[0m\u001B[1;33m:\u001B[0m\u001B[1;33m\u001B[0m\u001B[1;33m\u001B[0m\u001B[0m\n\u001B[0;32m  10718\u001B[0m       _result = _dispatcher_for_relu(\n\u001B[0;32m  10719\u001B[0m           (features, name,), None)\n",
      "\u001B[1;31mKeyboardInterrupt\u001B[0m: "
     ]
    }
   ],
   "execution_count": 36
  },
  {
   "metadata": {
    "ExecuteTime": {
     "end_time": "2024-11-14T21:53:08.229506700Z",
     "start_time": "2024-11-14T19:47:15.313178Z"
    }
   },
   "cell_type": "code",
   "source": [
    "# Linear evaluation on both datasets\n",
    "msupcl_r2p1d_result_violence, msupcl_r2p1d_result_tiktok = linear_evaluation(\n",
    "    msupcl_model_r2p1d,\n",
    "    combined_train_generator,\n",
    "    violence_test_generator,\n",
    "    tiktok_test_generator,\n",
    "    num_classes=num_classes,\n",
    ")\n",
    "\n",
    "print(f\"MSupCL R(2+1)D Violence Dataset - Test Accuracy: {msupcl_r2p1d_result_violence[1]:.4f}\")\n",
    "print(f\"MSupCL R(2+1)D TikTok Dataset - Test Accuracy: {msupcl_r2p1d_result_tiktok[1]:.4f}\")\n",
    "\n"
   ],
   "id": "ac5b7bcdcbc1a5ca",
   "outputs": [
    {
     "name": "stdout",
     "output_type": "stream",
     "text": [
      "Epoch 1/5\n",
      "27/27 [==============================] - 28s 1000ms/step - loss: 0.6929 - accuracy: 0.5278\n",
      "Epoch 2/5\n",
      "27/27 [==============================] - 26s 981ms/step - loss: 0.6929 - accuracy: 0.5185\n",
      "Epoch 3/5\n",
      "27/27 [==============================] - 25s 945ms/step - loss: 0.6918 - accuracy: 0.5278\n",
      "Epoch 4/5\n",
      "27/27 [==============================] - 25s 952ms/step - loss: 0.6918 - accuracy: 0.5231\n",
      "Epoch 5/5\n",
      "27/27 [==============================] - 26s 962ms/step - loss: 0.6912 - accuracy: 0.5278\n",
      "Evaluating on Violence Test Set:\n",
      "7/7 [==============================] - 4s 519ms/step - loss: 0.6929 - accuracy: 0.5357\n",
      "Violence Test Loss: 0.6928600072860718, Test Accuracy: 0.5357142686843872\n",
      "Evaluating on TikTok Test Set:\n",
      "7/7 [==============================] - 9s 1s/step - loss: 0.6928 - accuracy: 0.4643\n",
      "TikTok Test Loss: 0.6928288340568542, Test Accuracy: 0.4642857015132904\n"
     ]
    }
   ],
   "execution_count": 34
  },
  {
   "metadata": {},
   "cell_type": "markdown",
   "source": "### SSCL with R(2+1)D-18 Model",
   "id": "6cd082a4f1f73331"
  },
  {
   "metadata": {
    "ExecuteTime": {
     "end_time": "2024-11-14T21:53:08.229506700Z",
     "start_time": "2024-11-14T20:31:47.140735Z"
    }
   },
   "cell_type": "code",
   "source": [
    "# Load the SSCL model with R(2+1)D backbone\n",
    "sscl_model_r2p1d = load_sscl_r2plus1d_model(input_shape=input_shape, feature_dim=feature_dim)\n",
    "print(\"SSCL Model with R(2+1)D Backbone Summary:\")\n",
    "sscl_model_r2p1d.summary()"
   ],
   "id": "cf20d6d700e5396a",
   "outputs": [],
   "execution_count": 13
  },
  {
   "metadata": {
    "ExecuteTime": {
     "end_time": "2024-11-14T21:53:08.229506700Z",
     "start_time": "2024-11-14T20:31:48.567711Z"
    }
   },
   "cell_type": "code",
   "source": [
    "# Train SSCL model on Violence dataset\n",
    "train_simclr_model(sscl_model_r2p1d, violence_train_sscl_generator, epochs=num_epochs, temperature=temperature)\n"
   ],
   "id": "ead618d9c3c7421b",
   "outputs": [
    {
     "name": "stdout",
     "output_type": "stream",
     "text": [
      "Epoch 1/3\n",
      "Epoch 1, Loss: 1.9036\n",
      "Epoch 2/3\n",
      "Epoch 2, Loss: 1.7317\n",
      "Epoch 3/3\n",
      "Epoch 3, Loss: 1.8153\n"
     ]
    }
   ],
   "execution_count": 14
  },
  {
   "metadata": {
    "ExecuteTime": {
     "end_time": "2024-11-14T21:53:08.229506700Z",
     "start_time": "2024-11-14T20:33:33.330193Z"
    }
   },
   "cell_type": "code",
   "source": [
    "# Linear evaluation on Violence dataset\n",
    "sscl_r2p1d_result_violence = linear_evaluation_sscl(\n",
    "    sscl_model_r2p1d,\n",
    "    violence_train_single_sscl_generator,\n",
    "    violence_val_sscl_generator,\n",
    "    violence_test_sscl_generator,\n",
    "    num_classes=num_classes,\n",
    ")\n",
    "\n",
    "print(f\"SSCL R(2+1)D Violence Dataset - Test Accuracy: {sscl_r2p1d_result_violence[1]:.4f}\")\n"
   ],
   "id": "812a8989c62d155b",
   "outputs": [
    {
     "name": "stdout",
     "output_type": "stream",
     "text": [
      "Epoch 1/3\n",
      "13/13 [==============================] - 25s 2s/step - loss: 0.7587 - accuracy: 0.4808 - val_loss: 0.6889 - val_accuracy: 0.5833\n",
      "Epoch 2/3\n",
      "13/13 [==============================] - 23s 2s/step - loss: 0.7337 - accuracy: 0.5000 - val_loss: 0.6801 - val_accuracy: 0.5833\n",
      "Epoch 3/3\n",
      "13/13 [==============================] - 21s 2s/step - loss: 0.7222 - accuracy: 0.5000 - val_loss: 0.6838 - val_accuracy: 0.5833\n",
      "7/7 [==============================] - 11s 2s/step - loss: 0.7312 - accuracy: 0.4643\n",
      "Test Loss: 0.7312026619911194, Test Accuracy: 0.4642857015132904\n"
     ]
    }
   ],
   "execution_count": 15
  },
  {
   "metadata": {},
   "cell_type": "markdown",
   "source": "### Train and Evaluate SSCL Model on TikTok Dataset",
   "id": "c0d99318056c3f17"
  },
  {
   "metadata": {
    "ExecuteTime": {
     "end_time": "2024-11-14T21:53:08.230507700Z",
     "start_time": "2024-11-14T20:34:56.847692Z"
    }
   },
   "cell_type": "code",
   "source": [
    "# Train SSCL model on TikTok dataset\n",
    "train_simclr_model(sscl_model_r2p1d, tiktok_train_sscl_generator, epochs=num_epochs, temperature=temperature)\n"
   ],
   "id": "d5d3dc50b18e8d17",
   "outputs": [
    {
     "name": "stdout",
     "output_type": "stream",
     "text": [
      "Epoch 1/3\n"
     ]
    },
    {
     "ename": "KeyboardInterrupt",
     "evalue": "",
     "output_type": "error",
     "traceback": [
      "\u001B[1;31m---------------------------------------------------------------------------\u001B[0m",
      "\u001B[1;31mKeyboardInterrupt\u001B[0m                         Traceback (most recent call last)",
      "Cell \u001B[1;32mIn[16], line 1\u001B[0m\n\u001B[1;32m----> 1\u001B[0m \u001B[43mtrain_simclr_model\u001B[49m\u001B[43m(\u001B[49m\u001B[43msscl_model\u001B[49m\u001B[43m,\u001B[49m\u001B[43m \u001B[49m\u001B[43mtiktok_train_sscl_generator\u001B[49m\u001B[43m,\u001B[49m\u001B[43m \u001B[49m\u001B[43mepochs\u001B[49m\u001B[38;5;241;43m=\u001B[39;49m\u001B[43mnum_epochs\u001B[49m\u001B[43m,\u001B[49m\u001B[43m \u001B[49m\u001B[43mtemperature\u001B[49m\u001B[38;5;241;43m=\u001B[39;49m\u001B[43mtemperature\u001B[49m\u001B[43m)\u001B[49m\n",
      "File \u001B[1;32mF:\\study\\CSi\\2024fall\\5341\\project\\Autism-Diagnosis-Transfer-Learning\\model_train.py:215\u001B[0m, in \u001B[0;36mtrain_simclr_model\u001B[1;34m(model, train_generator, epochs, temperature)\u001B[0m\n\u001B[0;32m    213\u001B[0m epoch_loss_avg \u001B[38;5;241m=\u001B[39m tf\u001B[38;5;241m.\u001B[39mkeras\u001B[38;5;241m.\u001B[39mmetrics\u001B[38;5;241m.\u001B[39mMean()\n\u001B[0;32m    214\u001B[0m \u001B[38;5;28;01mfor\u001B[39;00m step \u001B[38;5;129;01min\u001B[39;00m \u001B[38;5;28mrange\u001B[39m(\u001B[38;5;28mlen\u001B[39m(train_generator)):\n\u001B[1;32m--> 215\u001B[0m     (x_i, x_j), _ \u001B[38;5;241m=\u001B[39m \u001B[43mtrain_generator\u001B[49m\u001B[43m[\u001B[49m\u001B[43mstep\u001B[49m\u001B[43m]\u001B[49m\n\u001B[0;32m    216\u001B[0m     \u001B[38;5;28;01mwith\u001B[39;00m tf\u001B[38;5;241m.\u001B[39mGradientTape() \u001B[38;5;28;01mas\u001B[39;00m tape:\n\u001B[0;32m    217\u001B[0m         \u001B[38;5;66;03m# 获取投影后的特征\u001B[39;00m\n\u001B[0;32m    218\u001B[0m         _, z_i \u001B[38;5;241m=\u001B[39m model(x_i, training\u001B[38;5;241m=\u001B[39m\u001B[38;5;28;01mTrue\u001B[39;00m)\n",
      "File \u001B[1;32mF:\\study\\CSi\\2024fall\\5341\\project\\Autism-Diagnosis-Transfer-Learning\\data_uniform_sscl.py:56\u001B[0m, in \u001B[0;36mSSCLVideoDataGenerator.__getitem__\u001B[1;34m(self, index)\u001B[0m\n\u001B[0;32m     54\u001B[0m frames_aug2 \u001B[38;5;241m=\u001B[39m \u001B[38;5;28;01mNone\u001B[39;00m\n\u001B[0;32m     55\u001B[0m \u001B[38;5;28;01mif\u001B[39;00m \u001B[38;5;28mself\u001B[39m\u001B[38;5;241m.\u001B[39mdouble_view:\n\u001B[1;32m---> 56\u001B[0m     frames_aug2 \u001B[38;5;241m=\u001B[39m \u001B[38;5;28;43mself\u001B[39;49m\u001B[38;5;241;43m.\u001B[39;49m\u001B[43maugment_frames\u001B[49m\u001B[43m(\u001B[49m\u001B[43mframes\u001B[49m\u001B[43m)\u001B[49m\n\u001B[0;32m     58\u001B[0m \u001B[38;5;66;03m# 预处理帧\u001B[39;00m\n\u001B[0;32m     59\u001B[0m frames_aug1 \u001B[38;5;241m=\u001B[39m \u001B[38;5;28mself\u001B[39m\u001B[38;5;241m.\u001B[39mpreprocess_frames(frames_aug1)\n",
      "File \u001B[1;32mF:\\study\\CSi\\2024fall\\5341\\project\\Autism-Diagnosis-Transfer-Learning\\data_uniform_sscl.py:109\u001B[0m, in \u001B[0;36mSSCLVideoDataGenerator.augment_frames\u001B[1;34m(self, frames)\u001B[0m\n\u001B[0;32m    106\u001B[0m augmented_frames \u001B[38;5;241m=\u001B[39m []\n\u001B[0;32m    107\u001B[0m \u001B[38;5;28;01mfor\u001B[39;00m frame \u001B[38;5;129;01min\u001B[39;00m frames:\n\u001B[0;32m    108\u001B[0m     \u001B[38;5;66;03m# 随机颜色抖动\u001B[39;00m\n\u001B[1;32m--> 109\u001B[0m     frame \u001B[38;5;241m=\u001B[39m \u001B[38;5;28;43mself\u001B[39;49m\u001B[38;5;241;43m.\u001B[39;49m\u001B[43mcolor_jitter\u001B[49m\u001B[43m(\u001B[49m\u001B[43mframe\u001B[49m\u001B[43m)\u001B[49m\n\u001B[0;32m    110\u001B[0m     \u001B[38;5;66;03m# 随机灰度化\u001B[39;00m\n\u001B[0;32m    111\u001B[0m     \u001B[38;5;28;01mif\u001B[39;00m random\u001B[38;5;241m.\u001B[39mrandom() \u001B[38;5;241m<\u001B[39m \u001B[38;5;241m0.2\u001B[39m:\n",
      "File \u001B[1;32mF:\\study\\CSi\\2024fall\\5341\\project\\Autism-Diagnosis-Transfer-Learning\\data_uniform_sscl.py:236\u001B[0m, in \u001B[0;36mSSCLVideoDataGenerator.color_jitter\u001B[1;34m(self, frame)\u001B[0m\n\u001B[0;32m    234\u001B[0m \u001B[38;5;28;01mif\u001B[39;00m random\u001B[38;5;241m.\u001B[39mrandom() \u001B[38;5;241m<\u001B[39m \u001B[38;5;241m0.8\u001B[39m:\n\u001B[0;32m    235\u001B[0m     hue_factor \u001B[38;5;241m=\u001B[39m random\u001B[38;5;241m.\u001B[39muniform(\u001B[38;5;241m-\u001B[39m\u001B[38;5;241m0.1\u001B[39m, \u001B[38;5;241m0.1\u001B[39m)\n\u001B[1;32m--> 236\u001B[0m     img \u001B[38;5;241m=\u001B[39m np\u001B[38;5;241m.\u001B[39marray(\u001B[43mimg\u001B[49m\u001B[38;5;241;43m.\u001B[39;49m\u001B[43mconvert\u001B[49m\u001B[43m(\u001B[49m\u001B[38;5;124;43m'\u001B[39;49m\u001B[38;5;124;43mHSV\u001B[39;49m\u001B[38;5;124;43m'\u001B[39;49m\u001B[43m)\u001B[49m)\n\u001B[0;32m    237\u001B[0m     img[:, :, \u001B[38;5;241m0\u001B[39m] \u001B[38;5;241m=\u001B[39m (img[:, :, \u001B[38;5;241m0\u001B[39m]\u001B[38;5;241m.\u001B[39mastype(\u001B[38;5;28mint\u001B[39m) \u001B[38;5;241m+\u001B[39m \u001B[38;5;28mint\u001B[39m(hue_factor \u001B[38;5;241m*\u001B[39m \u001B[38;5;241m255\u001B[39m)) \u001B[38;5;241m%\u001B[39m \u001B[38;5;241m255\u001B[39m\n\u001B[0;32m    238\u001B[0m     img \u001B[38;5;241m=\u001B[39m Image\u001B[38;5;241m.\u001B[39mfromarray(img, mode\u001B[38;5;241m=\u001B[39m\u001B[38;5;124m'\u001B[39m\u001B[38;5;124mHSV\u001B[39m\u001B[38;5;124m'\u001B[39m)\u001B[38;5;241m.\u001B[39mconvert(\u001B[38;5;124m'\u001B[39m\u001B[38;5;124mRGB\u001B[39m\u001B[38;5;124m'\u001B[39m)\n",
      "File \u001B[1;32m~\\anaconda3\\envs\\CSI5341\\lib\\site-packages\\PIL\\Image.py:1152\u001B[0m, in \u001B[0;36mImage.convert\u001B[1;34m(self, mode, matrix, dither, palette, colors)\u001B[0m\n\u001B[0;32m   1149\u001B[0m     dither \u001B[38;5;241m=\u001B[39m Dither\u001B[38;5;241m.\u001B[39mFLOYDSTEINBERG\n\u001B[0;32m   1151\u001B[0m \u001B[38;5;28;01mtry\u001B[39;00m:\n\u001B[1;32m-> 1152\u001B[0m     im \u001B[38;5;241m=\u001B[39m \u001B[38;5;28;43mself\u001B[39;49m\u001B[38;5;241;43m.\u001B[39;49m\u001B[43mim\u001B[49m\u001B[38;5;241;43m.\u001B[39;49m\u001B[43mconvert\u001B[49m\u001B[43m(\u001B[49m\u001B[43mmode\u001B[49m\u001B[43m,\u001B[49m\u001B[43m \u001B[49m\u001B[43mdither\u001B[49m\u001B[43m)\u001B[49m\n\u001B[0;32m   1153\u001B[0m \u001B[38;5;28;01mexcept\u001B[39;00m \u001B[38;5;167;01mValueError\u001B[39;00m:\n\u001B[0;32m   1154\u001B[0m     \u001B[38;5;28;01mtry\u001B[39;00m:\n\u001B[0;32m   1155\u001B[0m         \u001B[38;5;66;03m# normalize source image and try again\u001B[39;00m\n",
      "\u001B[1;31mKeyboardInterrupt\u001B[0m: "
     ]
    }
   ],
   "execution_count": 16
  },
  {
   "metadata": {},
   "cell_type": "code",
   "outputs": [],
   "execution_count": null,
   "source": [
    "# Linear evaluation on TikTok dataset\n",
    "sscl_r2p1d_result_tiktok = linear_evaluation_sscl(\n",
    "    sscl_model_r2p1d,\n",
    "    tiktok_train_single_sscl_generator,\n",
    "    tiktok_val_sscl_generator,\n",
    "    tiktok_test_sscl_generator,\n",
    "    num_classes=num_classes,\n",
    ")\n",
    "\n",
    "print(f\"SSCL R(2+1)D TikTok Dataset - Test Accuracy: {sscl_r2p1d_result_tiktok[1]:.4f}\")\n"
   ],
   "id": "e5634628036f2721"
  },
  {
   "metadata": {},
   "cell_type": "markdown",
   "source": "## Summary of Results",
   "id": "b63718ac68805c91"
  },
  {
   "metadata": {},
   "cell_type": "code",
   "outputs": [],
   "execution_count": null,
   "source": [
    "# Create a summary table of results\n",
    "import pandas as pd\n",
    "\n",
    "results = {\n",
    "    'Model': ['Baseline C3D', 'MSupCL C3D', 'SSCL C3D', 'Baseline R(2+1)D', 'MSupCL R(2+1)D', 'SSCL R(2+1)D'],\n",
    "    'Violence Accuracy': [\n",
    "        base_c3d_results_violence[1],\n",
    "        msupcl_c3d_result_violence[1],\n",
    "        sscl_c3d_result_violence[1],\n",
    "        base_r2plus1d_results_violence[1],\n",
    "        msupcl_r2p1d_result_violence[1],\n",
    "        sscl_r2p1d_result_violence[1],\n",
    "    ],\n",
    "    'TikTok Accuracy': [\n",
    "        base_c3d_results_tiktok[1],\n",
    "        msupcl_c3d_result_tiktok[1],\n",
    "        sscl_c3d_result_tiktok[1],\n",
    "        base_r2plus1d_results_tiktok[1],\n",
    "        msupcl_r2p1d_result_tiktok[1],\n",
    "        sscl_r2p1d_result_tiktok[1],\n",
    "    ]\n",
    "}\n",
    "\n",
    "results_df = pd.DataFrame(results)\n",
    "print(results_df)"
   ],
   "id": "3ed5c181273289f5"
  },
  {
   "metadata": {},
   "cell_type": "code",
   "outputs": [],
   "execution_count": null,
   "source": [
    "# Plot the accuracies\n",
    "plt.figure(figsize=(10, 6))\n",
    "x = np.arange(len(results_df['Model']))\n",
    "width = 0.35\n",
    "\n",
    "plt.bar(x - width/2, results_df['Violence Accuracy'], width, label='Violence Dataset')\n",
    "plt.bar(x + width/2, results_df['TikTok Accuracy'], width, label='TikTok Dataset')\n",
    "\n",
    "plt.ylabel('Accuracy')\n",
    "plt.title('Comparison of Models on Violence and TikTok Datasets')\n",
    "plt.xticks(x, results_df['Model'], rotation=45)\n",
    "plt.legend()\n",
    "plt.tight_layout()\n",
    "plt.show()"
   ],
   "id": "117b445268ba30b9"
  }
 ],
 "metadata": {
  "kernelspec": {
   "display_name": "Python 3",
   "language": "python",
   "name": "python3"
  },
  "language_info": {
   "codemirror_mode": {
    "name": "ipython",
    "version": 2
   },
   "file_extension": ".py",
   "mimetype": "text/x-python",
   "name": "python",
   "nbconvert_exporter": "python",
   "pygments_lexer": "ipython2",
   "version": "2.7.6"
  }
 },
 "nbformat": 4,
 "nbformat_minor": 5
}
